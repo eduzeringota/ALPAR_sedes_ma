{
 "cells": [
  {
   "cell_type": "markdown",
   "metadata": {},
   "source": [
    "# <font color='red'>SEDES - Gerador de Dados</font>"
   ]
  },
  {
   "cell_type": "markdown",
   "metadata": {},
   "source": [
    "# <font color='blue'>1.0 import</font>"
   ]
  },
  {
   "cell_type": "code",
   "execution_count": 1,
   "metadata": {
    "ExecuteTime": {
     "end_time": "2021-06-22T16:25:17.132119Z",
     "start_time": "2021-06-22T16:25:15.810207Z"
    }
   },
   "outputs": [],
   "source": [
    "import csv\n",
    "import os\n",
    "import pandas as pd\n",
    "import random as rd\n",
    "import datetime as dt\n",
    "from dateutil.relativedelta import relativedelta"
   ]
  },
  {
   "cell_type": "markdown",
   "metadata": {},
   "source": [
    "# <font color='blue'>2.0 parâmetros de ambiente</font>"
   ]
  },
  {
   "cell_type": "code",
   "execution_count": 2,
   "metadata": {
    "ExecuteTime": {
     "end_time": "2021-06-22T16:25:18.482385Z",
     "start_time": "2021-06-22T16:25:18.479147Z"
    }
   },
   "outputs": [],
   "source": [
    "amb_windows = False\n",
    "\n",
    "HOME_PASTA = '' if amb_windows else os.path.expanduser(\"~\")"
   ]
  },
  {
   "cell_type": "code",
   "execution_count": 3,
   "metadata": {
    "ExecuteTime": {
     "end_time": "2021-06-22T16:25:19.090888Z",
     "start_time": "2021-06-22T16:25:19.087030Z"
    }
   },
   "outputs": [],
   "source": [
    "# campo de negócio no BI\n",
    "ORGAO_GESTOR = 'orgaoGestorDaPoliticaDeAssistenciaSocial'\n",
    "\n",
    "# data inicial de simulação\n",
    "DATA_INICIAL = (2018, 1, 1)\n",
    "\n",
    "# tabelas gerais\n",
    "n_orgao_gestor = (6, 11) # quantidade de orgãos gestores possíveis para a tabela de orgãos gestores\n",
    "\n",
    "# formulários respondidos\n",
    "form_resp = (80, 100) # % de formulários respondidos\n",
    "orgao_gestor = (1, 3) # possibilidades de orgão gestor por município a cada data de referência\n",
    "campos_por_form = (50, 150) # quantidade de campos por formulário sem contar os identificados para o BI"
   ]
  },
  {
   "cell_type": "markdown",
   "metadata": {},
   "source": [
    "# <font color='blue'>3.0 extração</font>"
   ]
  },
  {
   "cell_type": "markdown",
   "metadata": {},
   "source": [
    "## 3.1 extracao de dados externo"
   ]
  },
  {
   "cell_type": "code",
   "execution_count": 4,
   "metadata": {
    "ExecuteTime": {
     "end_time": "2021-06-22T16:25:21.222950Z",
     "start_time": "2021-06-22T16:25:21.206358Z"
    },
    "scrolled": false
   },
   "outputs": [
    {
     "name": "stdout",
     "output_type": "stream",
     "text": [
      "municipios:              linhas = 217 , colunas = 4 \n",
      "instrumentos de gestão:  linhas = 5 , colunas = 1 \n"
     ]
    }
   ],
   "source": [
    "# abrindo os arquivos...\n",
    "caminho_in = '../dados/apoio/'\n",
    "caminho_out = '../dados/simulacao/'\n",
    "\n",
    "arq_municipios = caminho_in + \"tab_municipios.csv\"\n",
    "arq_instr_gestao = caminho_in + \"tab_instr_gestao.csv\"\n",
    "\n",
    "df_municipios = pd.read_csv(arq_municipios, sep = ',', dtype = str)\n",
    "df_instr_gestao = pd.read_csv(arq_instr_gestao, sep = ',', dtype = str)\n",
    "\n",
    "print(\"municipios:              linhas = %s , colunas = %s \" % df_municipios.shape)\n",
    "print(\"instrumentos de gestão:  linhas = %s , colunas = %s \" % df_instr_gestao.shape)"
   ]
  },
  {
   "cell_type": "markdown",
   "metadata": {},
   "source": [
    "# <font color='blue'>4.0 transformação</font>"
   ]
  },
  {
   "cell_type": "markdown",
   "metadata": {},
   "source": [
    "## 4.1 tabelas principais"
   ]
  },
  {
   "cell_type": "markdown",
   "metadata": {},
   "source": [
    "### 4.1.1 tabela de datas dos protocolos"
   ]
  },
  {
   "cell_type": "code",
   "execution_count": 5,
   "metadata": {
    "ExecuteTime": {
     "end_time": "2021-06-22T16:25:24.590427Z",
     "start_time": "2021-06-22T16:25:24.558314Z"
    }
   },
   "outputs": [
    {
     "data": {
      "text/plain": [
       "(1268, 1)"
      ]
     },
     "execution_count": 5,
     "metadata": {},
     "output_type": "execute_result"
    }
   ],
   "source": [
    "# cria a sequência de datas de referência passada\n",
    "dt_inicial = dt.date(DATA_INICIAL[0], DATA_INICIAL[1], DATA_INICIAL[2])\n",
    "lst_datas = []\n",
    "dt_atual = dt_inicial\n",
    "\n",
    "while dt_atual < dt.date.today():\n",
    "    lst_datas.append(dt_atual)\n",
    "    dt_atual = dt_atual + relativedelta(days = 1)\n",
    "df_tb_datas = pd.DataFrame(lst_datas, columns=['dt_protocolo'])\n",
    "df_tb_datas.shape"
   ]
  },
  {
   "cell_type": "markdown",
   "metadata": {},
   "source": [
    "### 4.1.2 tabela de municípios"
   ]
  },
  {
   "cell_type": "code",
   "execution_count": 6,
   "metadata": {
    "ExecuteTime": {
     "end_time": "2021-06-22T16:25:28.812342Z",
     "start_time": "2021-06-22T16:25:28.806798Z"
    }
   },
   "outputs": [
    {
     "data": {
      "text/plain": [
       "(217, 1)"
      ]
     },
     "execution_count": 6,
     "metadata": {},
     "output_type": "execute_result"
    }
   ],
   "source": [
    "# campo identificado = municipio\n",
    "df_tb_municipios = pd.DataFrame(df_municipios['city'])\n",
    "df_tb_municipios.columns = ['municipio']\n",
    "df_tb_municipios.shape"
   ]
  },
  {
   "cell_type": "markdown",
   "metadata": {},
   "source": [
    "### 4.1.3 tabela de \"Orgãos Gestores\""
   ]
  },
  {
   "cell_type": "code",
   "execution_count": 7,
   "metadata": {
    "ExecuteTime": {
     "end_time": "2021-06-22T16:25:33.345407Z",
     "start_time": "2021-06-22T16:25:33.340570Z"
    }
   },
   "outputs": [
    {
     "data": {
      "text/plain": [
       "['Orgão Gestor 01',\n",
       " 'Orgão Gestor 02',\n",
       " 'Orgão Gestor 03',\n",
       " 'Orgão Gestor 04',\n",
       " 'Orgão Gestor 05',\n",
       " 'Orgão Gestor 06']"
      ]
     },
     "execution_count": 7,
     "metadata": {},
     "output_type": "execute_result"
    }
   ],
   "source": [
    "# cria uma tabela de orgãos gestores possíveis\n",
    "# quantidade de orgão gestores na tabela\n",
    "\n",
    "lst_OG = ['Orgão Gestor ' + str(x + 1).zfill(2) for x in range(rd.randint(n_orgao_gestor[0], n_orgao_gestor[1]))]\n",
    "lst_OG"
   ]
  },
  {
   "cell_type": "markdown",
   "metadata": {},
   "source": [
    "### 4.1.4 tabela de nomes de campos dos formulários"
   ]
  },
  {
   "cell_type": "code",
   "execution_count": 8,
   "metadata": {
    "ExecuteTime": {
     "end_time": "2021-06-22T16:25:46.615185Z",
     "start_time": "2021-06-22T16:25:46.596279Z"
    }
   },
   "outputs": [
    {
     "data": {
      "text/html": [
       "<div>\n",
       "<style scoped>\n",
       "    .dataframe tbody tr th:only-of-type {\n",
       "        vertical-align: middle;\n",
       "    }\n",
       "\n",
       "    .dataframe tbody tr th {\n",
       "        vertical-align: top;\n",
       "    }\n",
       "\n",
       "    .dataframe thead th {\n",
       "        text-align: right;\n",
       "    }\n",
       "</style>\n",
       "<table border=\"1\" class=\"dataframe\">\n",
       "  <thead>\n",
       "    <tr style=\"text-align: right;\">\n",
       "      <th></th>\n",
       "      <th>atributo</th>\n",
       "      <th>valor</th>\n",
       "      <th>tipo</th>\n",
       "    </tr>\n",
       "  </thead>\n",
       "  <tbody>\n",
       "    <tr>\n",
       "      <th>0</th>\n",
       "      <td>col_0</td>\n",
       "      <td>valor_col_0</td>\n",
       "      <td>STRING</td>\n",
       "    </tr>\n",
       "    <tr>\n",
       "      <th>1</th>\n",
       "      <td>col_1</td>\n",
       "      <td>valor_col_1</td>\n",
       "      <td>STRING</td>\n",
       "    </tr>\n",
       "    <tr>\n",
       "      <th>2</th>\n",
       "      <td>col_2</td>\n",
       "      <td>valor_col_2</td>\n",
       "      <td>STRING</td>\n",
       "    </tr>\n",
       "    <tr>\n",
       "      <th>3</th>\n",
       "      <td>col_3</td>\n",
       "      <td>valor_col_3</td>\n",
       "      <td>STRING</td>\n",
       "    </tr>\n",
       "    <tr>\n",
       "      <th>4</th>\n",
       "      <td>col_4</td>\n",
       "      <td>valor_col_4</td>\n",
       "      <td>STRING</td>\n",
       "    </tr>\n",
       "  </tbody>\n",
       "</table>\n",
       "</div>"
      ],
      "text/plain": [
       "  atributo        valor    tipo\n",
       "0    col_0  valor_col_0  STRING\n",
       "1    col_1  valor_col_1  STRING\n",
       "2    col_2  valor_col_2  STRING\n",
       "3    col_3  valor_col_3  STRING\n",
       "4    col_4  valor_col_4  STRING"
      ]
     },
     "execution_count": 8,
     "metadata": {},
     "output_type": "execute_result"
    }
   ],
   "source": [
    "# gera nomes de colunas possíveis no set de dados\n",
    "tot_cols = rd.randint(campos_por_form[0], campos_por_form[1])\n",
    "\n",
    "lst = []\n",
    "for i in range(tot_cols):\n",
    "    lx = ['col_' + str(i), 'valor_col_' + str(i), 'STRING']\n",
    "    lst.append(lx)\n",
    "df_tb_colunas = pd.DataFrame(lst, columns=['atributo', 'valor', 'tipo'])\n",
    "df_tb_colunas.head()"
   ]
  },
  {
   "cell_type": "markdown",
   "metadata": {},
   "source": [
    "# 4.2 grade de combinações genéricas"
   ]
  },
  {
   "cell_type": "markdown",
   "metadata": {},
   "source": [
    "### 4.2.1 combinação Tabela de Datas x Colunas Diversas"
   ]
  },
  {
   "cell_type": "code",
   "execution_count": 11,
   "metadata": {
    "ExecuteTime": {
     "end_time": "2021-06-22T16:31:12.742776Z",
     "start_time": "2021-06-22T16:31:12.706964Z"
    }
   },
   "outputs": [
    {
     "data": {
      "text/html": [
       "<div>\n",
       "<style scoped>\n",
       "    .dataframe tbody tr th:only-of-type {\n",
       "        vertical-align: middle;\n",
       "    }\n",
       "\n",
       "    .dataframe tbody tr th {\n",
       "        vertical-align: top;\n",
       "    }\n",
       "\n",
       "    .dataframe thead th {\n",
       "        text-align: right;\n",
       "    }\n",
       "</style>\n",
       "<table border=\"1\" class=\"dataframe\">\n",
       "  <thead>\n",
       "    <tr style=\"text-align: right;\">\n",
       "      <th></th>\n",
       "      <th>dt_protocolo</th>\n",
       "      <th>atributo</th>\n",
       "      <th>valor</th>\n",
       "      <th>tipo</th>\n",
       "    </tr>\n",
       "  </thead>\n",
       "  <tbody>\n",
       "    <tr>\n",
       "      <th>0</th>\n",
       "      <td>2018-01-01</td>\n",
       "      <td>col_0</td>\n",
       "      <td>valor_col_0</td>\n",
       "      <td>STRING</td>\n",
       "    </tr>\n",
       "    <tr>\n",
       "      <th>1</th>\n",
       "      <td>2018-01-01</td>\n",
       "      <td>col_1</td>\n",
       "      <td>valor_col_1</td>\n",
       "      <td>STRING</td>\n",
       "    </tr>\n",
       "    <tr>\n",
       "      <th>2</th>\n",
       "      <td>2018-01-01</td>\n",
       "      <td>col_2</td>\n",
       "      <td>valor_col_2</td>\n",
       "      <td>STRING</td>\n",
       "    </tr>\n",
       "    <tr>\n",
       "      <th>3</th>\n",
       "      <td>2018-01-01</td>\n",
       "      <td>col_3</td>\n",
       "      <td>valor_col_3</td>\n",
       "      <td>STRING</td>\n",
       "    </tr>\n",
       "    <tr>\n",
       "      <th>4</th>\n",
       "      <td>2018-01-01</td>\n",
       "      <td>col_4</td>\n",
       "      <td>valor_col_4</td>\n",
       "      <td>STRING</td>\n",
       "    </tr>\n",
       "    <tr>\n",
       "      <th>...</th>\n",
       "      <td>...</td>\n",
       "      <td>...</td>\n",
       "      <td>...</td>\n",
       "      <td>...</td>\n",
       "    </tr>\n",
       "    <tr>\n",
       "      <th>138207</th>\n",
       "      <td>2021-06-21</td>\n",
       "      <td>col_104</td>\n",
       "      <td>valor_col_104</td>\n",
       "      <td>STRING</td>\n",
       "    </tr>\n",
       "    <tr>\n",
       "      <th>138208</th>\n",
       "      <td>2021-06-21</td>\n",
       "      <td>col_105</td>\n",
       "      <td>valor_col_105</td>\n",
       "      <td>STRING</td>\n",
       "    </tr>\n",
       "    <tr>\n",
       "      <th>138209</th>\n",
       "      <td>2021-06-21</td>\n",
       "      <td>col_106</td>\n",
       "      <td>valor_col_106</td>\n",
       "      <td>STRING</td>\n",
       "    </tr>\n",
       "    <tr>\n",
       "      <th>138210</th>\n",
       "      <td>2021-06-21</td>\n",
       "      <td>col_107</td>\n",
       "      <td>valor_col_107</td>\n",
       "      <td>STRING</td>\n",
       "    </tr>\n",
       "    <tr>\n",
       "      <th>138211</th>\n",
       "      <td>2021-06-21</td>\n",
       "      <td>col_108</td>\n",
       "      <td>valor_col_108</td>\n",
       "      <td>STRING</td>\n",
       "    </tr>\n",
       "  </tbody>\n",
       "</table>\n",
       "<p>138212 rows × 4 columns</p>\n",
       "</div>"
      ],
      "text/plain": [
       "       dt_protocolo atributo          valor    tipo\n",
       "0        2018-01-01    col_0    valor_col_0  STRING\n",
       "1        2018-01-01    col_1    valor_col_1  STRING\n",
       "2        2018-01-01    col_2    valor_col_2  STRING\n",
       "3        2018-01-01    col_3    valor_col_3  STRING\n",
       "4        2018-01-01    col_4    valor_col_4  STRING\n",
       "...             ...      ...            ...     ...\n",
       "138207   2021-06-21  col_104  valor_col_104  STRING\n",
       "138208   2021-06-21  col_105  valor_col_105  STRING\n",
       "138209   2021-06-21  col_106  valor_col_106  STRING\n",
       "138210   2021-06-21  col_107  valor_col_107  STRING\n",
       "138211   2021-06-21  col_108  valor_col_108  STRING\n",
       "\n",
       "[138212 rows x 4 columns]"
      ]
     },
     "execution_count": 11,
     "metadata": {},
     "output_type": "execute_result"
    }
   ],
   "source": [
    "# faz um cross merge entre datas e colunas diversas\n",
    "df_aux = pd.merge(df_tb_datas, df_tb_colunas, how='cross')\n",
    "df_aux\n"
   ]
  },
  {
   "cell_type": "markdown",
   "metadata": {},
   "source": [
    "### 4.2.1 combinação Tabela de Datas x Tabela de Municípios"
   ]
  },
  {
   "cell_type": "code",
   "execution_count": 10,
   "metadata": {
    "ExecuteTime": {
     "end_time": "2021-06-22T11:51:40.166608Z",
     "start_time": "2021-06-22T11:51:39.285656Z"
    }
   },
   "outputs": [
    {
     "name": "stdout",
     "output_type": "stream",
     "text": [
      "(239386, 3)\n"
     ]
    },
    {
     "data": {
      "text/html": [
       "<div>\n",
       "<style scoped>\n",
       "    .dataframe tbody tr th:only-of-type {\n",
       "        vertical-align: middle;\n",
       "    }\n",
       "\n",
       "    .dataframe tbody tr th {\n",
       "        vertical-align: top;\n",
       "    }\n",
       "\n",
       "    .dataframe thead th {\n",
       "        text-align: right;\n",
       "    }\n",
       "</style>\n",
       "<table border=\"1\" class=\"dataframe\">\n",
       "  <thead>\n",
       "    <tr style=\"text-align: right;\">\n",
       "      <th></th>\n",
       "      <th>dt_ref</th>\n",
       "      <th>municipio</th>\n",
       "      <th>protocolo</th>\n",
       "    </tr>\n",
       "  </thead>\n",
       "  <tbody>\n",
       "    <tr>\n",
       "      <th>81933</th>\n",
       "      <td>2019-01-13</td>\n",
       "      <td>Montes Altos</td>\n",
       "      <td>pct_81933</td>\n",
       "    </tr>\n",
       "    <tr>\n",
       "      <th>125349</th>\n",
       "      <td>2019-08-01</td>\n",
       "      <td>Araioses</td>\n",
       "      <td>pct_125349</td>\n",
       "    </tr>\n",
       "    <tr>\n",
       "      <th>78015</th>\n",
       "      <td>2018-12-26</td>\n",
       "      <td>Santa Helena</td>\n",
       "      <td>pct_78015</td>\n",
       "    </tr>\n",
       "    <tr>\n",
       "      <th>255355</th>\n",
       "      <td>2021-03-22</td>\n",
       "      <td>Fortuna</td>\n",
       "      <td>pct_255355</td>\n",
       "    </tr>\n",
       "    <tr>\n",
       "      <th>210371</th>\n",
       "      <td>2020-08-27</td>\n",
       "      <td>Coroatá</td>\n",
       "      <td>pct_210371</td>\n",
       "    </tr>\n",
       "  </tbody>\n",
       "</table>\n",
       "</div>"
      ],
      "text/plain": [
       "            dt_ref     municipio   protocolo\n",
       "81933   2019-01-13  Montes Altos   pct_81933\n",
       "125349  2019-08-01      Araioses  pct_125349\n",
       "78015   2018-12-26  Santa Helena   pct_78015\n",
       "255355  2021-03-22       Fortuna  pct_255355\n",
       "210371  2020-08-27       Coroatá  pct_210371"
      ]
     },
     "metadata": {},
     "output_type": "display_data"
    }
   ],
   "source": [
    "# faz um cross merge entre datas e municípios\n",
    "df_aux = pd.merge(df_tb_datas, df_tb_municipios, how='cross')\n",
    "\n",
    "# retira uma porcentagem da amostra\n",
    "qtd_retira = rd.randint(form_resp[0], form_resp[1]) / 100\n",
    "\n",
    "df_aux = df_aux.sample(frac=qtd_retira)\n",
    "\n",
    "# gera um protocolo para cada combinação de dt_ref e município\n",
    "df_aux['protocolo'] = df_aux.apply(lambda x: 'pct_' + str(x.name), axis=1)\n",
    "print(df_aux.shape)\n",
    "display(df_aux.head())"
   ]
  },
  {
   "cell_type": "markdown",
   "metadata": {},
   "source": [
    "### 4.2.2 acrescenta a dimensão colunas genéricas"
   ]
  },
  {
   "cell_type": "code",
   "execution_count": 11,
   "metadata": {
    "ExecuteTime": {
     "end_time": "2021-06-22T11:51:43.200961Z",
     "start_time": "2021-06-22T11:51:40.168629Z"
    }
   },
   "outputs": [
    {
     "name": "stdout",
     "output_type": "stream",
     "text": [
      "(13645002, 6)\n"
     ]
    },
    {
     "data": {
      "text/html": [
       "<div>\n",
       "<style scoped>\n",
       "    .dataframe tbody tr th:only-of-type {\n",
       "        vertical-align: middle;\n",
       "    }\n",
       "\n",
       "    .dataframe tbody tr th {\n",
       "        vertical-align: top;\n",
       "    }\n",
       "\n",
       "    .dataframe thead th {\n",
       "        text-align: right;\n",
       "    }\n",
       "</style>\n",
       "<table border=\"1\" class=\"dataframe\">\n",
       "  <thead>\n",
       "    <tr style=\"text-align: right;\">\n",
       "      <th></th>\n",
       "      <th>dt_ref</th>\n",
       "      <th>municipio</th>\n",
       "      <th>protocolo</th>\n",
       "      <th>atributo</th>\n",
       "      <th>valor</th>\n",
       "      <th>tipo</th>\n",
       "    </tr>\n",
       "  </thead>\n",
       "  <tbody>\n",
       "    <tr>\n",
       "      <th>0</th>\n",
       "      <td>2019-01-13</td>\n",
       "      <td>Montes Altos</td>\n",
       "      <td>pct_81933</td>\n",
       "      <td>col_0</td>\n",
       "      <td>valor_col_0</td>\n",
       "      <td>STRING</td>\n",
       "    </tr>\n",
       "    <tr>\n",
       "      <th>1</th>\n",
       "      <td>2019-01-13</td>\n",
       "      <td>Montes Altos</td>\n",
       "      <td>pct_81933</td>\n",
       "      <td>col_1</td>\n",
       "      <td>valor_col_1</td>\n",
       "      <td>STRING</td>\n",
       "    </tr>\n",
       "    <tr>\n",
       "      <th>2</th>\n",
       "      <td>2019-01-13</td>\n",
       "      <td>Montes Altos</td>\n",
       "      <td>pct_81933</td>\n",
       "      <td>col_2</td>\n",
       "      <td>valor_col_2</td>\n",
       "      <td>STRING</td>\n",
       "    </tr>\n",
       "    <tr>\n",
       "      <th>3</th>\n",
       "      <td>2019-01-13</td>\n",
       "      <td>Montes Altos</td>\n",
       "      <td>pct_81933</td>\n",
       "      <td>col_3</td>\n",
       "      <td>valor_col_3</td>\n",
       "      <td>STRING</td>\n",
       "    </tr>\n",
       "    <tr>\n",
       "      <th>4</th>\n",
       "      <td>2019-01-13</td>\n",
       "      <td>Montes Altos</td>\n",
       "      <td>pct_81933</td>\n",
       "      <td>col_4</td>\n",
       "      <td>valor_col_4</td>\n",
       "      <td>STRING</td>\n",
       "    </tr>\n",
       "  </tbody>\n",
       "</table>\n",
       "</div>"
      ],
      "text/plain": [
       "       dt_ref     municipio  protocolo atributo        valor    tipo\n",
       "0  2019-01-13  Montes Altos  pct_81933    col_0  valor_col_0  STRING\n",
       "1  2019-01-13  Montes Altos  pct_81933    col_1  valor_col_1  STRING\n",
       "2  2019-01-13  Montes Altos  pct_81933    col_2  valor_col_2  STRING\n",
       "3  2019-01-13  Montes Altos  pct_81933    col_3  valor_col_3  STRING\n",
       "4  2019-01-13  Montes Altos  pct_81933    col_4  valor_col_4  STRING"
      ]
     },
     "metadata": {},
     "output_type": "display_data"
    }
   ],
   "source": [
    "# para cada protocolo gera linhas de colunas\n",
    "df = pd.merge(df_aux, df_tb_colunas, how='cross')\n",
    "print(df.shape)\n",
    "display(df.head())"
   ]
  },
  {
   "cell_type": "markdown",
   "metadata": {},
   "source": [
    "# 4.3 grade de combinações de campos usados no BI"
   ]
  },
  {
   "cell_type": "markdown",
   "metadata": {},
   "source": [
    "### 4.3.1 acrescenta campos \"Orgão Gestos\""
   ]
  },
  {
   "cell_type": "code",
   "execution_count": 12,
   "metadata": {
    "ExecuteTime": {
     "end_time": "2021-06-22T11:51:43.216401Z",
     "start_time": "2021-06-22T11:51:43.203309Z"
    }
   },
   "outputs": [
    {
     "data": {
      "text/plain": [
       "(239386, 3)"
      ]
     },
     "execution_count": 12,
     "metadata": {},
     "output_type": "execute_result"
    }
   ],
   "source": [
    "df_tmp = df_aux.copy()\n",
    "df_tmp.shape"
   ]
  },
  {
   "cell_type": "code",
   "execution_count": 13,
   "metadata": {
    "ExecuteTime": {
     "end_time": "2021-06-22T11:51:44.107163Z",
     "start_time": "2021-06-22T11:51:43.218644Z"
    }
   },
   "outputs": [
    {
     "data": {
      "text/plain": [
       "(239386, 3)"
      ]
     },
     "execution_count": 13,
     "metadata": {},
     "output_type": "execute_result"
    }
   ],
   "source": [
    "lst = []\n",
    "for i in range(df_aux.shape[0]):\n",
    "    lst.append([ORGAO_GESTOR, rd.sample(lst_OG, k=1)[0], 'STRING'])\n",
    "df1 = pd.DataFrame(lst, columns=['atributo', 'valor', 'tipo'])\n",
    "df1.shape"
   ]
  },
  {
   "cell_type": "code",
   "execution_count": 14,
   "metadata": {
    "ExecuteTime": {
     "end_time": "2021-06-22T11:51:44.186311Z",
     "start_time": "2021-06-22T11:51:44.110628Z"
    }
   },
   "outputs": [
    {
     "data": {
      "text/plain": [
       "(239386, 6)"
      ]
     },
     "execution_count": 14,
     "metadata": {},
     "output_type": "execute_result"
    }
   ],
   "source": [
    "df2 = pd.concat([df_tmp.reset_index(drop=True), df1.reset_index(drop=True)], axis = 1)\n",
    "df2.shape"
   ]
  },
  {
   "cell_type": "code",
   "execution_count": 15,
   "metadata": {
    "ExecuteTime": {
     "end_time": "2021-06-22T11:51:44.215006Z",
     "start_time": "2021-06-22T11:51:44.189418Z"
    }
   },
   "outputs": [
    {
     "data": {
      "text/html": [
       "<div>\n",
       "<style scoped>\n",
       "    .dataframe tbody tr th:only-of-type {\n",
       "        vertical-align: middle;\n",
       "    }\n",
       "\n",
       "    .dataframe tbody tr th {\n",
       "        vertical-align: top;\n",
       "    }\n",
       "\n",
       "    .dataframe thead th {\n",
       "        text-align: right;\n",
       "    }\n",
       "</style>\n",
       "<table border=\"1\" class=\"dataframe\">\n",
       "  <thead>\n",
       "    <tr style=\"text-align: right;\">\n",
       "      <th></th>\n",
       "      <th>dt_ref</th>\n",
       "      <th>municipio</th>\n",
       "      <th>protocolo</th>\n",
       "      <th>atributo</th>\n",
       "      <th>valor</th>\n",
       "      <th>tipo</th>\n",
       "    </tr>\n",
       "  </thead>\n",
       "  <tbody>\n",
       "    <tr>\n",
       "      <th>0</th>\n",
       "      <td>2019-01-13</td>\n",
       "      <td>Montes Altos</td>\n",
       "      <td>pct_81933</td>\n",
       "      <td>orgaoGestorDaPoliticaDeAssistenciaSocial</td>\n",
       "      <td>Orgão Gestor 11</td>\n",
       "      <td>STRING</td>\n",
       "    </tr>\n",
       "    <tr>\n",
       "      <th>1</th>\n",
       "      <td>2019-08-01</td>\n",
       "      <td>Araioses</td>\n",
       "      <td>pct_125349</td>\n",
       "      <td>orgaoGestorDaPoliticaDeAssistenciaSocial</td>\n",
       "      <td>Orgão Gestor 06</td>\n",
       "      <td>STRING</td>\n",
       "    </tr>\n",
       "    <tr>\n",
       "      <th>2</th>\n",
       "      <td>2018-12-26</td>\n",
       "      <td>Santa Helena</td>\n",
       "      <td>pct_78015</td>\n",
       "      <td>orgaoGestorDaPoliticaDeAssistenciaSocial</td>\n",
       "      <td>Orgão Gestor 05</td>\n",
       "      <td>STRING</td>\n",
       "    </tr>\n",
       "    <tr>\n",
       "      <th>3</th>\n",
       "      <td>2021-03-22</td>\n",
       "      <td>Fortuna</td>\n",
       "      <td>pct_255355</td>\n",
       "      <td>orgaoGestorDaPoliticaDeAssistenciaSocial</td>\n",
       "      <td>Orgão Gestor 05</td>\n",
       "      <td>STRING</td>\n",
       "    </tr>\n",
       "    <tr>\n",
       "      <th>4</th>\n",
       "      <td>2020-08-27</td>\n",
       "      <td>Coroatá</td>\n",
       "      <td>pct_210371</td>\n",
       "      <td>orgaoGestorDaPoliticaDeAssistenciaSocial</td>\n",
       "      <td>Orgão Gestor 03</td>\n",
       "      <td>STRING</td>\n",
       "    </tr>\n",
       "    <tr>\n",
       "      <th>...</th>\n",
       "      <td>...</td>\n",
       "      <td>...</td>\n",
       "      <td>...</td>\n",
       "      <td>...</td>\n",
       "      <td>...</td>\n",
       "      <td>...</td>\n",
       "    </tr>\n",
       "    <tr>\n",
       "      <th>239381</th>\n",
       "      <td>2019-01-20</td>\n",
       "      <td>Jenipapo dos Vieiras</td>\n",
       "      <td>pct_83507</td>\n",
       "      <td>orgaoGestorDaPoliticaDeAssistenciaSocial</td>\n",
       "      <td>Orgão Gestor 03</td>\n",
       "      <td>STRING</td>\n",
       "    </tr>\n",
       "    <tr>\n",
       "      <th>239382</th>\n",
       "      <td>2020-10-01</td>\n",
       "      <td>Dom Pedro</td>\n",
       "      <td>pct_217919</td>\n",
       "      <td>orgaoGestorDaPoliticaDeAssistenciaSocial</td>\n",
       "      <td>Orgão Gestor 03</td>\n",
       "      <td>STRING</td>\n",
       "    </tr>\n",
       "    <tr>\n",
       "      <th>239383</th>\n",
       "      <td>2020-04-17</td>\n",
       "      <td>Maracaçumé</td>\n",
       "      <td>pct_181721</td>\n",
       "      <td>orgaoGestorDaPoliticaDeAssistenciaSocial</td>\n",
       "      <td>Orgão Gestor 09</td>\n",
       "      <td>STRING</td>\n",
       "    </tr>\n",
       "    <tr>\n",
       "      <th>239384</th>\n",
       "      <td>2018-04-11</td>\n",
       "      <td>Carutapera</td>\n",
       "      <td>pct_21814</td>\n",
       "      <td>orgaoGestorDaPoliticaDeAssistenciaSocial</td>\n",
       "      <td>Orgão Gestor 07</td>\n",
       "      <td>STRING</td>\n",
       "    </tr>\n",
       "    <tr>\n",
       "      <th>239385</th>\n",
       "      <td>2018-02-11</td>\n",
       "      <td>Jatobá</td>\n",
       "      <td>pct_9099</td>\n",
       "      <td>orgaoGestorDaPoliticaDeAssistenciaSocial</td>\n",
       "      <td>Orgão Gestor 04</td>\n",
       "      <td>STRING</td>\n",
       "    </tr>\n",
       "  </tbody>\n",
       "</table>\n",
       "<p>239386 rows × 6 columns</p>\n",
       "</div>"
      ],
      "text/plain": [
       "            dt_ref             municipio   protocolo  \\\n",
       "0       2019-01-13          Montes Altos   pct_81933   \n",
       "1       2019-08-01              Araioses  pct_125349   \n",
       "2       2018-12-26          Santa Helena   pct_78015   \n",
       "3       2021-03-22               Fortuna  pct_255355   \n",
       "4       2020-08-27               Coroatá  pct_210371   \n",
       "...            ...                   ...         ...   \n",
       "239381  2019-01-20  Jenipapo dos Vieiras   pct_83507   \n",
       "239382  2020-10-01             Dom Pedro  pct_217919   \n",
       "239383  2020-04-17            Maracaçumé  pct_181721   \n",
       "239384  2018-04-11            Carutapera   pct_21814   \n",
       "239385  2018-02-11                Jatobá    pct_9099   \n",
       "\n",
       "                                        atributo            valor    tipo  \n",
       "0       orgaoGestorDaPoliticaDeAssistenciaSocial  Orgão Gestor 11  STRING  \n",
       "1       orgaoGestorDaPoliticaDeAssistenciaSocial  Orgão Gestor 06  STRING  \n",
       "2       orgaoGestorDaPoliticaDeAssistenciaSocial  Orgão Gestor 05  STRING  \n",
       "3       orgaoGestorDaPoliticaDeAssistenciaSocial  Orgão Gestor 05  STRING  \n",
       "4       orgaoGestorDaPoliticaDeAssistenciaSocial  Orgão Gestor 03  STRING  \n",
       "...                                          ...              ...     ...  \n",
       "239381  orgaoGestorDaPoliticaDeAssistenciaSocial  Orgão Gestor 03  STRING  \n",
       "239382  orgaoGestorDaPoliticaDeAssistenciaSocial  Orgão Gestor 03  STRING  \n",
       "239383  orgaoGestorDaPoliticaDeAssistenciaSocial  Orgão Gestor 09  STRING  \n",
       "239384  orgaoGestorDaPoliticaDeAssistenciaSocial  Orgão Gestor 07  STRING  \n",
       "239385  orgaoGestorDaPoliticaDeAssistenciaSocial  Orgão Gestor 04  STRING  \n",
       "\n",
       "[239386 rows x 6 columns]"
      ]
     },
     "execution_count": 15,
     "metadata": {},
     "output_type": "execute_result"
    }
   ],
   "source": [
    "df2"
   ]
  },
  {
   "cell_type": "code",
   "execution_count": 16,
   "metadata": {
    "ExecuteTime": {
     "end_time": "2021-06-22T11:51:44.239793Z",
     "start_time": "2021-06-22T11:51:44.218548Z"
    }
   },
   "outputs": [
    {
     "data": {
      "text/html": [
       "<div>\n",
       "<style scoped>\n",
       "    .dataframe tbody tr th:only-of-type {\n",
       "        vertical-align: middle;\n",
       "    }\n",
       "\n",
       "    .dataframe tbody tr th {\n",
       "        vertical-align: top;\n",
       "    }\n",
       "\n",
       "    .dataframe thead th {\n",
       "        text-align: right;\n",
       "    }\n",
       "</style>\n",
       "<table border=\"1\" class=\"dataframe\">\n",
       "  <thead>\n",
       "    <tr style=\"text-align: right;\">\n",
       "      <th></th>\n",
       "      <th>dt_ref</th>\n",
       "      <th>municipio</th>\n",
       "      <th>protocolo</th>\n",
       "      <th>atributo</th>\n",
       "      <th>valor</th>\n",
       "      <th>tipo</th>\n",
       "    </tr>\n",
       "  </thead>\n",
       "  <tbody>\n",
       "    <tr>\n",
       "      <th>0</th>\n",
       "      <td>2019-01-13</td>\n",
       "      <td>Montes Altos</td>\n",
       "      <td>pct_81933</td>\n",
       "      <td>col_0</td>\n",
       "      <td>valor_col_0</td>\n",
       "      <td>STRING</td>\n",
       "    </tr>\n",
       "    <tr>\n",
       "      <th>1</th>\n",
       "      <td>2019-01-13</td>\n",
       "      <td>Montes Altos</td>\n",
       "      <td>pct_81933</td>\n",
       "      <td>col_1</td>\n",
       "      <td>valor_col_1</td>\n",
       "      <td>STRING</td>\n",
       "    </tr>\n",
       "    <tr>\n",
       "      <th>2</th>\n",
       "      <td>2019-01-13</td>\n",
       "      <td>Montes Altos</td>\n",
       "      <td>pct_81933</td>\n",
       "      <td>col_2</td>\n",
       "      <td>valor_col_2</td>\n",
       "      <td>STRING</td>\n",
       "    </tr>\n",
       "    <tr>\n",
       "      <th>3</th>\n",
       "      <td>2019-01-13</td>\n",
       "      <td>Montes Altos</td>\n",
       "      <td>pct_81933</td>\n",
       "      <td>col_3</td>\n",
       "      <td>valor_col_3</td>\n",
       "      <td>STRING</td>\n",
       "    </tr>\n",
       "    <tr>\n",
       "      <th>4</th>\n",
       "      <td>2019-01-13</td>\n",
       "      <td>Montes Altos</td>\n",
       "      <td>pct_81933</td>\n",
       "      <td>col_4</td>\n",
       "      <td>valor_col_4</td>\n",
       "      <td>STRING</td>\n",
       "    </tr>\n",
       "    <tr>\n",
       "      <th>...</th>\n",
       "      <td>...</td>\n",
       "      <td>...</td>\n",
       "      <td>...</td>\n",
       "      <td>...</td>\n",
       "      <td>...</td>\n",
       "      <td>...</td>\n",
       "    </tr>\n",
       "    <tr>\n",
       "      <th>13644997</th>\n",
       "      <td>2018-02-11</td>\n",
       "      <td>Jatobá</td>\n",
       "      <td>pct_9099</td>\n",
       "      <td>col_52</td>\n",
       "      <td>valor_col_52</td>\n",
       "      <td>STRING</td>\n",
       "    </tr>\n",
       "    <tr>\n",
       "      <th>13644998</th>\n",
       "      <td>2018-02-11</td>\n",
       "      <td>Jatobá</td>\n",
       "      <td>pct_9099</td>\n",
       "      <td>col_53</td>\n",
       "      <td>valor_col_53</td>\n",
       "      <td>STRING</td>\n",
       "    </tr>\n",
       "    <tr>\n",
       "      <th>13644999</th>\n",
       "      <td>2018-02-11</td>\n",
       "      <td>Jatobá</td>\n",
       "      <td>pct_9099</td>\n",
       "      <td>col_54</td>\n",
       "      <td>valor_col_54</td>\n",
       "      <td>STRING</td>\n",
       "    </tr>\n",
       "    <tr>\n",
       "      <th>13645000</th>\n",
       "      <td>2018-02-11</td>\n",
       "      <td>Jatobá</td>\n",
       "      <td>pct_9099</td>\n",
       "      <td>col_55</td>\n",
       "      <td>valor_col_55</td>\n",
       "      <td>STRING</td>\n",
       "    </tr>\n",
       "    <tr>\n",
       "      <th>13645001</th>\n",
       "      <td>2018-02-11</td>\n",
       "      <td>Jatobá</td>\n",
       "      <td>pct_9099</td>\n",
       "      <td>col_56</td>\n",
       "      <td>valor_col_56</td>\n",
       "      <td>STRING</td>\n",
       "    </tr>\n",
       "  </tbody>\n",
       "</table>\n",
       "<p>13645002 rows × 6 columns</p>\n",
       "</div>"
      ],
      "text/plain": [
       "              dt_ref     municipio  protocolo atributo         valor    tipo\n",
       "0         2019-01-13  Montes Altos  pct_81933    col_0   valor_col_0  STRING\n",
       "1         2019-01-13  Montes Altos  pct_81933    col_1   valor_col_1  STRING\n",
       "2         2019-01-13  Montes Altos  pct_81933    col_2   valor_col_2  STRING\n",
       "3         2019-01-13  Montes Altos  pct_81933    col_3   valor_col_3  STRING\n",
       "4         2019-01-13  Montes Altos  pct_81933    col_4   valor_col_4  STRING\n",
       "...              ...           ...        ...      ...           ...     ...\n",
       "13644997  2018-02-11        Jatobá   pct_9099   col_52  valor_col_52  STRING\n",
       "13644998  2018-02-11        Jatobá   pct_9099   col_53  valor_col_53  STRING\n",
       "13644999  2018-02-11        Jatobá   pct_9099   col_54  valor_col_54  STRING\n",
       "13645000  2018-02-11        Jatobá   pct_9099   col_55  valor_col_55  STRING\n",
       "13645001  2018-02-11        Jatobá   pct_9099   col_56  valor_col_56  STRING\n",
       "\n",
       "[13645002 rows x 6 columns]"
      ]
     },
     "execution_count": 16,
     "metadata": {},
     "output_type": "execute_result"
    }
   ],
   "source": [
    "df"
   ]
  },
  {
   "cell_type": "code",
   "execution_count": 17,
   "metadata": {
    "ExecuteTime": {
     "end_time": "2021-06-22T11:51:45.103078Z",
     "start_time": "2021-06-22T11:51:44.247634Z"
    }
   },
   "outputs": [
    {
     "data": {
      "text/html": [
       "<div>\n",
       "<style scoped>\n",
       "    .dataframe tbody tr th:only-of-type {\n",
       "        vertical-align: middle;\n",
       "    }\n",
       "\n",
       "    .dataframe tbody tr th {\n",
       "        vertical-align: top;\n",
       "    }\n",
       "\n",
       "    .dataframe thead th {\n",
       "        text-align: right;\n",
       "    }\n",
       "</style>\n",
       "<table border=\"1\" class=\"dataframe\">\n",
       "  <thead>\n",
       "    <tr style=\"text-align: right;\">\n",
       "      <th></th>\n",
       "      <th>dt_ref</th>\n",
       "      <th>municipio</th>\n",
       "      <th>protocolo</th>\n",
       "      <th>atributo</th>\n",
       "      <th>valor</th>\n",
       "      <th>tipo</th>\n",
       "    </tr>\n",
       "  </thead>\n",
       "  <tbody>\n",
       "    <tr>\n",
       "      <th>0</th>\n",
       "      <td>2019-01-13</td>\n",
       "      <td>Montes Altos</td>\n",
       "      <td>pct_81933</td>\n",
       "      <td>col_0</td>\n",
       "      <td>valor_col_0</td>\n",
       "      <td>STRING</td>\n",
       "    </tr>\n",
       "    <tr>\n",
       "      <th>1</th>\n",
       "      <td>2019-01-13</td>\n",
       "      <td>Montes Altos</td>\n",
       "      <td>pct_81933</td>\n",
       "      <td>col_1</td>\n",
       "      <td>valor_col_1</td>\n",
       "      <td>STRING</td>\n",
       "    </tr>\n",
       "    <tr>\n",
       "      <th>2</th>\n",
       "      <td>2019-01-13</td>\n",
       "      <td>Montes Altos</td>\n",
       "      <td>pct_81933</td>\n",
       "      <td>col_2</td>\n",
       "      <td>valor_col_2</td>\n",
       "      <td>STRING</td>\n",
       "    </tr>\n",
       "    <tr>\n",
       "      <th>3</th>\n",
       "      <td>2019-01-13</td>\n",
       "      <td>Montes Altos</td>\n",
       "      <td>pct_81933</td>\n",
       "      <td>col_3</td>\n",
       "      <td>valor_col_3</td>\n",
       "      <td>STRING</td>\n",
       "    </tr>\n",
       "    <tr>\n",
       "      <th>4</th>\n",
       "      <td>2019-01-13</td>\n",
       "      <td>Montes Altos</td>\n",
       "      <td>pct_81933</td>\n",
       "      <td>col_4</td>\n",
       "      <td>valor_col_4</td>\n",
       "      <td>STRING</td>\n",
       "    </tr>\n",
       "    <tr>\n",
       "      <th>...</th>\n",
       "      <td>...</td>\n",
       "      <td>...</td>\n",
       "      <td>...</td>\n",
       "      <td>...</td>\n",
       "      <td>...</td>\n",
       "      <td>...</td>\n",
       "    </tr>\n",
       "    <tr>\n",
       "      <th>239381</th>\n",
       "      <td>2019-01-20</td>\n",
       "      <td>Jenipapo dos Vieiras</td>\n",
       "      <td>pct_83507</td>\n",
       "      <td>orgaoGestorDaPoliticaDeAssistenciaSocial</td>\n",
       "      <td>Orgão Gestor 03</td>\n",
       "      <td>STRING</td>\n",
       "    </tr>\n",
       "    <tr>\n",
       "      <th>239382</th>\n",
       "      <td>2020-10-01</td>\n",
       "      <td>Dom Pedro</td>\n",
       "      <td>pct_217919</td>\n",
       "      <td>orgaoGestorDaPoliticaDeAssistenciaSocial</td>\n",
       "      <td>Orgão Gestor 03</td>\n",
       "      <td>STRING</td>\n",
       "    </tr>\n",
       "    <tr>\n",
       "      <th>239383</th>\n",
       "      <td>2020-04-17</td>\n",
       "      <td>Maracaçumé</td>\n",
       "      <td>pct_181721</td>\n",
       "      <td>orgaoGestorDaPoliticaDeAssistenciaSocial</td>\n",
       "      <td>Orgão Gestor 09</td>\n",
       "      <td>STRING</td>\n",
       "    </tr>\n",
       "    <tr>\n",
       "      <th>239384</th>\n",
       "      <td>2018-04-11</td>\n",
       "      <td>Carutapera</td>\n",
       "      <td>pct_21814</td>\n",
       "      <td>orgaoGestorDaPoliticaDeAssistenciaSocial</td>\n",
       "      <td>Orgão Gestor 07</td>\n",
       "      <td>STRING</td>\n",
       "    </tr>\n",
       "    <tr>\n",
       "      <th>239385</th>\n",
       "      <td>2018-02-11</td>\n",
       "      <td>Jatobá</td>\n",
       "      <td>pct_9099</td>\n",
       "      <td>orgaoGestorDaPoliticaDeAssistenciaSocial</td>\n",
       "      <td>Orgão Gestor 04</td>\n",
       "      <td>STRING</td>\n",
       "    </tr>\n",
       "  </tbody>\n",
       "</table>\n",
       "<p>13884388 rows × 6 columns</p>\n",
       "</div>"
      ],
      "text/plain": [
       "            dt_ref             municipio   protocolo  \\\n",
       "0       2019-01-13          Montes Altos   pct_81933   \n",
       "1       2019-01-13          Montes Altos   pct_81933   \n",
       "2       2019-01-13          Montes Altos   pct_81933   \n",
       "3       2019-01-13          Montes Altos   pct_81933   \n",
       "4       2019-01-13          Montes Altos   pct_81933   \n",
       "...            ...                   ...         ...   \n",
       "239381  2019-01-20  Jenipapo dos Vieiras   pct_83507   \n",
       "239382  2020-10-01             Dom Pedro  pct_217919   \n",
       "239383  2020-04-17            Maracaçumé  pct_181721   \n",
       "239384  2018-04-11            Carutapera   pct_21814   \n",
       "239385  2018-02-11                Jatobá    pct_9099   \n",
       "\n",
       "                                        atributo            valor    tipo  \n",
       "0                                          col_0      valor_col_0  STRING  \n",
       "1                                          col_1      valor_col_1  STRING  \n",
       "2                                          col_2      valor_col_2  STRING  \n",
       "3                                          col_3      valor_col_3  STRING  \n",
       "4                                          col_4      valor_col_4  STRING  \n",
       "...                                          ...              ...     ...  \n",
       "239381  orgaoGestorDaPoliticaDeAssistenciaSocial  Orgão Gestor 03  STRING  \n",
       "239382  orgaoGestorDaPoliticaDeAssistenciaSocial  Orgão Gestor 03  STRING  \n",
       "239383  orgaoGestorDaPoliticaDeAssistenciaSocial  Orgão Gestor 09  STRING  \n",
       "239384  orgaoGestorDaPoliticaDeAssistenciaSocial  Orgão Gestor 07  STRING  \n",
       "239385  orgaoGestorDaPoliticaDeAssistenciaSocial  Orgão Gestor 04  STRING  \n",
       "\n",
       "[13884388 rows x 6 columns]"
      ]
     },
     "execution_count": 17,
     "metadata": {},
     "output_type": "execute_result"
    }
   ],
   "source": [
    "df = pd.concat([df, df2])\n",
    "df"
   ]
  },
  {
   "cell_type": "markdown",
   "metadata": {},
   "source": [
    "# <font color='blue'>5.0 carga</font>"
   ]
  },
  {
   "cell_type": "code",
   "execution_count": 23,
   "metadata": {
    "ExecuteTime": {
     "end_time": "2021-06-22T12:09:00.637028Z",
     "start_time": "2021-06-22T12:08:18.481353Z"
    }
   },
   "outputs": [],
   "source": [
    "# grava tabelas\n",
    "df.to_csv(caminho_out + 'dataset_sedes.csv', index=False)"
   ]
  },
  {
   "cell_type": "markdown",
   "metadata": {},
   "source": [
    "# TESTES"
   ]
  },
  {
   "cell_type": "code",
   "execution_count": null,
   "metadata": {
    "ExecuteTime": {
     "end_time": "2021-06-21T20:50:10.643898Z",
     "start_time": "2021-06-21T20:50:10.639800Z"
    }
   },
   "outputs": [],
   "source": [
    "location = pd.DataFrame({'area': ['new-york', 'columbo', 'mumbai']})\n",
    "food = pd.DataFrame({'food': ['pizza', 'crabs', 'vada-paw']})"
   ]
  },
  {
   "cell_type": "code",
   "execution_count": null,
   "metadata": {
    "ExecuteTime": {
     "end_time": "2021-06-21T20:50:17.734341Z",
     "start_time": "2021-06-21T20:50:17.727893Z"
    }
   },
   "outputs": [],
   "source": [
    "location"
   ]
  },
  {
   "cell_type": "code",
   "execution_count": null,
   "metadata": {
    "ExecuteTime": {
     "end_time": "2021-06-21T20:50:25.088282Z",
     "start_time": "2021-06-21T20:50:25.082219Z"
    }
   },
   "outputs": [],
   "source": [
    "food"
   ]
  },
  {
   "cell_type": "code",
   "execution_count": null,
   "metadata": {
    "ExecuteTime": {
     "end_time": "2021-06-21T20:52:48.757271Z",
     "start_time": "2021-06-21T20:52:48.749113Z"
    }
   },
   "outputs": [],
   "source": [
    "pd.concat([location, food], join='outer', axis=1)"
   ]
  },
  {
   "cell_type": "code",
   "execution_count": null,
   "metadata": {},
   "outputs": [],
   "source": [
    "det = pd.concat([location, food], join = 'outer', axis = 1)"
   ]
  },
  {
   "cell_type": "code",
   "execution_count": null,
   "metadata": {
    "ExecuteTime": {
     "end_time": "2021-06-21T22:37:34.589683Z",
     "start_time": "2021-06-21T22:37:34.581580Z"
    }
   },
   "outputs": [],
   "source": [
    "df1 = pd.DataFrame([['a', 1], ['b', 2]], columns=['letter', 'number'], index=[7, 8])\n",
    "df1"
   ]
  },
  {
   "cell_type": "code",
   "execution_count": null,
   "metadata": {
    "ExecuteTime": {
     "end_time": "2021-06-21T22:37:35.493504Z",
     "start_time": "2021-06-21T22:37:35.485188Z"
    }
   },
   "outputs": [],
   "source": [
    "df4 = pd.DataFrame([['bird', 'polly'], ['monkey', 'george']], columns=['animal', 'name'])\n",
    "df4"
   ]
  },
  {
   "cell_type": "code",
   "execution_count": null,
   "metadata": {
    "ExecuteTime": {
     "end_time": "2021-06-21T22:37:36.435870Z",
     "start_time": "2021-06-21T22:37:36.425264Z"
    }
   },
   "outputs": [],
   "source": [
    "pd.concat([df1, df4], axis=1)"
   ]
  },
  {
   "cell_type": "code",
   "execution_count": null,
   "metadata": {
    "ExecuteTime": {
     "end_time": "2021-06-21T22:38:18.736677Z",
     "start_time": "2021-06-21T22:38:18.727488Z"
    }
   },
   "outputs": [],
   "source": [
    "pd.concat([df1.reset_index(drop=True), df4.reset_index(drop=True)], axis=1)"
   ]
  },
  {
   "cell_type": "code",
   "execution_count": null,
   "metadata": {
    "ExecuteTime": {
     "end_time": "2021-06-21T22:33:50.590273Z",
     "start_time": "2021-06-21T22:33:50.587672Z"
    }
   },
   "outputs": [],
   "source": [
    "df4.reset_index(drop=True, inplace=True)\n"
   ]
  },
  {
   "cell_type": "code",
   "execution_count": null,
   "metadata": {},
   "outputs": [],
   "source": []
  }
 ],
 "metadata": {
  "kernelspec": {
   "display_name": "Python 3",
   "language": "python",
   "name": "python3"
  },
  "language_info": {
   "codemirror_mode": {
    "name": "ipython",
    "version": 3
   },
   "file_extension": ".py",
   "mimetype": "text/x-python",
   "name": "python",
   "nbconvert_exporter": "python",
   "pygments_lexer": "ipython3",
   "version": "3.8.10"
  }
 },
 "nbformat": 4,
 "nbformat_minor": 4
}
