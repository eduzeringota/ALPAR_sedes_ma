{
 "cells": [
  {
   "cell_type": "markdown",
   "metadata": {
    "heading_collapsed": true
   },
   "source": [
    "# <font color='blue'>ALPAR - Projeto SEDES - Criação de uma Tabela de Municípios do Maranhão</font>"
   ]
  },
  {
   "cell_type": "markdown",
   "metadata": {},
   "source": [
    "# <font color='red'>1. IMPORT</font>"
   ]
  },
  {
   "cell_type": "code",
   "execution_count": 1,
   "metadata": {
    "ExecuteTime": {
     "end_time": "2021-06-15T15:11:11.404501Z",
     "start_time": "2021-06-15T15:11:10.913299Z"
    }
   },
   "outputs": [
    {
     "name": "stdout",
     "output_type": "stream",
     "text": [
      "pandas versão 1.2.4\n",
      "numpy versão 1.20.2\n",
      "csv versão 1.0\n",
      "csv timestring 1.6.2\n"
     ]
    }
   ],
   "source": [
    "import pandas as pd\n",
    "import numpy as np\n",
    "import copy\n",
    "import csv\n",
    "import codecs\n",
    "import random as rd\n",
    "import string\n",
    "import timestring as ts\n",
    "import datetime as dt\n",
    "from dateutil.relativedelta import relativedelta\n",
    "\n",
    "print(\"pandas versão\", pd.__version__)\n",
    "print(\"numpy versão\", np.__version__)\n",
    "print(\"csv versão\", csv.__version__)\n",
    "print(\"csv timestring\", ts.__version__)\n",
    "\n",
    "pd.options.display.max_rows = 2000"
   ]
  },
  {
   "cell_type": "markdown",
   "metadata": {},
   "source": [
    "# <font color='red'>2. EXTRACT</font>"
   ]
  },
  {
   "cell_type": "code",
   "execution_count": 2,
   "metadata": {
    "ExecuteTime": {
     "end_time": "2021-06-15T15:11:15.120190Z",
     "start_time": "2021-06-15T15:11:11.407891Z"
    }
   },
   "outputs": [
    {
     "name": "stdout",
     "output_type": "stream",
     "text": [
      "df_tb_municipios - linhas = 1517392 , colunas = 18 \n",
      "df_tb_sis_rede_SUAS - linhas = 8 , colunas = 1 \n",
      "df_tb_grupo_protecao - linhas = 4 , colunas = 1 \n",
      "df_tb_acoes_VS - linhas = 7 , colunas = 1 \n",
      "df_tb_atividades_CS - linhas = 4 , colunas = 1 \n",
      "df_tb_instr_gestao - linhas = 6 , colunas = 1 \n",
      "df_tb_capac_area - linhas = 4 , colunas = 1 \n",
      "df_tb_capac_prof - linhas = 4 , colunas = 1 \n",
      "df_tb_area_essencial - linhas = 4 , colunas = 1 \n",
      "df_tb_tipo_organizacao_ppa - linhas = 2 , colunas = 1 \n",
      "df_tb_orgao_gestor - linhas = 12 , colunas = 1 \n"
     ]
    }
   ],
   "source": [
    "# abrindo os arquivos...\n",
    "caminho_in =  '../arquivos_uteis/'\n",
    "caminho_out = '../dw_csv/'\n",
    "\n",
    "df_tb_municipios =           pd.read_csv(caminho_in + \"caso_full.csv\",                sep = ',', dtype = str)\n",
    "df_tb_sis_rede_SUAS =        pd.read_csv(caminho_in + \"tab_sis_rede_SUAS.csv\",        sep = ',', dtype = str)\n",
    "df_tb_grupo_protecao =       pd.read_csv(caminho_in + \"tab_grupo_protecao.csv\",       sep = ',', dtype = str)\n",
    "df_tb_acoes_VS =             pd.read_csv(caminho_in + \"tab_acoes_VS.csv\",             sep = ',', dtype = str)\n",
    "df_tb_atividades_CS =        pd.read_csv(caminho_in + \"tab_atividades_CS.csv\",        sep = ',', dtype = str)\n",
    "df_tb_instr_gestao =         pd.read_csv(caminho_in + \"tab_instr_gestao.csv\",         sep = ',', dtype = str)\n",
    "df_tb_capac_area =           pd.read_csv(caminho_in + \"tab_capac_area.csv\",           sep = ',', dtype = str)\n",
    "df_tb_capac_prof =           pd.read_csv(caminho_in + \"tab_capac_prof.csv\",           sep = ',', dtype = str)\n",
    "df_tb_area_essencial =       pd.read_csv(caminho_in + \"tab_area_essencial.csv\",       sep = ',', dtype = str)\n",
    "df_tb_tipo_organizacao_ppa = pd.read_csv(caminho_in + \"tab_tipo_organizacao_ppa.csv\", sep = ',', dtype = str)\n",
    "df_tb_orgao_gestor =         pd.read_csv(caminho_in + \"tab_orgao_gestor.csv\",         sep = ',', dtype = str)\n",
    "\n",
    "print(\"df_tb_municipios - linhas = %s , colunas = %s \" % df_tb_municipios.shape)\n",
    "print(\"df_tb_sis_rede_SUAS - linhas = %s , colunas = %s \" % df_tb_sis_rede_SUAS.shape)\n",
    "print(\"df_tb_grupo_protecao - linhas = %s , colunas = %s \" % df_tb_grupo_protecao.shape)\n",
    "print(\"df_tb_acoes_VS - linhas = %s , colunas = %s \" % df_tb_acoes_VS.shape)\n",
    "print(\"df_tb_atividades_CS - linhas = %s , colunas = %s \" % df_tb_atividades_CS.shape)\n",
    "print(\"df_tb_instr_gestao - linhas = %s , colunas = %s \" % df_tb_instr_gestao.shape)\n",
    "print(\"df_tb_capac_area - linhas = %s , colunas = %s \" % df_tb_capac_area.shape)\n",
    "print(\"df_tb_capac_prof - linhas = %s , colunas = %s \" % df_tb_capac_prof.shape)\n",
    "print(\"df_tb_area_essencial - linhas = %s , colunas = %s \" % df_tb_area_essencial.shape)\n",
    "print(\"df_tb_tipo_organizacao_ppa - linhas = %s , colunas = %s \" % df_tb_tipo_organizacao_ppa.shape)\n",
    "print(\"df_tb_orgao_gestor - linhas = %s , colunas = %s \" % df_tb_orgao_gestor.shape)\n"
   ]
  },
  {
   "cell_type": "markdown",
   "metadata": {},
   "source": [
    "# <font color='red'>3. TRANSFORM</font>"
   ]
  },
  {
   "cell_type": "markdown",
   "metadata": {},
   "source": [
    "## <font color='black'>3.0. parametros</font>"
   ]
  },
  {
   "cell_type": "code",
   "execution_count": 3,
   "metadata": {
    "ExecuteTime": {
     "end_time": "2021-06-15T15:11:15.126642Z",
     "start_time": "2021-06-15T15:11:15.123284Z"
    }
   },
   "outputs": [],
   "source": [
    "# intervalo possível de data inicial de vigência e data final de vigência\n",
    "p1 = ((1, 6), (80, 110)) # ((min dias a partir periodo, max dias a partir periodo), (min período vigência, max período vigência))\n",
    "\n",
    "# documento anexado\n",
    "p2 = (3, 7)"
   ]
  },
  {
   "cell_type": "markdown",
   "metadata": {},
   "source": [
    "## <font color='black'>3.1. tabela tb_municipios</font>"
   ]
  },
  {
   "cell_type": "code",
   "execution_count": 4,
   "metadata": {
    "ExecuteTime": {
     "end_time": "2021-06-15T15:11:15.434907Z",
     "start_time": "2021-06-15T15:11:15.129281Z"
    }
   },
   "outputs": [
    {
     "data": {
      "text/html": [
       "<div>\n",
       "<style scoped>\n",
       "    .dataframe tbody tr th:only-of-type {\n",
       "        vertical-align: middle;\n",
       "    }\n",
       "\n",
       "    .dataframe tbody tr th {\n",
       "        vertical-align: top;\n",
       "    }\n",
       "\n",
       "    .dataframe thead th {\n",
       "        text-align: right;\n",
       "    }\n",
       "</style>\n",
       "<table border=\"1\" class=\"dataframe\">\n",
       "  <thead>\n",
       "    <tr style=\"text-align: right;\">\n",
       "      <th></th>\n",
       "      <th>PK_municipio</th>\n",
       "      <th>nome_municipio</th>\n",
       "      <th>pop_municipio</th>\n",
       "    </tr>\n",
       "  </thead>\n",
       "  <tbody>\n",
       "    <tr>\n",
       "      <th>0</th>\n",
       "      <td>0</td>\n",
       "      <td>São Luís</td>\n",
       "      <td>1108975</td>\n",
       "    </tr>\n",
       "    <tr>\n",
       "      <th>1</th>\n",
       "      <td>1</td>\n",
       "      <td>Açailândia</td>\n",
       "      <td>113121</td>\n",
       "    </tr>\n",
       "    <tr>\n",
       "      <th>2</th>\n",
       "      <td>2</td>\n",
       "      <td>Imperatriz</td>\n",
       "      <td>259337</td>\n",
       "    </tr>\n",
       "    <tr>\n",
       "      <th>3</th>\n",
       "      <td>3</td>\n",
       "      <td>Paço do Lumiar</td>\n",
       "      <td>123747</td>\n",
       "    </tr>\n",
       "    <tr>\n",
       "      <th>4</th>\n",
       "      <td>4</td>\n",
       "      <td>São José de Ribamar</td>\n",
       "      <td>179028</td>\n",
       "    </tr>\n",
       "  </tbody>\n",
       "</table>\n",
       "</div>"
      ],
      "text/plain": [
       "   PK_municipio       nome_municipio pop_municipio\n",
       "0             0             São Luís       1108975\n",
       "1             1           Açailândia        113121\n",
       "2             2           Imperatriz        259337\n",
       "3             3       Paço do Lumiar        123747\n",
       "4             4  São José de Ribamar        179028"
      ]
     },
     "execution_count": 4,
     "metadata": {},
     "output_type": "execute_result"
    }
   ],
   "source": [
    "# tabela de municípios do maranhão\n",
    "lst_col = ['city', 'city_ibge_code', 'estimated_population', 'state']\n",
    "df_tb_municipios = df_tb_municipios.loc[(df_tb_municipios['state'] == 'MA') & (~df_tb_municipios['city'].isna()), lst_col].drop_duplicates()\n",
    "df_tb_municipios.reset_index(drop=True, inplace=True)\n",
    "df_tb_municipios['PK_municipio'] = df_tb_municipios.index\n",
    "df_tb_municipios.rename(columns={'city': 'nome_municipio', 'estimated_population': 'pop_municipio'}, inplace=True)\n",
    "df_tb_municipios = df_tb_municipios[['PK_municipio', 'nome_municipio', 'pop_municipio']]\n",
    "\n",
    "df_tb_municipios.head()"
   ]
  },
  {
   "cell_type": "markdown",
   "metadata": {},
   "source": [
    "## <font color='black'>3.2. tabela tb_sis_rede_SUAS</font>"
   ]
  },
  {
   "cell_type": "code",
   "execution_count": 5,
   "metadata": {
    "ExecuteTime": {
     "end_time": "2021-06-15T15:11:15.443069Z",
     "start_time": "2021-06-15T15:11:15.436955Z"
    }
   },
   "outputs": [
    {
     "data": {
      "text/html": [
       "<div>\n",
       "<style scoped>\n",
       "    .dataframe tbody tr th:only-of-type {\n",
       "        vertical-align: middle;\n",
       "    }\n",
       "\n",
       "    .dataframe tbody tr th {\n",
       "        vertical-align: top;\n",
       "    }\n",
       "\n",
       "    .dataframe thead th {\n",
       "        text-align: right;\n",
       "    }\n",
       "</style>\n",
       "<table border=\"1\" class=\"dataframe\">\n",
       "  <thead>\n",
       "    <tr style=\"text-align: right;\">\n",
       "      <th></th>\n",
       "      <th>sistemas_rede_suas</th>\n",
       "    </tr>\n",
       "  </thead>\n",
       "  <tbody>\n",
       "    <tr>\n",
       "      <th>0</th>\n",
       "      <td>CAD SUAS</td>\n",
       "    </tr>\n",
       "    <tr>\n",
       "      <th>1</th>\n",
       "      <td>RMA</td>\n",
       "    </tr>\n",
       "    <tr>\n",
       "      <th>2</th>\n",
       "      <td>SISC</td>\n",
       "    </tr>\n",
       "    <tr>\n",
       "      <th>3</th>\n",
       "      <td>E-PCF</td>\n",
       "    </tr>\n",
       "    <tr>\n",
       "      <th>4</th>\n",
       "      <td>SIMPETI</td>\n",
       "    </tr>\n",
       "    <tr>\n",
       "      <th>5</th>\n",
       "      <td>Plano de Ação SAA</td>\n",
       "    </tr>\n",
       "    <tr>\n",
       "      <th>6</th>\n",
       "      <td>Demonstrativo Sintético de Execução Físico Fin...</td>\n",
       "    </tr>\n",
       "    <tr>\n",
       "      <th>7</th>\n",
       "      <td>Alimentação da Plataforma Estadual de Monitora...</td>\n",
       "    </tr>\n",
       "  </tbody>\n",
       "</table>\n",
       "</div>"
      ],
      "text/plain": [
       "                                  sistemas_rede_suas\n",
       "0                                           CAD SUAS\n",
       "1                                                RMA\n",
       "2                                               SISC\n",
       "3                                              E-PCF\n",
       "4                                            SIMPETI\n",
       "5                                  Plano de Ação SAA\n",
       "6  Demonstrativo Sintético de Execução Físico Fin...\n",
       "7  Alimentação da Plataforma Estadual de Monitora..."
      ]
     },
     "execution_count": 5,
     "metadata": {},
     "output_type": "execute_result"
    }
   ],
   "source": [
    "df_tb_sis_rede_SUAS"
   ]
  },
  {
   "cell_type": "markdown",
   "metadata": {},
   "source": [
    "## <font color='black'>3.3. tabela df_tb_grupo_protecao</font>"
   ]
  },
  {
   "cell_type": "code",
   "execution_count": 6,
   "metadata": {
    "ExecuteTime": {
     "end_time": "2021-06-15T15:11:15.453349Z",
     "start_time": "2021-06-15T15:11:15.445122Z"
    }
   },
   "outputs": [
    {
     "data": {
      "text/html": [
       "<div>\n",
       "<style scoped>\n",
       "    .dataframe tbody tr th:only-of-type {\n",
       "        vertical-align: middle;\n",
       "    }\n",
       "\n",
       "    .dataframe tbody tr th {\n",
       "        vertical-align: top;\n",
       "    }\n",
       "\n",
       "    .dataframe thead th {\n",
       "        text-align: right;\n",
       "    }\n",
       "</style>\n",
       "<table border=\"1\" class=\"dataframe\">\n",
       "  <thead>\n",
       "    <tr style=\"text-align: right;\">\n",
       "      <th></th>\n",
       "      <th>grupos_de_protecao</th>\n",
       "    </tr>\n",
       "  </thead>\n",
       "  <tbody>\n",
       "    <tr>\n",
       "      <th>0</th>\n",
       "      <td>Gestão (Vigilância Socioassistencial)</td>\n",
       "    </tr>\n",
       "    <tr>\n",
       "      <th>1</th>\n",
       "      <td>Proteção Social Básica (CRAS)</td>\n",
       "    </tr>\n",
       "    <tr>\n",
       "      <th>2</th>\n",
       "      <td>Proteção Social Especial (CREAS)</td>\n",
       "    </tr>\n",
       "    <tr>\n",
       "      <th>3</th>\n",
       "      <td>Outros</td>\n",
       "    </tr>\n",
       "  </tbody>\n",
       "</table>\n",
       "</div>"
      ],
      "text/plain": [
       "                      grupos_de_protecao\n",
       "0  Gestão (Vigilância Socioassistencial)\n",
       "1          Proteção Social Básica (CRAS)\n",
       "2       Proteção Social Especial (CREAS)\n",
       "3                                 Outros"
      ]
     },
     "execution_count": 6,
     "metadata": {},
     "output_type": "execute_result"
    }
   ],
   "source": [
    "df_tb_grupo_protecao"
   ]
  },
  {
   "cell_type": "markdown",
   "metadata": {},
   "source": [
    "## <font color='black'>3.4. tabela df_tb_acoes_VS</font>"
   ]
  },
  {
   "cell_type": "code",
   "execution_count": 7,
   "metadata": {
    "ExecuteTime": {
     "end_time": "2021-06-15T15:11:15.461871Z",
     "start_time": "2021-06-15T15:11:15.455408Z"
    }
   },
   "outputs": [
    {
     "data": {
      "text/html": [
       "<div>\n",
       "<style scoped>\n",
       "    .dataframe tbody tr th:only-of-type {\n",
       "        vertical-align: middle;\n",
       "    }\n",
       "\n",
       "    .dataframe tbody tr th {\n",
       "        vertical-align: top;\n",
       "    }\n",
       "\n",
       "    .dataframe thead th {\n",
       "        text-align: right;\n",
       "    }\n",
       "</style>\n",
       "<table border=\"1\" class=\"dataframe\">\n",
       "  <thead>\n",
       "    <tr style=\"text-align: right;\">\n",
       "      <th></th>\n",
       "      <th>acoes_de_VS</th>\n",
       "    </tr>\n",
       "  </thead>\n",
       "  <tbody>\n",
       "    <tr>\n",
       "      <th>0</th>\n",
       "      <td>levanta dados no território/equipamento da PAS</td>\n",
       "    </tr>\n",
       "    <tr>\n",
       "      <th>1</th>\n",
       "      <td>analisa dados levantados</td>\n",
       "    </tr>\n",
       "    <tr>\n",
       "      <th>2</th>\n",
       "      <td>sistematiza dados e produz relatórios</td>\n",
       "    </tr>\n",
       "    <tr>\n",
       "      <th>3</th>\n",
       "      <td>dissemina dados e/ou relatórios</td>\n",
       "    </tr>\n",
       "    <tr>\n",
       "      <th>4</th>\n",
       "      <td>realiza diagnóstico socioterritorial</td>\n",
       "    </tr>\n",
       "    <tr>\n",
       "      <th>5</th>\n",
       "      <td>realiza monitoramento sistemático dos serviços...</td>\n",
       "    </tr>\n",
       "    <tr>\n",
       "      <th>6</th>\n",
       "      <td>realiza reuniões com as equipes responsáveis p...</td>\n",
       "    </tr>\n",
       "  </tbody>\n",
       "</table>\n",
       "</div>"
      ],
      "text/plain": [
       "                                         acoes_de_VS\n",
       "0     levanta dados no território/equipamento da PAS\n",
       "1                           analisa dados levantados\n",
       "2              sistematiza dados e produz relatórios\n",
       "3                    dissemina dados e/ou relatórios\n",
       "4               realiza diagnóstico socioterritorial\n",
       "5  realiza monitoramento sistemático dos serviços...\n",
       "6  realiza reuniões com as equipes responsáveis p..."
      ]
     },
     "execution_count": 7,
     "metadata": {},
     "output_type": "execute_result"
    }
   ],
   "source": [
    "df_tb_acoes_VS"
   ]
  },
  {
   "cell_type": "markdown",
   "metadata": {},
   "source": [
    "## <font color='black'>3.5. tabela df_tb_atividades_CS</font>"
   ]
  },
  {
   "cell_type": "code",
   "execution_count": 8,
   "metadata": {
    "ExecuteTime": {
     "end_time": "2021-06-15T15:11:15.474144Z",
     "start_time": "2021-06-15T15:11:15.466019Z"
    }
   },
   "outputs": [
    {
     "data": {
      "text/html": [
       "<div>\n",
       "<style scoped>\n",
       "    .dataframe tbody tr th:only-of-type {\n",
       "        vertical-align: middle;\n",
       "    }\n",
       "\n",
       "    .dataframe tbody tr th {\n",
       "        vertical-align: top;\n",
       "    }\n",
       "\n",
       "    .dataframe thead th {\n",
       "        text-align: right;\n",
       "    }\n",
       "</style>\n",
       "<table border=\"1\" class=\"dataframe\">\n",
       "  <thead>\n",
       "    <tr style=\"text-align: right;\">\n",
       "      <th></th>\n",
       "      <th>atividades_CS</th>\n",
       "    </tr>\n",
       "  </thead>\n",
       "  <tbody>\n",
       "    <tr>\n",
       "      <th>0</th>\n",
       "      <td>Reuniões extraordinárias do CEAS</td>\n",
       "    </tr>\n",
       "    <tr>\n",
       "      <th>1</th>\n",
       "      <td>Reuniões ordinárias do CEAS</td>\n",
       "    </tr>\n",
       "    <tr>\n",
       "      <th>2</th>\n",
       "      <td>Resoluções emitidas do CEAS</td>\n",
       "    </tr>\n",
       "    <tr>\n",
       "      <th>3</th>\n",
       "      <td>Reuniões técnicas realizadas pelo CEAS</td>\n",
       "    </tr>\n",
       "  </tbody>\n",
       "</table>\n",
       "</div>"
      ],
      "text/plain": [
       "                            atividades_CS\n",
       "0        Reuniões extraordinárias do CEAS\n",
       "1             Reuniões ordinárias do CEAS\n",
       "2             Resoluções emitidas do CEAS\n",
       "3  Reuniões técnicas realizadas pelo CEAS"
      ]
     },
     "execution_count": 8,
     "metadata": {},
     "output_type": "execute_result"
    }
   ],
   "source": [
    "df_tb_atividades_CS"
   ]
  },
  {
   "cell_type": "markdown",
   "metadata": {},
   "source": [
    "## <font color='black'>3.6. tabela df_tb_instr_gestao</font>"
   ]
  },
  {
   "cell_type": "code",
   "execution_count": 9,
   "metadata": {
    "ExecuteTime": {
     "end_time": "2021-06-15T15:11:15.491051Z",
     "start_time": "2021-06-15T15:11:15.478646Z"
    }
   },
   "outputs": [
    {
     "data": {
      "text/html": [
       "<div>\n",
       "<style scoped>\n",
       "    .dataframe tbody tr th:only-of-type {\n",
       "        vertical-align: middle;\n",
       "    }\n",
       "\n",
       "    .dataframe tbody tr th {\n",
       "        vertical-align: top;\n",
       "    }\n",
       "\n",
       "    .dataframe thead th {\n",
       "        text-align: right;\n",
       "    }\n",
       "</style>\n",
       "<table border=\"1\" class=\"dataframe\">\n",
       "  <thead>\n",
       "    <tr style=\"text-align: right;\">\n",
       "      <th></th>\n",
       "      <th>PK_instr_gestao</th>\n",
       "      <th>nome_instr_gestao</th>\n",
       "    </tr>\n",
       "  </thead>\n",
       "  <tbody>\n",
       "    <tr>\n",
       "      <th>0</th>\n",
       "      <td>0</td>\n",
       "      <td>Plano Decenal de Assistência Social</td>\n",
       "    </tr>\n",
       "    <tr>\n",
       "      <th>1</th>\n",
       "      <td>1</td>\n",
       "      <td>Plano Municipal de Assistência Social</td>\n",
       "    </tr>\n",
       "    <tr>\n",
       "      <th>2</th>\n",
       "      <td>2</td>\n",
       "      <td>Diagnóstico Socioterritorial</td>\n",
       "    </tr>\n",
       "    <tr>\n",
       "      <th>3</th>\n",
       "      <td>3</td>\n",
       "      <td>Plano Municipal de Educação Permanente do SUAS</td>\n",
       "    </tr>\n",
       "    <tr>\n",
       "      <th>4</th>\n",
       "      <td>4</td>\n",
       "      <td>Relatório de Gestão do exercício anterior</td>\n",
       "    </tr>\n",
       "    <tr>\n",
       "      <th>5</th>\n",
       "      <td>5</td>\n",
       "      <td>Lei de Regulamentação do SUAS</td>\n",
       "    </tr>\n",
       "  </tbody>\n",
       "</table>\n",
       "</div>"
      ],
      "text/plain": [
       "   PK_instr_gestao                               nome_instr_gestao\n",
       "0                0             Plano Decenal de Assistência Social\n",
       "1                1           Plano Municipal de Assistência Social\n",
       "2                2                    Diagnóstico Socioterritorial\n",
       "3                3  Plano Municipal de Educação Permanente do SUAS\n",
       "4                4       Relatório de Gestão do exercício anterior\n",
       "5                5                   Lei de Regulamentação do SUAS"
      ]
     },
     "execution_count": 9,
     "metadata": {},
     "output_type": "execute_result"
    }
   ],
   "source": [
    "nm = {'index':'PK_instr_gestao', 'instrumentos_de_gestão': 'nome_instr_gestao'}\n",
    "df_tb_instr_gestao = df_tb_instr_gestao.reset_index().rename(columns=nm)\n",
    "\n",
    "df_tb_instr_gestao"
   ]
  },
  {
   "cell_type": "markdown",
   "metadata": {},
   "source": [
    "## <font color='black'>3.7. tabela df_tb_capac_area</font>"
   ]
  },
  {
   "cell_type": "code",
   "execution_count": 10,
   "metadata": {
    "ExecuteTime": {
     "end_time": "2021-06-15T15:11:15.501985Z",
     "start_time": "2021-06-15T15:11:15.493932Z"
    }
   },
   "outputs": [
    {
     "data": {
      "text/html": [
       "<div>\n",
       "<style scoped>\n",
       "    .dataframe tbody tr th:only-of-type {\n",
       "        vertical-align: middle;\n",
       "    }\n",
       "\n",
       "    .dataframe tbody tr th {\n",
       "        vertical-align: top;\n",
       "    }\n",
       "\n",
       "    .dataframe thead th {\n",
       "        text-align: right;\n",
       "    }\n",
       "</style>\n",
       "<table border=\"1\" class=\"dataframe\">\n",
       "  <thead>\n",
       "    <tr style=\"text-align: right;\">\n",
       "      <th></th>\n",
       "      <th>capacitacao_area</th>\n",
       "    </tr>\n",
       "  </thead>\n",
       "  <tbody>\n",
       "    <tr>\n",
       "      <th>0</th>\n",
       "      <td>Gestão do SUAS</td>\n",
       "    </tr>\n",
       "    <tr>\n",
       "      <th>1</th>\n",
       "      <td>Proteção Social Básica</td>\n",
       "    </tr>\n",
       "    <tr>\n",
       "      <th>2</th>\n",
       "      <td>Proteção Social Especial</td>\n",
       "    </tr>\n",
       "    <tr>\n",
       "      <th>3</th>\n",
       "      <td>Controle Social</td>\n",
       "    </tr>\n",
       "  </tbody>\n",
       "</table>\n",
       "</div>"
      ],
      "text/plain": [
       "           capacitacao_area\n",
       "0            Gestão do SUAS\n",
       "1    Proteção Social Básica\n",
       "2  Proteção Social Especial\n",
       "3           Controle Social"
      ]
     },
     "execution_count": 10,
     "metadata": {},
     "output_type": "execute_result"
    }
   ],
   "source": [
    "df_tb_capac_area"
   ]
  },
  {
   "cell_type": "markdown",
   "metadata": {},
   "source": [
    "## <font color='black'>3.8. tabela df_tb_capac_prof</font>"
   ]
  },
  {
   "cell_type": "code",
   "execution_count": 11,
   "metadata": {
    "ExecuteTime": {
     "end_time": "2021-06-15T15:11:15.511549Z",
     "start_time": "2021-06-15T15:11:15.504468Z"
    }
   },
   "outputs": [
    {
     "data": {
      "text/html": [
       "<div>\n",
       "<style scoped>\n",
       "    .dataframe tbody tr th:only-of-type {\n",
       "        vertical-align: middle;\n",
       "    }\n",
       "\n",
       "    .dataframe tbody tr th {\n",
       "        vertical-align: top;\n",
       "    }\n",
       "\n",
       "    .dataframe thead th {\n",
       "        text-align: right;\n",
       "    }\n",
       "</style>\n",
       "<table border=\"1\" class=\"dataframe\">\n",
       "  <thead>\n",
       "    <tr style=\"text-align: right;\">\n",
       "      <th></th>\n",
       "      <th>capacitacao_profissional</th>\n",
       "    </tr>\n",
       "  </thead>\n",
       "  <tbody>\n",
       "    <tr>\n",
       "      <th>0</th>\n",
       "      <td>Gestor</td>\n",
       "    </tr>\n",
       "    <tr>\n",
       "      <th>1</th>\n",
       "      <td>Trabalhadores de nível superior</td>\n",
       "    </tr>\n",
       "    <tr>\n",
       "      <th>2</th>\n",
       "      <td>Trabalhadores de nível médio</td>\n",
       "    </tr>\n",
       "    <tr>\n",
       "      <th>3</th>\n",
       "      <td>Conselheiros</td>\n",
       "    </tr>\n",
       "  </tbody>\n",
       "</table>\n",
       "</div>"
      ],
      "text/plain": [
       "          capacitacao_profissional\n",
       "0                           Gestor\n",
       "1  Trabalhadores de nível superior\n",
       "2     Trabalhadores de nível médio\n",
       "3                     Conselheiros"
      ]
     },
     "execution_count": 11,
     "metadata": {},
     "output_type": "execute_result"
    }
   ],
   "source": [
    "df_tb_capac_prof"
   ]
  },
  {
   "cell_type": "markdown",
   "metadata": {},
   "source": [
    "## <font color='black'>3.9. tabela df_tb_area_essencial</font>"
   ]
  },
  {
   "cell_type": "code",
   "execution_count": 12,
   "metadata": {
    "ExecuteTime": {
     "end_time": "2021-06-15T15:11:15.520968Z",
     "start_time": "2021-06-15T15:11:15.514034Z"
    }
   },
   "outputs": [
    {
     "data": {
      "text/html": [
       "<div>\n",
       "<style scoped>\n",
       "    .dataframe tbody tr th:only-of-type {\n",
       "        vertical-align: middle;\n",
       "    }\n",
       "\n",
       "    .dataframe tbody tr th {\n",
       "        vertical-align: top;\n",
       "    }\n",
       "\n",
       "    .dataframe thead th {\n",
       "        text-align: right;\n",
       "    }\n",
       "</style>\n",
       "<table border=\"1\" class=\"dataframe\">\n",
       "  <thead>\n",
       "    <tr style=\"text-align: right;\">\n",
       "      <th></th>\n",
       "      <th>areas_essenciais</th>\n",
       "    </tr>\n",
       "  </thead>\n",
       "  <tbody>\n",
       "    <tr>\n",
       "      <th>0</th>\n",
       "      <td>Gestão do Trabalho</td>\n",
       "    </tr>\n",
       "    <tr>\n",
       "      <th>1</th>\n",
       "      <td>Proteção Social Básica</td>\n",
       "    </tr>\n",
       "    <tr>\n",
       "      <th>2</th>\n",
       "      <td>Proteção Social Especial</td>\n",
       "    </tr>\n",
       "    <tr>\n",
       "      <th>3</th>\n",
       "      <td>Gestão do SUAS com competência da vigilância s...</td>\n",
       "    </tr>\n",
       "  </tbody>\n",
       "</table>\n",
       "</div>"
      ],
      "text/plain": [
       "                                    areas_essenciais\n",
       "0                                 Gestão do Trabalho\n",
       "1                             Proteção Social Básica\n",
       "2                           Proteção Social Especial\n",
       "3  Gestão do SUAS com competência da vigilância s..."
      ]
     },
     "execution_count": 12,
     "metadata": {},
     "output_type": "execute_result"
    }
   ],
   "source": [
    "df_tb_area_essencial"
   ]
  },
  {
   "cell_type": "markdown",
   "metadata": {},
   "source": [
    "## <font color='black'>3.10. tabela df_tb_tipo_organizacao_ppa</font>"
   ]
  },
  {
   "cell_type": "code",
   "execution_count": 13,
   "metadata": {
    "ExecuteTime": {
     "end_time": "2021-06-15T15:11:15.533439Z",
     "start_time": "2021-06-15T15:11:15.524288Z"
    }
   },
   "outputs": [
    {
     "data": {
      "text/html": [
       "<div>\n",
       "<style scoped>\n",
       "    .dataframe tbody tr th:only-of-type {\n",
       "        vertical-align: middle;\n",
       "    }\n",
       "\n",
       "    .dataframe tbody tr th {\n",
       "        vertical-align: top;\n",
       "    }\n",
       "\n",
       "    .dataframe thead th {\n",
       "        text-align: right;\n",
       "    }\n",
       "</style>\n",
       "<table border=\"1\" class=\"dataframe\">\n",
       "  <thead>\n",
       "    <tr style=\"text-align: right;\">\n",
       "      <th></th>\n",
       "      <th>tipo_organizacao_PPA</th>\n",
       "    </tr>\n",
       "  </thead>\n",
       "  <tbody>\n",
       "    <tr>\n",
       "      <th>0</th>\n",
       "      <td>Por programas (serviços projetos e benefícios)</td>\n",
       "    </tr>\n",
       "    <tr>\n",
       "      <th>1</th>\n",
       "      <td>Por nível de proteção social (gestão proteção ...</td>\n",
       "    </tr>\n",
       "  </tbody>\n",
       "</table>\n",
       "</div>"
      ],
      "text/plain": [
       "                                tipo_organizacao_PPA\n",
       "0     Por programas (serviços projetos e benefícios)\n",
       "1  Por nível de proteção social (gestão proteção ..."
      ]
     },
     "execution_count": 13,
     "metadata": {},
     "output_type": "execute_result"
    }
   ],
   "source": [
    "df_tb_tipo_organizacao_ppa"
   ]
  },
  {
   "cell_type": "markdown",
   "metadata": {},
   "source": [
    "## <font color='black'>3.10. tabela df_tb_orgao_gestor</font>"
   ]
  },
  {
   "cell_type": "code",
   "execution_count": 14,
   "metadata": {
    "ExecuteTime": {
     "end_time": "2021-06-15T15:11:15.547582Z",
     "start_time": "2021-06-15T15:11:15.537027Z"
    }
   },
   "outputs": [
    {
     "data": {
      "text/html": [
       "<div>\n",
       "<style scoped>\n",
       "    .dataframe tbody tr th:only-of-type {\n",
       "        vertical-align: middle;\n",
       "    }\n",
       "\n",
       "    .dataframe tbody tr th {\n",
       "        vertical-align: top;\n",
       "    }\n",
       "\n",
       "    .dataframe thead th {\n",
       "        text-align: right;\n",
       "    }\n",
       "</style>\n",
       "<table border=\"1\" class=\"dataframe\">\n",
       "  <thead>\n",
       "    <tr style=\"text-align: right;\">\n",
       "      <th></th>\n",
       "      <th>orgao_gestor</th>\n",
       "    </tr>\n",
       "  </thead>\n",
       "  <tbody>\n",
       "    <tr>\n",
       "      <th>0</th>\n",
       "      <td>Orgão Gestor da PAS 01</td>\n",
       "    </tr>\n",
       "    <tr>\n",
       "      <th>1</th>\n",
       "      <td>Orgão Gestor da PAS 02</td>\n",
       "    </tr>\n",
       "    <tr>\n",
       "      <th>2</th>\n",
       "      <td>Orgão Gestor da PAS 03</td>\n",
       "    </tr>\n",
       "    <tr>\n",
       "      <th>3</th>\n",
       "      <td>Orgão Gestor da PAS 04</td>\n",
       "    </tr>\n",
       "    <tr>\n",
       "      <th>4</th>\n",
       "      <td>Orgão Gestor da PAS 05</td>\n",
       "    </tr>\n",
       "    <tr>\n",
       "      <th>5</th>\n",
       "      <td>Orgão Gestor da PAS 06</td>\n",
       "    </tr>\n",
       "    <tr>\n",
       "      <th>6</th>\n",
       "      <td>Orgão Gestor da PAS 07</td>\n",
       "    </tr>\n",
       "    <tr>\n",
       "      <th>7</th>\n",
       "      <td>Orgão Gestor da PAS 08</td>\n",
       "    </tr>\n",
       "    <tr>\n",
       "      <th>8</th>\n",
       "      <td>Orgão Gestor da PAS 09</td>\n",
       "    </tr>\n",
       "    <tr>\n",
       "      <th>9</th>\n",
       "      <td>Orgão Gestor da PAS 10</td>\n",
       "    </tr>\n",
       "    <tr>\n",
       "      <th>10</th>\n",
       "      <td>Orgão Gestor da PAS 11</td>\n",
       "    </tr>\n",
       "    <tr>\n",
       "      <th>11</th>\n",
       "      <td>Orgão Gestor da PAS 12</td>\n",
       "    </tr>\n",
       "  </tbody>\n",
       "</table>\n",
       "</div>"
      ],
      "text/plain": [
       "              orgao_gestor\n",
       "0   Orgão Gestor da PAS 01\n",
       "1   Orgão Gestor da PAS 02\n",
       "2   Orgão Gestor da PAS 03\n",
       "3   Orgão Gestor da PAS 04\n",
       "4   Orgão Gestor da PAS 05\n",
       "5   Orgão Gestor da PAS 06\n",
       "6   Orgão Gestor da PAS 07\n",
       "7   Orgão Gestor da PAS 08\n",
       "8   Orgão Gestor da PAS 09\n",
       "9   Orgão Gestor da PAS 10\n",
       "10  Orgão Gestor da PAS 11\n",
       "11  Orgão Gestor da PAS 12"
      ]
     },
     "execution_count": 14,
     "metadata": {},
     "output_type": "execute_result"
    }
   ],
   "source": [
    "df_tb_orgao_gestor"
   ]
  },
  {
   "cell_type": "markdown",
   "metadata": {},
   "source": [
    "## <font color='black'>3.11. tabela df_tb_mum_form</font>"
   ]
  },
  {
   "cell_type": "code",
   "execution_count": 15,
   "metadata": {
    "ExecuteTime": {
     "end_time": "2021-06-15T15:11:15.569533Z",
     "start_time": "2021-06-15T15:11:15.551116Z"
    }
   },
   "outputs": [
    {
     "name": "stdout",
     "output_type": "stream",
     "text": [
      "Hoje: 2021-06-01\n",
      "Data Inicial: 2019-06-01\n"
     ]
    }
   ],
   "source": [
    "# cria um range de datas de referências históricas\n",
    "N_MESES_ANTERIORES = -24\n",
    "\n",
    "hoje = dt.date.today()\n",
    "data_final = dt.date(hoje.year, hoje.month, 1)\n",
    "data_inicial = data_final + relativedelta(months=N_MESES_ANTERIORES)\n",
    "\n",
    "print(\"Hoje:\", data_final)\n",
    "print(\"Data Inicial:\", data_inicial)\n",
    "\n",
    "dt_aux = data_final; lst_dt = []\n",
    "while dt_aux > data_inicial:\n",
    "    lst_dt.append(dt_aux)\n",
    "    dt_aux = dt_aux + relativedelta(months=-1)\n",
    "df_dt = pd.DataFrame(lst_dt, columns=['df_ref'])\n",
    "\n",
    "df_tb_mun_form = df_tb_municipios.merge(df_dt, how='cross')"
   ]
  },
  {
   "cell_type": "markdown",
   "metadata": {},
   "source": [
    "## <font color='black'>3.10. tabela as_mun_instr_gestao</font>"
   ]
  },
  {
   "cell_type": "code",
   "execution_count": 16,
   "metadata": {
    "ExecuteTime": {
     "end_time": "2021-06-15T15:11:15.579201Z",
     "start_time": "2021-06-15T15:11:15.572455Z"
    }
   },
   "outputs": [],
   "source": [
    "# faz o cunjunto base\n",
    "df_tmp = df_tb_mun_form[['PK_municipio', 'df_ref']].copy()"
   ]
  },
  {
   "cell_type": "code",
   "execution_count": 17,
   "metadata": {
    "ExecuteTime": {
     "end_time": "2021-06-15T15:11:15.590243Z",
     "start_time": "2021-06-15T15:11:15.582332Z"
    }
   },
   "outputs": [],
   "source": [
    "# seleciona somente os meses de 1o semestre e 2o semestre\n",
    "df_tmp = df_tmp[df_tmp['df_ref'].apply(lambda x: x.month == 1 or x.month == 7)]"
   ]
  },
  {
   "cell_type": "code",
   "execution_count": 18,
   "metadata": {
    "ExecuteTime": {
     "end_time": "2021-06-15T15:11:15.710469Z",
     "start_time": "2021-06-15T15:11:15.593343Z"
    }
   },
   "outputs": [],
   "source": [
    "# sorteia quantos instrumentos de gestão terão cada municipio/dt_ref em cada semestre\n",
    "min_instr = 0; max_instr = df_tb_instr_gestao.shape[0]\n",
    "\n",
    "lst_tmp = []\n",
    "for i, linha in df_tmp.iterrows():\n",
    "    n_instr = rd.randint(min_instr, max_instr)\n",
    "    for k in range(n_instr):\n",
    "        lst_tmp.append([linha[0], linha[1], k])\n"
   ]
  },
  {
   "cell_type": "code",
   "execution_count": 19,
   "metadata": {
    "ExecuteTime": {
     "end_time": "2021-06-15T15:11:15.729442Z",
     "start_time": "2021-06-15T15:11:15.713387Z"
    }
   },
   "outputs": [
    {
     "data": {
      "text/html": [
       "<div>\n",
       "<style scoped>\n",
       "    .dataframe tbody tr th:only-of-type {\n",
       "        vertical-align: middle;\n",
       "    }\n",
       "\n",
       "    .dataframe tbody tr th {\n",
       "        vertical-align: top;\n",
       "    }\n",
       "\n",
       "    .dataframe thead th {\n",
       "        text-align: right;\n",
       "    }\n",
       "</style>\n",
       "<table border=\"1\" class=\"dataframe\">\n",
       "  <thead>\n",
       "    <tr style=\"text-align: right;\">\n",
       "      <th></th>\n",
       "      <th>FK_municipio</th>\n",
       "      <th>df_ref</th>\n",
       "      <th>FK_instr_gestao</th>\n",
       "    </tr>\n",
       "  </thead>\n",
       "  <tbody>\n",
       "    <tr>\n",
       "      <th>0</th>\n",
       "      <td>0</td>\n",
       "      <td>2021-01-01</td>\n",
       "      <td>0</td>\n",
       "    </tr>\n",
       "    <tr>\n",
       "      <th>1</th>\n",
       "      <td>0</td>\n",
       "      <td>2021-01-01</td>\n",
       "      <td>1</td>\n",
       "    </tr>\n",
       "    <tr>\n",
       "      <th>2</th>\n",
       "      <td>0</td>\n",
       "      <td>2021-01-01</td>\n",
       "      <td>2</td>\n",
       "    </tr>\n",
       "    <tr>\n",
       "      <th>3</th>\n",
       "      <td>0</td>\n",
       "      <td>2021-01-01</td>\n",
       "      <td>3</td>\n",
       "    </tr>\n",
       "    <tr>\n",
       "      <th>4</th>\n",
       "      <td>0</td>\n",
       "      <td>2021-01-01</td>\n",
       "      <td>4</td>\n",
       "    </tr>\n",
       "    <tr>\n",
       "      <th>...</th>\n",
       "      <td>...</td>\n",
       "      <td>...</td>\n",
       "      <td>...</td>\n",
       "    </tr>\n",
       "    <tr>\n",
       "      <th>2602</th>\n",
       "      <td>216</td>\n",
       "      <td>2020-07-01</td>\n",
       "      <td>0</td>\n",
       "    </tr>\n",
       "    <tr>\n",
       "      <th>2603</th>\n",
       "      <td>216</td>\n",
       "      <td>2020-01-01</td>\n",
       "      <td>0</td>\n",
       "    </tr>\n",
       "    <tr>\n",
       "      <th>2604</th>\n",
       "      <td>216</td>\n",
       "      <td>2019-07-01</td>\n",
       "      <td>0</td>\n",
       "    </tr>\n",
       "    <tr>\n",
       "      <th>2605</th>\n",
       "      <td>216</td>\n",
       "      <td>2019-07-01</td>\n",
       "      <td>1</td>\n",
       "    </tr>\n",
       "    <tr>\n",
       "      <th>2606</th>\n",
       "      <td>216</td>\n",
       "      <td>2019-07-01</td>\n",
       "      <td>2</td>\n",
       "    </tr>\n",
       "  </tbody>\n",
       "</table>\n",
       "<p>2607 rows × 3 columns</p>\n",
       "</div>"
      ],
      "text/plain": [
       "      FK_municipio      df_ref  FK_instr_gestao\n",
       "0                0  2021-01-01                0\n",
       "1                0  2021-01-01                1\n",
       "2                0  2021-01-01                2\n",
       "3                0  2021-01-01                3\n",
       "4                0  2021-01-01                4\n",
       "...            ...         ...              ...\n",
       "2602           216  2020-07-01                0\n",
       "2603           216  2020-01-01                0\n",
       "2604           216  2019-07-01                0\n",
       "2605           216  2019-07-01                1\n",
       "2606           216  2019-07-01                2\n",
       "\n",
       "[2607 rows x 3 columns]"
      ]
     },
     "execution_count": 19,
     "metadata": {},
     "output_type": "execute_result"
    }
   ],
   "source": [
    "# cria a tabela as_mun_instr_gestao\n",
    "col = ['FK_municipio', 'df_ref', 'FK_instr_gestao']\n",
    "df_as_mun_instr_gestao = pd.DataFrame(lst_tmp, columns=col)\n",
    "df_as_mun_instr_gestao"
   ]
  },
  {
   "cell_type": "code",
   "execution_count": 20,
   "metadata": {
    "ExecuteTime": {
     "end_time": "2021-06-15T15:11:17.797203Z",
     "start_time": "2021-06-15T15:11:15.731606Z"
    }
   },
   "outputs": [],
   "source": [
    "# gera as datas iniciais e finais de vigência\n",
    "for i, linha in df_as_mun_instr_gestao.iterrows():\n",
    "    ini_tmp = rd.randint(p1[0][0], p1[0][1])\n",
    "    dias_tmp = rd.randint(p1[1][0], p1[1][1])\n",
    "    dt_ini = df_as_mun_instr_gestao.loc[i, 'df_ref'] + relativedelta(days=ini_tmp)\n",
    "    dt_fim = dt_ini + relativedelta(days=dias_tmp)\n",
    "\n",
    "    df_as_mun_instr_gestao.loc[i, 'ini_vigencia'] = dt_ini\n",
    "    df_as_mun_instr_gestao.loc[i, 'fim_vigencia'] = dt_fim\n",
    "    df_as_mun_instr_gestao.loc[i, 'doc_anexado'] = rd.choices([True, False], p2, k =1)[0]"
   ]
  },
  {
   "cell_type": "code",
   "execution_count": 21,
   "metadata": {
    "ExecuteTime": {
     "end_time": "2021-06-15T15:11:17.812903Z",
     "start_time": "2021-06-15T15:11:17.799590Z"
    }
   },
   "outputs": [
    {
     "data": {
      "text/html": [
       "<div>\n",
       "<style scoped>\n",
       "    .dataframe tbody tr th:only-of-type {\n",
       "        vertical-align: middle;\n",
       "    }\n",
       "\n",
       "    .dataframe tbody tr th {\n",
       "        vertical-align: top;\n",
       "    }\n",
       "\n",
       "    .dataframe thead th {\n",
       "        text-align: right;\n",
       "    }\n",
       "</style>\n",
       "<table border=\"1\" class=\"dataframe\">\n",
       "  <thead>\n",
       "    <tr style=\"text-align: right;\">\n",
       "      <th></th>\n",
       "      <th>FK_municipio</th>\n",
       "      <th>df_ref</th>\n",
       "      <th>FK_instr_gestao</th>\n",
       "      <th>ini_vigencia</th>\n",
       "      <th>fim_vigencia</th>\n",
       "      <th>doc_anexado</th>\n",
       "    </tr>\n",
       "  </thead>\n",
       "  <tbody>\n",
       "    <tr>\n",
       "      <th>0</th>\n",
       "      <td>0</td>\n",
       "      <td>2021-01-01</td>\n",
       "      <td>0</td>\n",
       "      <td>2021-01-06</td>\n",
       "      <td>2021-03-27</td>\n",
       "      <td>False</td>\n",
       "    </tr>\n",
       "    <tr>\n",
       "      <th>1</th>\n",
       "      <td>0</td>\n",
       "      <td>2021-01-01</td>\n",
       "      <td>1</td>\n",
       "      <td>2021-01-04</td>\n",
       "      <td>2021-04-22</td>\n",
       "      <td>True</td>\n",
       "    </tr>\n",
       "    <tr>\n",
       "      <th>2</th>\n",
       "      <td>0</td>\n",
       "      <td>2021-01-01</td>\n",
       "      <td>2</td>\n",
       "      <td>2021-01-07</td>\n",
       "      <td>2021-03-29</td>\n",
       "      <td>False</td>\n",
       "    </tr>\n",
       "    <tr>\n",
       "      <th>3</th>\n",
       "      <td>0</td>\n",
       "      <td>2021-01-01</td>\n",
       "      <td>3</td>\n",
       "      <td>2021-01-03</td>\n",
       "      <td>2021-04-21</td>\n",
       "      <td>True</td>\n",
       "    </tr>\n",
       "    <tr>\n",
       "      <th>4</th>\n",
       "      <td>0</td>\n",
       "      <td>2021-01-01</td>\n",
       "      <td>4</td>\n",
       "      <td>2021-01-05</td>\n",
       "      <td>2021-04-01</td>\n",
       "      <td>False</td>\n",
       "    </tr>\n",
       "    <tr>\n",
       "      <th>...</th>\n",
       "      <td>...</td>\n",
       "      <td>...</td>\n",
       "      <td>...</td>\n",
       "      <td>...</td>\n",
       "      <td>...</td>\n",
       "      <td>...</td>\n",
       "    </tr>\n",
       "    <tr>\n",
       "      <th>2602</th>\n",
       "      <td>216</td>\n",
       "      <td>2020-07-01</td>\n",
       "      <td>0</td>\n",
       "      <td>2020-07-05</td>\n",
       "      <td>2020-10-08</td>\n",
       "      <td>False</td>\n",
       "    </tr>\n",
       "    <tr>\n",
       "      <th>2603</th>\n",
       "      <td>216</td>\n",
       "      <td>2020-01-01</td>\n",
       "      <td>0</td>\n",
       "      <td>2020-01-06</td>\n",
       "      <td>2020-04-16</td>\n",
       "      <td>False</td>\n",
       "    </tr>\n",
       "    <tr>\n",
       "      <th>2604</th>\n",
       "      <td>216</td>\n",
       "      <td>2019-07-01</td>\n",
       "      <td>0</td>\n",
       "      <td>2019-07-03</td>\n",
       "      <td>2019-10-08</td>\n",
       "      <td>True</td>\n",
       "    </tr>\n",
       "    <tr>\n",
       "      <th>2605</th>\n",
       "      <td>216</td>\n",
       "      <td>2019-07-01</td>\n",
       "      <td>1</td>\n",
       "      <td>2019-07-04</td>\n",
       "      <td>2019-10-22</td>\n",
       "      <td>False</td>\n",
       "    </tr>\n",
       "    <tr>\n",
       "      <th>2606</th>\n",
       "      <td>216</td>\n",
       "      <td>2019-07-01</td>\n",
       "      <td>2</td>\n",
       "      <td>2019-07-03</td>\n",
       "      <td>2019-10-07</td>\n",
       "      <td>False</td>\n",
       "    </tr>\n",
       "  </tbody>\n",
       "</table>\n",
       "<p>2607 rows × 6 columns</p>\n",
       "</div>"
      ],
      "text/plain": [
       "      FK_municipio      df_ref  FK_instr_gestao ini_vigencia fim_vigencia  \\\n",
       "0                0  2021-01-01                0   2021-01-06   2021-03-27   \n",
       "1                0  2021-01-01                1   2021-01-04   2021-04-22   \n",
       "2                0  2021-01-01                2   2021-01-07   2021-03-29   \n",
       "3                0  2021-01-01                3   2021-01-03   2021-04-21   \n",
       "4                0  2021-01-01                4   2021-01-05   2021-04-01   \n",
       "...            ...         ...              ...          ...          ...   \n",
       "2602           216  2020-07-01                0   2020-07-05   2020-10-08   \n",
       "2603           216  2020-01-01                0   2020-01-06   2020-04-16   \n",
       "2604           216  2019-07-01                0   2019-07-03   2019-10-08   \n",
       "2605           216  2019-07-01                1   2019-07-04   2019-10-22   \n",
       "2606           216  2019-07-01                2   2019-07-03   2019-10-07   \n",
       "\n",
       "     doc_anexado  \n",
       "0          False  \n",
       "1           True  \n",
       "2          False  \n",
       "3           True  \n",
       "4          False  \n",
       "...          ...  \n",
       "2602       False  \n",
       "2603       False  \n",
       "2604        True  \n",
       "2605       False  \n",
       "2606       False  \n",
       "\n",
       "[2607 rows x 6 columns]"
      ]
     },
     "execution_count": 21,
     "metadata": {},
     "output_type": "execute_result"
    }
   ],
   "source": [
    "df_as_mun_instr_gestao"
   ]
  },
  {
   "cell_type": "markdown",
   "metadata": {},
   "source": [
    "# <font color='red'>4. WRITE</font>"
   ]
  },
  {
   "cell_type": "code",
   "execution_count": 26,
   "metadata": {
    "ExecuteTime": {
     "end_time": "2021-06-15T15:16:22.843771Z",
     "start_time": "2021-06-15T15:16:22.839876Z"
    }
   },
   "outputs": [
    {
     "data": {
      "text/plain": [
       "(217, 3)"
      ]
     },
     "execution_count": 26,
     "metadata": {},
     "output_type": "execute_result"
    }
   ],
   "source": [
    "df_tb_municipios.shape"
   ]
  },
  {
   "cell_type": "code",
   "execution_count": 30,
   "metadata": {
    "ExecuteTime": {
     "end_time": "2021-06-15T15:18:03.550526Z",
     "start_time": "2021-06-15T15:18:03.512663Z"
    }
   },
   "outputs": [],
   "source": [
    "df_tb_municipios.to_csv      (caminho_out + 'tb_municipios.csv',       index=False)\n",
    "df_as_mun_instr_gestao.to_csv(caminho_out + 'as_mun_instr_gestao.csv', index=False)\n",
    "df_tb_mun_form.to_csv        (caminho_out + 'tb_mun_form.csv',         index=False)"
   ]
  },
  {
   "cell_type": "code",
   "execution_count": null,
   "metadata": {},
   "outputs": [],
   "source": []
  }
 ],
 "metadata": {
  "kernelspec": {
   "display_name": "Python 3",
   "language": "python",
   "name": "python3"
  },
  "language_info": {
   "codemirror_mode": {
    "name": "ipython",
    "version": 3
   },
   "file_extension": ".py",
   "mimetype": "text/x-python",
   "name": "python",
   "nbconvert_exporter": "python",
   "pygments_lexer": "ipython3",
   "version": "3.8.10"
  }
 },
 "nbformat": 4,
 "nbformat_minor": 4
}
