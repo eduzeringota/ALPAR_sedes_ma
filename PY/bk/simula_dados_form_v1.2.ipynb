{
 "cells": [
  {
   "cell_type": "markdown",
   "metadata": {},
   "source": [
    "# <font color='red'>SEDES - Gerador de Dados</font>"
   ]
  },
  {
   "cell_type": "markdown",
   "metadata": {
    "heading_collapsed": true
   },
   "source": [
    "# <font color='blue'>1.0 import</font>"
   ]
  },
  {
   "cell_type": "code",
   "execution_count": null,
   "metadata": {
    "ExecuteTime": {
     "end_time": "2021-07-16T21:52:49.274576Z",
     "start_time": "2021-07-16T21:52:48.776154Z"
    },
    "hidden": true
   },
   "outputs": [],
   "source": [
    "import csv\n",
    "import os\n",
    "import pandas as pd\n",
    "import random as rd\n",
    "import datetime as dt\n",
    "import names\n",
    "from dateutil.relativedelta import relativedelta"
   ]
  },
  {
   "cell_type": "markdown",
   "metadata": {
    "heading_collapsed": true
   },
   "source": [
    "# <font color='blue'>2.0 parâmetros de ambiente</font>"
   ]
  },
  {
   "cell_type": "code",
   "execution_count": null,
   "metadata": {
    "ExecuteTime": {
     "end_time": "2021-07-16T21:52:49.283286Z",
     "start_time": "2021-07-16T21:52:49.276936Z"
    },
    "hidden": true
   },
   "outputs": [],
   "source": [
    "# campo de negócio no BI\n",
    "ORGAO_GESTOR = 'orgaoGestorDaPoliticaDeAssistenciaSocial'\n",
    "ORGANIZACAO_PPA = 'comoEstaOrganizadoOPPADaPASNoMunicipio'\n",
    "TUP_INSTR_GESTAO = (\n",
    "    'planoDecenalDeAssistenciaSocial-possui',\n",
    "    'planoMunicipalDeAssistenciaSocial-possui',\n",
    "    'PlanoMunicipaldeEducacaoPermanentedoSUAS-possui',\n",
    "    'diagnosticoSocioterritorial-possui',\n",
    "    'RelatoriodeGestaoDoExercicioAnterior-possui',\n",
    "    'LeideRegulamentacaodoSUAS-possui'\n",
    ")\n",
    "AREAS_ESSENCIAIS = (\n",
    "    'quaisAreasEssenciaisDoSUASEstaoImplantadosOficialmente-gestao_do_trabalho',\n",
    "    'quaisAreasEssenciaisDoSUASEstaoImplantadosOficialmente-protecao_social_basica',\n",
    "    'quaisAreasEssenciaisDoSUASEstaoImplantadosOficialmente-protecao_social_especial',\n",
    "    'quaisAreasEssenciaisDoSUASEstaoImplantadosOficialmente-gestao_do_suas'\n",
    ")\n",
    "VS = (\n",
    "    'oMunicipioDesenvolveQuaisAcoesDeVigilanciaSocioassistencial-levanta_dados_no_territorio_equipamento_da_pas',\n",
    "    'oMunicipioDesenvolveQuaisAcoesDeVigilanciaSocioassistencial-analisa_dados_levantados',\n",
    "    'oMunicipioDesenvolveQuaisAcoesDeVigilanciaSocioassistencial-sistematiza_dados_e_produz_relatorios',\n",
    "    'oMunicipioDesenvolveQuaisAcoesDeVigilanciaSocioassistencial-dissemina_dados_e_ou_relatorios',\n",
    "    'oMunicipioDesenvolveQuaisAcoesDeVigilanciaSocioassistencial-realiza_diagnostico_socioterritorial',\n",
    "    'oMunicipioDesenvolveQuaisAcoesDeVigilanciaSocioassistencial-realiza_monitoramento_sistematico_dos_servicos_socioassistenciais',\n",
    "    'oMunicipioDesenvolveQuaisAcoesDeVigilanciaSocioassistencial-realiza_reunioes_com_as_equipes_responsaveis_pela_execucao_dos_servicos_socioassistenciais'\n",
    ")\n",
    "MONITORA_SISTEMAS = (\n",
    "    'quemAlimentaOsDadosNosSistemasDaRedeSUAS-CAD_SUAS',\n",
    "    'quemAlimentaOsDadosNosSistemasDaRedeSUAS-RMA',\n",
    "    'quemAlimentaOsDadosNosSistemasDaRedeSUAS-SISC',\n",
    "    'quemAlimentaOsDadosNosSistemasDaRedeSUAS-E-PCF',\n",
    "    'quemAlimentaOsDadosNosSistemasDaRedeSUAS-SIMPETI',\n",
    "    'quemAlimentaOsDadosNosSistemasDaRedeSUAS-Plano_de_Acao_SAA',\n",
    "    'quemAlimentaOsDadosNosSistemasDaRedeSUAS-Demonstrativo_Sintetico_de_Execucao_Fisico_Financeiro',\n",
    "    'quemAlimentaOsDadosNosSistemasDaRedeSUAS-Alimentacao_da_Plataforma_Estadual_de_Monitoramento_da_PAS'\n",
    ")\n",
    "ALIMENTA_SUAS = (\n",
    "    'quemAlimentaOsDadosNosSistemasDaRedeSUAS-gestao',\n",
    "    'quemAlimentaOsDadosNosSistemasDaRedeSUAS-protecao_social_basica',\n",
    "    'quemAlimentaOsDadosNosSistemasDaRedeSUAS-protecao_social_especial',\n",
    "    'quemAlimentaOsDadosNosSistemasDaRedeSUAS-protecao_social_outros'\n",
    ")\n",
    "EQUIPE_VS = (\n",
    "    {'prefixo': 'qualEquipeCompoeOSetorDaVigilanciaSocioassistencial', 'suf_nome': 'nome'},\n",
    "    {'prefixo': 'qualEquipeCompoeOSetorDaVigilanciaSocioassistencial', 'suf_escolaridade': 'escolaridade'},\n",
    "    {'prefixo': 'qualEquipeCompoeOSetorDaVigilanciaSocioassistencial', 'suf_formacao': 'formacao'},\n",
    "    {'prefixo': 'qualEquipeCompoeOSetorDaVigilanciaSocioassistencial', 'suf_cargo': 'cargo'}\n",
    ")\n",
    "\n",
    "# data inicial de simulação\n",
    "DATA_INICIAL = (2018, 3, 1)\n",
    "\n",
    "# tabelas gerais\n",
    "N_ORGAO_GESTOR = (6, 11) # quantidade de orgãos gestores possíveis para a tabela de orgãos gestores\n",
    "N_ESCOLARIDADE = (5, 10) # quantidade de escolaridades possíveis para a tabela escolaridade\n",
    "N_FORMACAO     = (5, 10) # quantidade de formações possíveis para a tabela formacao\n",
    "N_CARGO        = (5, 10) # quantidade de cargos possíveis para a tabela cargo\n",
    "N_EQUIPE_VS    = (2, 6)  # quantidade de pessoas possíveis para compor a equipe de VS\n",
    "N_CAPACITACOES_OFERTADAS = (0, 100) # quantidade possível de capacitações\n",
    "\n",
    "# formulários respondidos\n",
    "form_resp = (80, 100) # % de formulários respondidos\n",
    "orgao_gestor = (1, 3) # possibilidades de orgão gestor por município a cada data de referência\n",
    "campos_por_form = (50, 150) # quantidade de campos por formulário sem contar os identificados para o BI\n",
    "\n",
    "rd.seed(55) # mantem sempre os mesmos parâmetros de randomização"
   ]
  },
  {
   "cell_type": "code",
   "execution_count": null,
   "metadata": {
    "ExecuteTime": {
     "end_time": "2021-07-16T21:52:49.297247Z",
     "start_time": "2021-07-16T21:52:49.286254Z"
    },
    "hidden": true
   },
   "outputs": [],
   "source": [
    "CAPACITACOES_OFERTADAS = (\n",
    "    'capacitacoesOfertadasGestaoSUAS-conselheiros-quantidadeEstado',\n",
    "    'capacitacoesOfertadasGestaoSUAS-conselheiros-quantidadeGovernoFederal',\n",
    "    'capacitacoesOfertadasGestaoSUAS-conselheiros-quantidadeMunicipio',\n",
    "    'capacitacoesOfertadasGestaoSUAS-gestor-quantidadeEstado',\n",
    "    'capacitacoesOfertadasGestaoSUAS-gestor-quantidadeGovernoFederal',\n",
    "    'capacitacoesOfertadasGestaoSUAS-gestor-quantidadeMunicipio',\n",
    "#     'capacitacoesOfertadasGestaoSUAS-nome',\n",
    "#     'capacitacoesOfertadasGestaoSUAS-quantidadeEstado',\n",
    "#     'capacitacoesOfertadasGestaoSUAS-quantidadeGovernoFederal',\n",
    "#     'capacitacoesOfertadasGestaoSUAS-quantidadeMunicipio',\n",
    "    'capacitacoesOfertadasGestaoSUAS-trabalhadoresDeNivelMedio-quantidadeEstado',\n",
    "    'capacitacoesOfertadasGestaoSUAS-trabalhadoresDeNivelMedio-quantidadeGovernoFederal',\n",
    "    'capacitacoesOfertadasGestaoSUAS-trabalhadoresDeNivelMedio-quantidadeMunicipio',\n",
    "    'capacitacoesOfertadasGestaoSUAS-trabalhadoresDeNivelSuperior-quantidadeEstado',\n",
    "    'capacitacoesOfertadasGestaoSUAS-trabalhadoresDeNivelSuperior-quantidadeGovernoFederal',\n",
    "    'capacitacoesOfertadasGestaoSUAS-trabalhadoresDeNivelSuperior-quantidadeMunicipio',\n",
    "    'capacitacoesOfertadasProtecaoSocialBasica-conselheiros-quantidadeEstado',\n",
    "    'capacitacoesOfertadasProtecaoSocialBasica-conselheiros-quantidadeGovernoFederal',\n",
    "    'capacitacoesOfertadasProtecaoSocialBasica-conselheiros-quantidadeMunicipio',\n",
    "    'capacitacoesOfertadasProtecaoSocialBasica-gestor-quantidadeEstado',\n",
    "    'capacitacoesOfertadasProtecaoSocialBasica-gestor-quantidadeGovernoFederal',\n",
    "    'capacitacoesOfertadasProtecaoSocialBasica-gestor-quantidadeMunicipio',\n",
    "#     'capacitacoesOfertadasProtecaoSocialBasica-nome',\n",
    "#     'capacitacoesOfertadasProtecaoSocialBasica-quantidadeEstado',\n",
    "#     'capacitacoesOfertadasProtecaoSocialBasica-quantidadeGovernoFederal',\n",
    "#     'capacitacoesOfertadasProtecaoSocialBasica-quantidadeMunicipio',\n",
    "    'capacitacoesOfertadasProtecaoSocialBasica-trabalhadoresDeNivelMedio-quantidadeEstado',\n",
    "    'capacitacoesOfertadasProtecaoSocialBasica-trabalhadoresDeNivelMedio-quantidadeGovernoFederal',\n",
    "    'capacitacoesOfertadasProtecaoSocialBasica-trabalhadoresDeNivelMedio-quantidadeMunicipio',\n",
    "    'capacitacoesOfertadasProtecaoSocialBasica-trabalhadoresDeNivelSuperior-quantidadeEstado',\n",
    "    'capacitacoesOfertadasProtecaoSocialBasica-trabalhadoresDeNivelSuperior-quantidadeGovernoFederal',\n",
    "    'capacitacoesOfertadasProtecaoSocialBasica-trabalhadoresDeNivelSuperior-quantidadeMunicipio',\n",
    "    'capacitacoesOfertadasProtecaoSocialControleSocial-conselheiros-quantidadeEstado',\n",
    "    'capacitacoesOfertadasProtecaoSocialControleSocial-conselheiros-quantidadeGovernoFederal',\n",
    "    'capacitacoesOfertadasProtecaoSocialControleSocial-conselheiros-quantidadeMunicipio',\n",
    "    'capacitacoesOfertadasProtecaoSocialControleSocial-gestor-quantidadeEstado',\n",
    "    'capacitacoesOfertadasProtecaoSocialControleSocial-gestor-quantidadeGovernoFederal',\n",
    "    'capacitacoesOfertadasProtecaoSocialControleSocial-gestor-quantidadeMunicipio',\n",
    "#     'capacitacoesOfertadasProtecaoSocialControleSocial-nome',\n",
    "#     'capacitacoesOfertadasProtecaoSocialControleSocial-quantidadeEstado',\n",
    "#     'capacitacoesOfertadasProtecaoSocialControleSocial-quantidadeGovernoFederal',\n",
    "#     'capacitacoesOfertadasProtecaoSocialControleSocial-quantidadeMunicipio',\n",
    "    'capacitacoesOfertadasProtecaoSocialControleSocial-trabalhadoresDeNivelMedio-quantidadeEstado',\n",
    "    'capacitacoesOfertadasProtecaoSocialControleSocial-trabalhadoresDeNivelMedio-quantidadeGovernoFederal',\n",
    "    'capacitacoesOfertadasProtecaoSocialControleSocial-trabalhadoresDeNivelMedio-quantidadeMunicipio',\n",
    "    'capacitacoesOfertadasProtecaoSocialControleSocial-trabalhadoresDeNivelSuperior-quantidadeEstado',\n",
    "    'capacitacoesOfertadasProtecaoSocialControleSocial-trabalhadoresDeNivelSuperior-quantidadeGovernoFederal',\n",
    "    'capacitacoesOfertadasProtecaoSocialControleSocial-trabalhadoresDeNivelSuperior-quantidadeMunicipio',\n",
    "    'capacitacoesOfertadasProtecaoSocialEspecial-conselheiros-quantidadeEstado',\n",
    "    'capacitacoesOfertadasProtecaoSocialEspecial-conselheiros-quantidadeGovernoFederal',\n",
    "    'capacitacoesOfertadasProtecaoSocialEspecial-conselheiros-quantidadeMunicipio',\n",
    "    'capacitacoesOfertadasProtecaoSocialEspecial-gestor-quantidadeEstado',\n",
    "    'capacitacoesOfertadasProtecaoSocialEspecial-gestor-quantidadeGovernoFederal',\n",
    "    'capacitacoesOfertadasProtecaoSocialEspecial-gestor-quantidadeMunicipio',\n",
    "#     'capacitacoesOfertadasProtecaoSocialEspecial-nome',\n",
    "#     'capacitacoesOfertadasProtecaoSocialEspecial-quantidadeEstado',\n",
    "#     'capacitacoesOfertadasProtecaoSocialEspecial-quantidadeGovernoFederal',\n",
    "#     'capacitacoesOfertadasProtecaoSocialEspecial-quantidadeMunicipio',\n",
    "    'capacitacoesOfertadasProtecaoSocialEspecial-trabalhadoresDeNivelMedio-quantidadeEstado',\n",
    "    'capacitacoesOfertadasProtecaoSocialEspecial-trabalhadoresDeNivelMedio-quantidadeGovernoFederal',\n",
    "    'capacitacoesOfertadasProtecaoSocialEspecial-trabalhadoresDeNivelMedio-quantidadeMunicipio',\n",
    "    'capacitacoesOfertadasProtecaoSocialEspecial-trabalhadoresDeNivelSuperior-quantidadeEstado',\n",
    "    'capacitacoesOfertadasProtecaoSocialEspecial-trabalhadoresDeNivelSuperior-quantidadeGovernoFederal',\n",
    "    'capacitacoesOfertadasProtecaoSocialEspecial-trabalhadoresDeNivelSuperior-quantidadeMunicipio'\n",
    ")\n",
    "len(CAPACITACOES_OFERTADAS)"
   ]
  },
  {
   "cell_type": "markdown",
   "metadata": {
    "heading_collapsed": true
   },
   "source": [
    "# <font color='blue'>3.0 extração</font>"
   ]
  },
  {
   "cell_type": "markdown",
   "metadata": {
    "hidden": true
   },
   "source": [
    "## 3.1 extração de dados externo"
   ]
  },
  {
   "cell_type": "code",
   "execution_count": null,
   "metadata": {
    "ExecuteTime": {
     "end_time": "2021-07-16T21:52:49.311008Z",
     "start_time": "2021-07-16T21:52:49.299656Z"
    },
    "hidden": true,
    "scrolled": false
   },
   "outputs": [],
   "source": [
    "# abrindo os arquivos...\n",
    "caminho_in = '../dados/apoio/'\n",
    "caminho_out = '../dados/simulacao/'\n",
    "\n",
    "arq_municipios    = caminho_in + \"tab_municipios_new.csv\"\n",
    "arq_instr_gestao  = caminho_in + \"tab_instr_gestao.csv\"\n",
    "arq_escolaridades = caminho_in + \"tab_escolaridade.csv\"\n",
    "arq_formacoes     = caminho_in + \"tab_formacoes.csv\"\n",
    "arq_cargos        = caminho_in + \"tab_cargos.csv\"\n",
    "\n",
    "with open(arq_escolaridades) as f:\n",
    "    lst_tot_escolaridades = list(csv.reader(f))\n",
    "    \n",
    "with open(arq_formacoes) as f:\n",
    "    lst_tot_formacoes = list(csv.reader(f))\n",
    "    \n",
    "with open(arq_cargos) as f:\n",
    "    lst_tot_cargos = list(csv.reader(f))\n",
    "\n",
    "df_municipios =   pd.read_csv(arq_municipios, sep = ',', dtype = str)\n",
    "df_instr_gestao = pd.read_csv(arq_instr_gestao, sep = ',', dtype = str)\n",
    "\n",
    "print(\"municipios:              linhas = %s , colunas = %s \" % df_municipios.shape)\n",
    "print(\"instrumentos de gestão:  linhas = %s , colunas = %s \" % df_instr_gestao.shape)\n",
    "print(\"escolaridades:           linhas = %s \" % len(lst_tot_escolaridades))\n",
    "print(\"formacoes:               linhas = %s \" % len(lst_tot_formacoes))\n",
    "print(\"cargos:                  linhas = %s \" % len(lst_tot_cargos))"
   ]
  },
  {
   "cell_type": "code",
   "execution_count": null,
   "metadata": {
    "ExecuteTime": {
     "end_time": "2021-07-16T21:52:49.329736Z",
     "start_time": "2021-07-16T21:52:49.313113Z"
    },
    "hidden": true
   },
   "outputs": [],
   "source": [
    "df_municipios"
   ]
  },
  {
   "cell_type": "markdown",
   "metadata": {},
   "source": [
    "# <font color='blue'>4.0 transformação</font>"
   ]
  },
  {
   "cell_type": "markdown",
   "metadata": {
    "heading_collapsed": true
   },
   "source": [
    "## 4.1 Tabelas de Negócio"
   ]
  },
  {
   "cell_type": "markdown",
   "metadata": {
    "hidden": true
   },
   "source": [
    "### 4.1.1 tabela de \"Orgãos Gestores\""
   ]
  },
  {
   "cell_type": "code",
   "execution_count": null,
   "metadata": {
    "ExecuteTime": {
     "end_time": "2021-07-16T21:52:49.338981Z",
     "start_time": "2021-07-16T21:52:49.332391Z"
    },
    "hidden": true
   },
   "outputs": [],
   "source": [
    "# cria uma tabela de orgãos gestores possíveis\n",
    "# quantidade de orgão gestores na tabela\n",
    "\n",
    "lst_OG = ['Orgão Gestor ' + str(x + 1).zfill(2) for x in range(rd.randint(N_ORGAO_GESTOR[0], N_ORGAO_GESTOR[1]))]\n",
    "lst_OG"
   ]
  },
  {
   "cell_type": "markdown",
   "metadata": {
    "hidden": true
   },
   "source": [
    "### 4.1.2 tabela de \"Organização de PPAs\""
   ]
  },
  {
   "cell_type": "code",
   "execution_count": null,
   "metadata": {
    "ExecuteTime": {
     "end_time": "2021-07-16T21:52:49.346775Z",
     "start_time": "2021-07-16T21:52:49.341798Z"
    },
    "hidden": true
   },
   "outputs": [],
   "source": [
    "lst_org_PPA = (\n",
    "    'Por nível de proteção social',\n",
    "    'Por programas, serviços, projetos e benefícios'\n",
    ")\n",
    "lst_org_PPA"
   ]
  },
  {
   "cell_type": "markdown",
   "metadata": {
    "hidden": true
   },
   "source": [
    "### 4.1.3 tabela de \"Escolaridade\""
   ]
  },
  {
   "cell_type": "code",
   "execution_count": null,
   "metadata": {
    "ExecuteTime": {
     "end_time": "2021-07-16T21:52:49.356585Z",
     "start_time": "2021-07-16T21:52:49.351598Z"
    },
    "hidden": true
   },
   "outputs": [],
   "source": [
    "# sorteia a quantidade de nomes de escolaridades irão para a lista\n",
    "n = rd.randint(N_ESCOLARIDADE[0], N_ESCOLARIDADE[1])\n",
    "\n",
    "# sorteia quais os nomes de escolaridade farão parte dos dados\n",
    "lst_escolaridade = rd.sample(lst_tot_escolaridades, k=n)\n",
    "lst_escolaridade"
   ]
  },
  {
   "cell_type": "markdown",
   "metadata": {
    "hidden": true
   },
   "source": [
    "### 4.1.4 tabela de \"Formação\""
   ]
  },
  {
   "cell_type": "code",
   "execution_count": null,
   "metadata": {
    "ExecuteTime": {
     "end_time": "2021-07-16T21:52:49.366599Z",
     "start_time": "2021-07-16T21:52:49.360654Z"
    },
    "hidden": true
   },
   "outputs": [],
   "source": [
    "# sorteia a quantidade de nomes de formações irão para a lista\n",
    "n = rd.randint(N_FORMACAO[0], N_FORMACAO[1])\n",
    "\n",
    "# sorteia quais os nomes de escolaridade farão parte dos dados\n",
    "lst_formacao = rd.sample(lst_tot_formacoes, k=n)\n",
    "lst_formacao"
   ]
  },
  {
   "cell_type": "markdown",
   "metadata": {
    "hidden": true
   },
   "source": [
    "### 4.1.5 tabela de \"Cargo\""
   ]
  },
  {
   "cell_type": "code",
   "execution_count": null,
   "metadata": {
    "ExecuteTime": {
     "end_time": "2021-07-16T21:52:49.375525Z",
     "start_time": "2021-07-16T21:52:49.369645Z"
    },
    "hidden": true
   },
   "outputs": [],
   "source": [
    "# sorteia a quantidade de nomes de cargos irão para a lista\n",
    "n = rd.randint(N_CARGO[0], N_CARGO[1])\n",
    "\n",
    "# sorteia quais os nomes de escolaridade farão parte dos dados\n",
    "lst_cargo = rd.sample(lst_tot_cargos, k=n)\n",
    "lst_cargo"
   ]
  },
  {
   "cell_type": "markdown",
   "metadata": {
    "hidden": true
   },
   "source": [
    "### 4.1.6 tabela \"Município\""
   ]
  },
  {
   "cell_type": "code",
   "execution_count": null,
   "metadata": {
    "ExecuteTime": {
     "end_time": "2021-07-16T21:52:49.397381Z",
     "start_time": "2021-07-16T21:52:49.377670Z"
    },
    "hidden": true
   },
   "outputs": [],
   "source": [
    "df_municipios = df_municipios[['municipio']]\n",
    "df_municipios"
   ]
  },
  {
   "cell_type": "markdown",
   "metadata": {
    "hidden": true
   },
   "source": [
    "### 4.1.7 tabela \"Serviço/Formulário\""
   ]
  },
  {
   "cell_type": "code",
   "execution_count": null,
   "metadata": {
    "ExecuteTime": {
     "end_time": "2021-07-16T21:52:49.413423Z",
     "start_time": "2021-07-16T21:52:49.400332Z"
    },
    "hidden": true
   },
   "outputs": [],
   "source": [
    "# lista de serviços (cada serviço é equivalente e um formulário)\n",
    "tup_servicos = (\n",
    "    ('o1-semestral municipio', 'semestral', 'municipios'),\n",
    "    ('o1-semestral SEDES',     'semestral', 'sedes')\n",
    ")\n",
    "df_tb_servicos = pd.DataFrame(tup_servicos, columns=['servico', 'periodicidade', 'alvo'])\n",
    "df_tb_servicos"
   ]
  },
  {
   "cell_type": "markdown",
   "metadata": {
    "hidden": true
   },
   "source": [
    "### 4.1.8 serviços/formulário x campos fictícios"
   ]
  },
  {
   "cell_type": "code",
   "execution_count": null,
   "metadata": {
    "ExecuteTime": {
     "end_time": "2021-07-16T21:52:49.430194Z",
     "start_time": "2021-07-16T21:52:49.415485Z"
    },
    "hidden": true
   },
   "outputs": [],
   "source": [
    "# lista de campos por serviço/formulário\n",
    "cont = 0; lst_campos = []\n",
    "for i in tup_servicos:\n",
    "    n_campos = rd.randint(10, 15)\n",
    "    for j in range(n_campos):\n",
    "        cont += 1\n",
    "        lst = [i[0], 'col_' + str(cont), 'STRING']\n",
    "        lst_campos.append(lst)\n",
    "lst_campos\n",
    "\n",
    "df_campos_fic = pd.DataFrame(lst_campos, columns=['servico', 'atributo', 'tipo'])\n",
    "df_campos_fic"
   ]
  },
  {
   "cell_type": "markdown",
   "metadata": {},
   "source": [
    "## (A) Módulo Semestral"
   ]
  },
  {
   "cell_type": "markdown",
   "metadata": {},
   "source": [
    "### A.1 gera datas base - semestral"
   ]
  },
  {
   "cell_type": "code",
   "execution_count": null,
   "metadata": {
    "ExecuteTime": {
     "end_time": "2021-07-16T21:52:49.446157Z",
     "start_time": "2021-07-16T21:52:49.433773Z"
    }
   },
   "outputs": [],
   "source": [
    "# cria uma coleção de datas de referências de todos os semestres desde o início até hoje\n",
    "# confirma que a data inicial é o primeiro dia do semestre\n",
    "dt_inicial = dt.date(DATA_INICIAL[0], 1 if DATA_INICIAL[1] <= 6 else 7, 1)\n",
    "\n",
    "# monta uma lista de todos os semestres desde a data inicial até hoje\n",
    "lst_dt_semestral = []; dt_atual = dt_inicial\n",
    "while dt_atual < dt.date.today():\n",
    "    dtf = dt_atual + relativedelta(months = 6) - relativedelta(days = 1)\n",
    "    n_dias = (dtf - dt_atual).days\n",
    "    lst_dt_semestral.append([dt_atual, dtf, n_dias])\n",
    "    dt_atual = dt_atual + relativedelta(months = 6)\n",
    "\n",
    "# substitui a última data pela data de hoje\n",
    "lst_dt_semestral[len(lst_dt_semestral) - 1][1] = dt.date.today()\n",
    "lst_dt_semestral[len(lst_dt_semestral) - 1][2] = (lst_dt_semestral[len(lst_dt_semestral) - 1][1] - lst_dt_semestral[len(lst_dt_semestral) - 1][0]).days\n",
    "lst_dt_semestral"
   ]
  },
  {
   "cell_type": "markdown",
   "metadata": {},
   "source": [
    "### A.2 BASE formulários MUNICÍPIOS"
   ]
  },
  {
   "cell_type": "markdown",
   "metadata": {},
   "source": [
    "#### A.2.1 Protocolos/Dt_Protocolos/Municípios"
   ]
  },
  {
   "cell_type": "code",
   "execution_count": null,
   "metadata": {
    "ExecuteTime": {
     "end_time": "2021-07-16T21:52:49.564136Z",
     "start_time": "2021-07-16T21:52:49.449175Z"
    },
    "scrolled": true
   },
   "outputs": [],
   "source": [
    "# cria a combinação de municípios e serviços para alvo \"municípios\"\n",
    "dfa = df_tb_servicos[df_tb_servicos['alvo'] == 'municipios'][['servico', 'periodicidade']]\n",
    "df = pd.merge(dfa, df_municipios, how='cross')\n",
    "\n",
    "# cria datas de protocolos\n",
    "lst = []; pct = 1\n",
    "for idx in range(df.shape[0]):\n",
    "    for i in lst_dt_semestral:\n",
    "        n_protocolos = rd.randint(0, 3)\n",
    "        if n_protocolos > 0:\n",
    "            lst.append([idx, 'pct_m_' + str(pct), i[0],\n",
    "                        df.loc[idx, 'servico'], df.loc[idx, 'municipio']])\n",
    "            pct += 1\n",
    "            for j in range(1, n_protocolos):\n",
    "                dias = rd.randint(1, i[2])\n",
    "                dt = i[0] + relativedelta(days = dias)\n",
    "                lst.append([idx, 'pct_m_' + str(pct), dt, \n",
    "                            df.loc[idx, 'servico'], df.loc[idx, 'municipio']])\n",
    "                pct += 1\n",
    "df_pct_mu = pd.DataFrame(lst, columns=['idx', 'protocolo', 'dt_protocolo', 'servico', 'municipio'])\n",
    "lst_pct_mu = list(df_pct_mu['protocolo'])\n",
    "display(df_pct_mu)"
   ]
  },
  {
   "cell_type": "markdown",
   "metadata": {},
   "source": [
    "#### A.2.2 Campos Fictícios - (A.2.1) x (A.1.8)"
   ]
  },
  {
   "cell_type": "code",
   "execution_count": null,
   "metadata": {
    "ExecuteTime": {
     "end_time": "2021-07-16T21:52:49.602714Z",
     "start_time": "2021-07-16T21:52:49.566895Z"
    }
   },
   "outputs": [],
   "source": [
    "df_final = pd.merge(df_pct_mu, df_campos_fic).drop(['idx', 'municipio'], axis=1)\n",
    "df_final"
   ]
  },
  {
   "cell_type": "markdown",
   "metadata": {},
   "source": [
    "#### A.2.3 Atribuição de Valores aos Campos Fictícios - (A.2.2) + coluna \"valor\""
   ]
  },
  {
   "cell_type": "code",
   "execution_count": null,
   "metadata": {
    "ExecuteTime": {
     "end_time": "2021-07-16T21:52:49.685909Z",
     "start_time": "2021-07-16T21:52:49.604868Z"
    }
   },
   "outputs": [],
   "source": [
    "def GeraValor(tp):\n",
    "    vl = '0'\n",
    "    if tp == 'STRING':\n",
    "        vl = 'valor_' + str(rd.randint(1, 1000))\n",
    "    return vl\n",
    "\n",
    "df_final['valor'] = df_final['tipo'].apply(GeraValor)\n",
    "df_final"
   ]
  },
  {
   "cell_type": "markdown",
   "metadata": {},
   "source": [
    "#### A.2.4 Gera linha/campo com atributo \"município\" e concatena com campos fictícios - (A.2.3)"
   ]
  },
  {
   "cell_type": "code",
   "execution_count": null,
   "metadata": {
    "ExecuteTime": {
     "end_time": "2021-07-16T21:52:49.720539Z",
     "start_time": "2021-07-16T21:52:49.688616Z"
    }
   },
   "outputs": [],
   "source": [
    "# gera um dataset temporário de atributos municípios\n",
    "df_tmp = df_pct_mu.copy()\n",
    "df_tmp['atributo'] = 'municipio'\n",
    "df_tmp['tipo'] = 'STRING'\n",
    "df_tmp = df_tmp.rename(columns={'municipio': 'valor'})\n",
    "df_tmp = df_tmp.drop(['idx'], axis=1)\n",
    "\n",
    "# gera dataset final para aplicar os registros de negócio\n",
    "df_final = pd.concat([df_final, df_tmp])\n",
    "df_final"
   ]
  },
  {
   "cell_type": "markdown",
   "metadata": {},
   "source": [
    "### A.3 BASE formulários SEDES-MA"
   ]
  },
  {
   "cell_type": "markdown",
   "metadata": {},
   "source": [
    "#### A.3.1 Protocolos/Dt_Protocolos/Sedes"
   ]
  },
  {
   "cell_type": "code",
   "execution_count": null,
   "metadata": {
    "ExecuteTime": {
     "end_time": "2021-07-16T21:52:49.752596Z",
     "start_time": "2021-07-16T21:52:49.726218Z"
    }
   },
   "outputs": [],
   "source": [
    "# cria a combinação de municípios e serviços para alvo \"SEDES\"\n",
    "df = df_tb_servicos[df_tb_servicos['alvo'] == 'sedes'][['servico', 'periodicidade']].reset_index()\n",
    "df['respondedor'] = 'sedes'\n",
    "\n",
    "# cria datas de protocolos\n",
    "lst = []; pct = 1\n",
    "for idx in range(df.shape[0]):\n",
    "    for i in lst_dt_semestral:\n",
    "        n_protocolos = rd.randint(0, 3)\n",
    "        if n_protocolos > 0:\n",
    "            lst.append([idx, 'pct_s_' + str(pct), i[0], \n",
    "                        df.loc[idx, 'servico'], df.loc[idx, 'respondedor']])\n",
    "            pct += 1\n",
    "            for j in range(1, n_protocolos):\n",
    "                dias = rd.randint(1, i[2])\n",
    "                dt = i[0] + relativedelta(days = dias)\n",
    "                lst.append([idx, 'pct_s_' + str(pct), dt, \n",
    "                            df.loc[idx, 'servico'], df.loc[idx, 'respondedor']])\n",
    "                pct += 1\n",
    "df_pct_se = pd.DataFrame(lst, columns=['idx', 'protocolo', 'dt_protocolo', 'servico', 'respondedor'])\n",
    "lst_pct_se = list(df_pct_se['protocolo'])\n",
    "display(df_pct_se)"
   ]
  },
  {
   "cell_type": "markdown",
   "metadata": {},
   "source": [
    "### A.3 NEGOCIO formulários Municípios"
   ]
  },
  {
   "cell_type": "markdown",
   "metadata": {},
   "source": [
    "### E.1 Orgão Gestor"
   ]
  },
  {
   "cell_type": "code",
   "execution_count": null,
   "metadata": {
    "ExecuteTime": {
     "end_time": "2021-07-16T21:52:49.803370Z",
     "start_time": "2021-07-16T21:52:49.756389Z"
    }
   },
   "outputs": [],
   "source": [
    "# métrica Órgão Gestor\n",
    "colunas = ['protocolo', 'dt_protocolo', 'servico']\n",
    "df_tmp = df_pct_mu[(df_pct_mu['servico'] == 'o1-semestral municipio')][colunas]\n",
    "df_tmp['atributo'] = ORGAO_GESTOR\n",
    "df_tmp['tipo'] = 'STRING'\n",
    "df_tmp['valor'] = df_tmp.apply(lambda row: rd.sample(lst_OG, k=1)[0], axis=1)\n",
    "\n",
    "df_final = pd.concat([df_final, df_tmp])\n",
    "df_final"
   ]
  },
  {
   "cell_type": "markdown",
   "metadata": {},
   "source": [
    "### E.2 Instrumentos de Gestão"
   ]
  },
  {
   "cell_type": "code",
   "execution_count": null,
   "metadata": {
    "ExecuteTime": {
     "end_time": "2021-07-16T21:52:49.987171Z",
     "start_time": "2021-07-16T21:52:49.805478Z"
    }
   },
   "outputs": [],
   "source": [
    "# métrica Órgão Gestor\n",
    "lst_vls = ('false', 'true')\n",
    "colunas = ['protocolo', 'dt_protocolo', 'servico']\n",
    "\n",
    "for i in TUP_INSTR_GESTAO:\n",
    "    df_tmp = df_pct_mu[(df_pct_mu['servico'] == 'o1-semestral municipio')][colunas]\n",
    "    df_tmp['atributo'] = i\n",
    "    df_tmp['tipo'] = 'STRING'\n",
    "    df_tmp['valor'] = df_tmp.apply(lambda row: rd.sample(lst_vls, k=1)[0], axis=1)\n",
    "    df_tmp = pd.concat([df_final, df_tmp])\n",
    "\n",
    "df_final"
   ]
  },
  {
   "cell_type": "markdown",
   "metadata": {},
   "source": [
    "### E.3 Áreas Essenciais"
   ]
  },
  {
   "cell_type": "code",
   "execution_count": null,
   "metadata": {
    "ExecuteTime": {
     "end_time": "2021-07-16T21:52:50.109515Z",
     "start_time": "2021-07-16T21:52:49.989329Z"
    }
   },
   "outputs": [],
   "source": [
    "# métrica Áreas Essenciais\n",
    "lst_vls = ('false', 'true')\n",
    "colunas = ['protocolo', 'dt_protocolo', 'servico']\n",
    "\n",
    "for i in AREAS_ESSENCIAIS:\n",
    "    df_tmp = df_pct_mu[(df_pct_mu['servico'] == 'o1-semestral municipio')][colunas]\n",
    "    df_tmp['atributo'] = i\n",
    "    df_tmp['tipo'] = 'STRING'\n",
    "    df_tmp['valor'] = df_tmp.apply(lambda row: rd.sample(lst_vls, k=1)[0], axis=1)\n",
    "    df_final = pd.concat([df_final, df_tmp])\n",
    "\n",
    "df_final"
   ]
  },
  {
   "cell_type": "markdown",
   "metadata": {},
   "source": [
    "### E.4 Organização PPA"
   ]
  },
  {
   "cell_type": "code",
   "execution_count": null,
   "metadata": {
    "ExecuteTime": {
     "end_time": "2021-07-16T21:52:50.158627Z",
     "start_time": "2021-07-16T21:52:50.115519Z"
    }
   },
   "outputs": [],
   "source": [
    "# métrica Organização de PPA no município\n",
    "colunas = ['protocolo', 'dt_protocolo', 'servico']\n",
    "df_tmp = df_pct_mu[(df_pct_mu['servico'] == 'o1-semestral municipio')][colunas]\n",
    "df_tmp['atributo'] = ORGANIZACAO_PPA\n",
    "df_tmp['tipo'] = 'STRING'\n",
    "df_tmp['valor'] = df_tmp.apply(lambda row: rd.sample(lst_org_PPA, k=1)[0], axis=1)\n",
    "\n",
    "df_final = pd.concat([df_final, df_tmp])\n",
    "df_final"
   ]
  },
  {
   "cell_type": "markdown",
   "metadata": {},
   "source": [
    "### E.5 Vigilância Socioassistencial - VS"
   ]
  },
  {
   "cell_type": "code",
   "execution_count": null,
   "metadata": {
    "ExecuteTime": {
     "end_time": "2021-07-16T21:52:50.347077Z",
     "start_time": "2021-07-16T21:52:50.161300Z"
    }
   },
   "outputs": [],
   "source": [
    "# métrica Vigilância SocioAssistencial\n",
    "lst_vls = ('false', 'true')\n",
    "colunas = ['protocolo', 'dt_protocolo', 'servico']\n",
    "\n",
    "for i in VS:\n",
    "    df_tmp = df_pct_mu[(df_pct_mu['servico'] == 'o1-semestral municipio')][colunas]\n",
    "    df_tmp['atributo'] = i\n",
    "    df_tmp['tipo'] = 'STRING'\n",
    "    df_tmp['valor'] = df_tmp.apply(lambda row: rd.sample(lst_vls, k=1)[0], axis=1)\n",
    "    df_final = pd.concat([df_final, df_tmp])\n",
    "\n",
    "df_final"
   ]
  },
  {
   "cell_type": "markdown",
   "metadata": {},
   "source": [
    "### E.6 Monitoramento da Alimentação de Dados da Rede SUAS"
   ]
  },
  {
   "cell_type": "code",
   "execution_count": null,
   "metadata": {
    "ExecuteTime": {
     "end_time": "2021-07-16T21:52:50.577774Z",
     "start_time": "2021-07-16T21:52:50.348785Z"
    },
    "scrolled": true
   },
   "outputs": [],
   "source": [
    "# Monitoramento de Sistemas\n",
    "lst_vls = ('false', 'true')\n",
    "colunas = ['protocolo', 'dt_protocolo', 'servico']\n",
    "\n",
    "for i in MONITORA_SISTEMAS:\n",
    "    df_tmp = df_pct_mu[(df_pct_mu['servico'] == 'o1-semestral municipio')][colunas]\n",
    "    df_tmp['atributo'] = i\n",
    "    df_tmp['tipo'] = 'STRING'\n",
    "    df_tmp['valor'] = df_tmp.apply(lambda row: rd.sample(lst_vls, k=1)[0], axis=1)\n",
    "    df_final = pd.concat([df_final, df_tmp])\n",
    "\n",
    "df_final"
   ]
  },
  {
   "cell_type": "markdown",
   "metadata": {},
   "source": [
    "### E.7 Alimentação de Dados da Rede SUAS"
   ]
  },
  {
   "cell_type": "code",
   "execution_count": null,
   "metadata": {
    "ExecuteTime": {
     "end_time": "2021-07-16T21:52:50.716677Z",
     "start_time": "2021-07-16T21:52:50.579805Z"
    }
   },
   "outputs": [],
   "source": [
    "# Alimentação de Dados no sistema da Rede SUAS\n",
    "lst_vls = ('false', 'true')\n",
    "colunas = ['protocolo', 'dt_protocolo', 'servico']\n",
    "\n",
    "for i in ALIMENTA_SUAS:\n",
    "    df_tmp = df_pct_mu[(df_pct_mu['servico'] == 'o1-semestral municipio')][colunas]\n",
    "    df_tmp['atributo'] = i\n",
    "    df_tmp['tipo'] = 'STRING'\n",
    "    df_tmp['valor'] = df_tmp.apply(lambda row: rd.sample(lst_vls, k=1)[0], axis=1)\n",
    "    df_final = pd.concat([df_final, df_tmp])\n",
    "\n",
    "df_final"
   ]
  },
  {
   "cell_type": "markdown",
   "metadata": {},
   "source": [
    "### E.8 Equipe que compõem setor de VS"
   ]
  },
  {
   "cell_type": "code",
   "execution_count": null,
   "metadata": {
    "ExecuteTime": {
     "end_time": "2021-07-16T21:52:50.722905Z",
     "start_time": "2021-07-16T21:52:50.718729Z"
    }
   },
   "outputs": [],
   "source": [
    "EQUIPE_VS"
   ]
  },
  {
   "cell_type": "code",
   "execution_count": null,
   "metadata": {
    "ExecuteTime": {
     "end_time": "2021-07-16T21:52:50.729336Z",
     "start_time": "2021-07-16T21:52:50.724826Z"
    }
   },
   "outputs": [],
   "source": [
    "# Equipe do Setor de VS\n",
    "colunas = ['protocolo', 'dt_protocolo', 'servico']\n",
    "\n",
    "for i in EQUIPE_VS:\n",
    "    print(i)"
   ]
  },
  {
   "cell_type": "code",
   "execution_count": null,
   "metadata": {
    "ExecuteTime": {
     "end_time": "2021-07-16T21:52:50.741436Z",
     "start_time": "2021-07-16T21:52:50.731589Z"
    }
   },
   "outputs": [],
   "source": [
    "# estipula a quantidade de profissionais que vão compor a equipe do setor de VS\n",
    "n = rd.randint(N_EQUIPE_VS[0], N_EQUIPE_VS[1])\n",
    "lst_tudo = []\n",
    "# monta a estrutura de profissionais e seus atributos\n",
    "for i in range(n):\n",
    "    lst_linha = []\n",
    "    lst_linha.append(names.get_full_name())\n",
    "    lst_linha.append(rd.sample(lst_escolaridade, k=1)[0][0])\n",
    "    lst_linha.append(rd.sample(lst_formacao, k=1)[0][0])\n",
    "    lst_linha.append(rd.sample(lst_cargo, k=1)[0][0])\n",
    "    lst_linha.append(rd.randint(1, 8))\n",
    "    \n",
    "    lst_tudo.append(lst_linha)\n",
    "    "
   ]
  },
  {
   "cell_type": "markdown",
   "metadata": {},
   "source": [
    "### E.9 Capacitações Ofertadas"
   ]
  },
  {
   "cell_type": "code",
   "execution_count": null,
   "metadata": {
    "ExecuteTime": {
     "end_time": "2021-07-16T21:52:51.107186Z",
     "start_time": "2021-07-16T21:52:50.743183Z"
    }
   },
   "outputs": [],
   "source": [
    "# para cada protocolo e para cada atributo estipula as colunas\n",
    "lst_co = []\n",
    "for i in lst_pct_mu:\n",
    "    for k in CAPACITACOES_OFERTADAS:\n",
    "        atributo = k\n",
    "        tipo = 'INTEGER'\n",
    "        valor = rd.randint(N_CAPACITACOES_OFERTADAS[0], N_CAPACITACOES_OFERTADAS[1])\n",
    "        lst_co.append([i, atributo, tipo, valor])\n",
    "\n",
    "df_tmp = pd.DataFrame(lst_co, columns=['protocolo', 'atributo', 'tipo', 'valor'])\n",
    "df_tmp = pd.merge(df_pct_mu, df_tmp).drop(['idx', 'municipio'], axis=1)\n",
    "\n",
    "df_final = pd.concat([df_final, df_tmp])\n",
    "df_final"
   ]
  },
  {
   "cell_type": "markdown",
   "metadata": {},
   "source": [
    "### E.10 Acompanhamento e assessoramento técnico estadual sobre o PAS"
   ]
  },
  {
   "cell_type": "code",
   "execution_count": null,
   "metadata": {},
   "outputs": [],
   "source": []
  },
  {
   "cell_type": "markdown",
   "metadata": {},
   "source": [
    "### E.11 Atividades de Contrôle Social realizadas pelo Estado"
   ]
  },
  {
   "cell_type": "code",
   "execution_count": null,
   "metadata": {},
   "outputs": [],
   "source": []
  },
  {
   "cell_type": "markdown",
   "metadata": {},
   "source": [
    "# <font color='blue'>5.0 carga</font>"
   ]
  },
  {
   "cell_type": "code",
   "execution_count": null,
   "metadata": {
    "ExecuteTime": {
     "end_time": "2021-07-16T21:52:52.379870Z",
     "start_time": "2021-07-16T21:52:51.108967Z"
    }
   },
   "outputs": [],
   "source": [
    "# grava tabelas\n",
    "df_final.to_csv(caminho_out + 'dataset_sedes.csv', index=False)"
   ]
  },
  {
   "cell_type": "markdown",
   "metadata": {},
   "source": [
    "# TESTES"
   ]
  },
  {
   "cell_type": "code",
   "execution_count": null,
   "metadata": {
    "ExecuteTime": {
     "end_time": "2021-07-16T21:52:52.387020Z",
     "start_time": "2021-07-16T21:52:52.382114Z"
    }
   },
   "outputs": [],
   "source": [
    "import names"
   ]
  },
  {
   "cell_type": "code",
   "execution_count": null,
   "metadata": {
    "ExecuteTime": {
     "end_time": "2021-07-16T21:52:52.407788Z",
     "start_time": "2021-07-16T21:52:52.389929Z"
    }
   },
   "outputs": [],
   "source": [
    "print(names.get_full_name())\n",
    "\n",
    "print(names.get_full_name(gender='male'))\n",
    "\n",
    "print(names.get_first_name())\n",
    "\n",
    "print(names.get_first_name(gender='female'))\n",
    "\n",
    "print(names.get_last_name())\n"
   ]
  },
  {
   "cell_type": "code",
   "execution_count": null,
   "metadata": {
    "ExecuteTime": {
     "end_time": "2021-07-16T21:52:52.564750Z",
     "start_time": "2021-07-16T21:52:52.410266Z"
    }
   },
   "outputs": [],
   "source": [
    "for i in range(20):\n",
    "    print(names.get_full_name())"
   ]
  },
  {
   "cell_type": "code",
   "execution_count": null,
   "metadata": {},
   "outputs": [],
   "source": []
  }
 ],
 "metadata": {
  "kernelspec": {
   "display_name": "Python 3",
   "language": "python",
   "name": "python3"
  },
  "language_info": {
   "codemirror_mode": {
    "name": "ipython",
    "version": 3
   },
   "file_extension": ".py",
   "mimetype": "text/x-python",
   "name": "python",
   "nbconvert_exporter": "python",
   "pygments_lexer": "ipython3",
   "version": "3.8.10"
  }
 },
 "nbformat": 4,
 "nbformat_minor": 4
}
