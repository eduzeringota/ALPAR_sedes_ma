{
 "cells": [
  {
   "cell_type": "markdown",
   "metadata": {},
   "source": [
    "# <font color='red'>SEDES - Gerador de Dados</font>"
   ]
  },
  {
   "cell_type": "markdown",
   "metadata": {},
   "source": [
    "# <font color='blue'>1.0 import</font>"
   ]
  },
  {
   "cell_type": "code",
   "execution_count": 1,
   "metadata": {
    "ExecuteTime": {
     "end_time": "2021-10-02T18:58:56.419524Z",
     "start_time": "2021-10-02T18:58:55.996909Z"
    }
   },
   "outputs": [],
   "source": [
    "import csv\n",
    "import os\n",
    "import pandas as pd\n",
    "import random as rd\n",
    "import datetime as dt\n",
    "from dateutil.relativedelta import relativedelta"
   ]
  },
  {
   "cell_type": "markdown",
   "metadata": {},
   "source": [
    "# <font color='blue'>2.0 parâmetros de ambiente</font>"
   ]
  },
  {
   "cell_type": "code",
   "execution_count": 22,
   "metadata": {
    "ExecuteTime": {
     "end_time": "2021-10-02T19:07:35.838351Z",
     "start_time": "2021-10-02T19:07:35.835438Z"
    }
   },
   "outputs": [],
   "source": [
    "amb_windows = False\n",
    "\n",
    "HOME_PASTA = '' if amb_windows else os.path.expanduser(\"~\")\n",
    "\n",
    "caminho_in  = '../dados/apoio/'\n",
    "caminho_out = '../dados/simulacao/'"
   ]
  },
  {
   "cell_type": "code",
   "execution_count": 3,
   "metadata": {
    "ExecuteTime": {
     "end_time": "2021-10-02T18:58:58.271133Z",
     "start_time": "2021-10-02T18:58:58.264685Z"
    }
   },
   "outputs": [],
   "source": [
    "# data inicial de simulação\n",
    "DATA_INICIAL = (2018, 1, 10)\n",
    "\n",
    "# qtd de meses para cada formulário\n",
    "MESES_INC = 1\n",
    "\n",
    "\n",
    "# municípios\n",
    "municipios = {\n",
    "    'resp_form': (0.6, 0.8) # intervalo de % de municípios que responderam ao formulário\n",
    "}\n",
    "profissionais = {\n",
    "    'qtd_nomes': (1000, 20) # (numéro médio de nomes, variação positiva e negativa a ser sorteada)\n",
    "}\n",
    "formacoes = {\n",
    "    'qtd_formacoes': (10, 15) # intervalo da quantidade de profissoes que participarão da simulação\n",
    "}\n",
    "cargos = {\n",
    "    'qtd_cargos': (5, 8) # intervalo da quantidade de profissoes que participarão da simulação\n",
    "}\n",
    "horas_dedicadas = (8, 16, 24, 32, 40, 48) # possibilidades de horas dedicadas por mês\n",
    "dedicacao_exclusiva = ((1, 0), (50, 50)) # pesos para sorteio de horas exclusivas (1, 0) 1=\"sim\" e 0=\"não\"\n",
    "orgao_gestor = (1, 3) # possibilidades de orgão gestor por município a cada data de referência\n",
    "fg_lei_reg_suas = ((1, 0), (60, 40)) # pesos para sorteio de lei de registro (1, 0) 1=\"sim\" e 0=\"não\"\n",
    "fg_tem_PPAS = ((1, 0), (50, 50)) # pesos para sorteio de PPAS (1, 0) 1=\"sim\" e 0=\"não\"\n",
    "DEF_fg_org_QQD = ((1, 0), (40, 60)) # pesos para sorteio de QQD (1, 0) 1=\"sim\" e 0=\"não\"\n",
    "DEF_as_municipio_VS = ((1, 0), (75, 25)) # pesos para sorteio de as_municipio VS (1, 0) 1=\"sim\" e 0=\"não\"\n",
    "DEF_as_municipio_equipe_VS = ((1, 0), (50, 50)) # pesos para sorteio de as_municipio equipe VS (1, 0) 1=\"sim\" e 0=\"não\"\n",
    "DEF_as_municipio_instr_gestao = ((1, 0), (80, 20)) # pesos para sorteio de as_instr_gestão (1, 0) 1=\"sim\" e 0=\"não\""
   ]
  },
  {
   "cell_type": "markdown",
   "metadata": {},
   "source": [
    "# <font color='blue'>3.0 extração</font>"
   ]
  },
  {
   "cell_type": "markdown",
   "metadata": {},
   "source": [
    "## 3.1 extracao de dados externo"
   ]
  },
  {
   "cell_type": "code",
   "execution_count": 6,
   "metadata": {
    "ExecuteTime": {
     "end_time": "2021-10-02T19:05:48.596142Z",
     "start_time": "2021-10-02T19:05:48.571043Z"
    },
    "scrolled": false
   },
   "outputs": [
    {
     "name": "stdout",
     "output_type": "stream",
     "text": [
      "municipios:              linhas = 217 , colunas = 4 \n",
      "VS:                      linhas = 8 , colunas = 1 \n",
      "escolaridade:            linhas = 12 , colunas = 1 \n",
      "formacoes:               linhas = 225 , colunas = 1 \n",
      "cargos:                  linhas = 133 , colunas = 1 \n",
      "instrumentos de gestão:  linhas = 5 , colunas = 1 \n"
     ]
    }
   ],
   "source": [
    "# abrindo os arquivos...\n",
    "\n",
    "arq_municipios =   caminho_in + \"tab_municipios.csv\"\n",
    "arq_VS =           caminho_in + \"tab_VS.csv\"\n",
    "arq_escolaridade = caminho_in + \"tab_escolaridade.csv\"\n",
    "arq_formacao =     caminho_in + \"tab_formacoes.csv\"\n",
    "arq_cargo =        caminho_in + \"tab_cargos.csv\"\n",
    "arq_instr_gestao = caminho_in + \"tab_instr_gestao.csv\"\n",
    "\n",
    "df_municipios =   pd.read_csv(arq_municipios,   sep = ',', dtype = str)\n",
    "df_VS =           pd.read_csv(arq_VS,           sep = ',', dtype = str)\n",
    "df_escolaridade = pd.read_csv(arq_escolaridade, sep = ',', dtype = str)\n",
    "df_formacao =     pd.read_csv(arq_formacao,     sep = ',', dtype = str)\n",
    "df_cargo =        pd.read_csv(arq_cargo,        sep = ',', dtype = str)\n",
    "df_instr_gestao = pd.read_csv(arq_instr_gestao, sep = ',', dtype = str)\n",
    "\n",
    "print(\"municipios:              linhas = %s , colunas = %s \" % df_municipios.shape)\n",
    "print(\"VS:                      linhas = %s , colunas = %s \" % df_VS.shape)\n",
    "print(\"escolaridade:            linhas = %s , colunas = %s \" % df_escolaridade.shape)\n",
    "print(\"formacoes:               linhas = %s , colunas = %s \" % df_formacao.shape)\n",
    "print(\"cargos:                  linhas = %s , colunas = %s \" % df_cargo.shape)\n",
    "print(\"instrumentos de gestão:  linhas = %s , colunas = %s \" % df_instr_gestao.shape)"
   ]
  },
  {
   "cell_type": "code",
   "execution_count": 7,
   "metadata": {
    "ExecuteTime": {
     "end_time": "2021-10-02T19:05:51.650953Z",
     "start_time": "2021-10-02T19:05:51.647128Z"
    }
   },
   "outputs": [],
   "source": [
    "df_municipios['city_ibge_code'] = df_municipios['city_ibge_code'].astype('int64')"
   ]
  },
  {
   "cell_type": "code",
   "execution_count": 8,
   "metadata": {
    "ExecuteTime": {
     "end_time": "2021-10-02T19:05:52.808420Z",
     "start_time": "2021-10-02T19:05:52.803528Z"
    }
   },
   "outputs": [],
   "source": [
    "cols = ['city_ibge_code', 'estimated_population']\n",
    "df_municipios[cols] = df_municipios[cols].astype('int64')"
   ]
  },
  {
   "cell_type": "code",
   "execution_count": 9,
   "metadata": {
    "ExecuteTime": {
     "end_time": "2021-10-02T19:05:53.467142Z",
     "start_time": "2021-10-02T19:05:53.463215Z"
    }
   },
   "outputs": [],
   "source": [
    "df_cargo['cargo'] = df_cargo['cargo'].str.strip()"
   ]
  },
  {
   "cell_type": "markdown",
   "metadata": {},
   "source": [
    "# <font color='blue'>4.0 transformação</font>"
   ]
  },
  {
   "cell_type": "markdown",
   "metadata": {},
   "source": [
    "## 4.1 tabelas principais"
   ]
  },
  {
   "cell_type": "markdown",
   "metadata": {},
   "source": [
    "### 4.1.1 datas de formulário"
   ]
  },
  {
   "cell_type": "code",
   "execution_count": 10,
   "metadata": {
    "ExecuteTime": {
     "end_time": "2021-10-02T19:05:55.544167Z",
     "start_time": "2021-10-02T19:05:55.538781Z"
    }
   },
   "outputs": [],
   "source": [
    "# cria a sequência de datas de referência passada\n",
    "dt_inicial = dt.date(DATA_INICIAL[0], DATA_INICIAL[1], DATA_INICIAL[2])\n",
    "lst_datas = []\n",
    "dt_atual = dt_inicial\n",
    "\n",
    "while dt_atual < dt.date.today():\n",
    "    lst_datas.append(dt_atual)\n",
    "    dt_atual = dt_atual + relativedelta(months = MESES_INC)\n",
    "df_datas = pd.DataFrame(lst_datas, columns=['dt_ref'])\n",
    "# df_datas"
   ]
  },
  {
   "cell_type": "markdown",
   "metadata": {},
   "source": [
    "### 4.1.2 municípios (tb_municipio)"
   ]
  },
  {
   "cell_type": "code",
   "execution_count": 11,
   "metadata": {
    "ExecuteTime": {
     "end_time": "2021-10-02T19:05:57.201805Z",
     "start_time": "2021-10-02T19:05:57.190446Z"
    }
   },
   "outputs": [],
   "source": [
    "# cria lista de orgãos gestores\n",
    "lst_OG = ['Orgão Gestor ' + str(x + 1) for x in range(orgao_gestor[1])]\n",
    "\n",
    "# cria a tb_municípios\n",
    "df_tb_municipio = df_municipios[['city_ibge_code', 'city', 'estimated_population']]\n",
    "df_tb_municipio.columns = ['PK_municipio', 'nome_municipio', 'pop_municipio']\n",
    "df_tb_municipio['OGs'] = df_tb_municipio.apply(lambda x: rd.sample(lst_OG, k=rd.randint(orgao_gestor[0], \n",
    "                                                                                        orgao_gestor[1])), \n",
    "                                                                                        axis=1)\n",
    "# df_tb_municipio"
   ]
  },
  {
   "cell_type": "markdown",
   "metadata": {},
   "source": [
    "### 4.1.3 VS (tb_VS) (vigilância Socioassistencial)"
   ]
  },
  {
   "cell_type": "code",
   "execution_count": 12,
   "metadata": {
    "ExecuteTime": {
     "end_time": "2021-10-02T19:05:58.961660Z",
     "start_time": "2021-10-02T19:05:58.957704Z"
    }
   },
   "outputs": [],
   "source": [
    "df_tb_VS = df_VS.reset_index()\n",
    "df_tb_VS.columns = ['PK_VS', 'nome_VS']\n",
    "# df_tb_VS"
   ]
  },
  {
   "cell_type": "markdown",
   "metadata": {},
   "source": [
    "### 4.1.4 instrumentos de gestão(tb_instr_gestao)"
   ]
  },
  {
   "cell_type": "code",
   "execution_count": 13,
   "metadata": {
    "ExecuteTime": {
     "end_time": "2021-10-02T19:06:00.738572Z",
     "start_time": "2021-10-02T19:06:00.734926Z"
    }
   },
   "outputs": [],
   "source": [
    "df_tb_instr_gestao = df_instr_gestao.reset_index()\n",
    "df_tb_instr_gestao.columns = ['PK_instr_gestao', 'nome_instr_gestao']\n",
    "# df_tb_instr_gestao"
   ]
  },
  {
   "cell_type": "markdown",
   "metadata": {},
   "source": [
    "### 4.1.5 equipe VS (tb_equipe_VS)"
   ]
  },
  {
   "cell_type": "code",
   "execution_count": 14,
   "metadata": {
    "ExecuteTime": {
     "end_time": "2021-10-02T19:06:02.357650Z",
     "start_time": "2021-10-02T19:06:02.325899Z"
    }
   },
   "outputs": [],
   "source": [
    "# gera a lista total de profissionais que será usada\n",
    "lst_tmp_prof = []\n",
    "qtd_prof = rd.randint(profissionais['qtd_nomes'][0] - profissionais['qtd_nomes'][1], \n",
    "                      profissionais['qtd_nomes'][0] + profissionais['qtd_nomes'][1])\n",
    "# lista de escolaridades que participarão da simulação\n",
    "lst_escolaridade = df_escolaridade.values.tolist()\n",
    "\n",
    "# lista de formações que participarão da simulação\n",
    "k = int(rd.uniform(formacoes['qtd_formacoes'][0], formacoes['qtd_formacoes'][1]))\n",
    "lst_formacao = rd.sample(df_formacao.values.tolist(), k = k)\n",
    "\n",
    "# lista de cargos que participarão da simulação\n",
    "k = int(rd.uniform(cargos['qtd_cargos'][0], cargos['qtd_cargos'][1]))\n",
    "lst_cargo = rd.sample(df_cargo.values.tolist(), k = k)\n",
    "\n",
    "for i in range(qtd_prof):\n",
    "    lst_tmp_escolaridade = rd.sample(lst_escolaridade, k = 1)\n",
    "    lst_tmp = ['Profissional ' + str(i + 1), \n",
    "               rd.sample(lst_escolaridade, k = 1)[0][0],\n",
    "               rd.sample(lst_formacao, k = 1)[0][0],\n",
    "               rd.sample(lst_cargo, k = 1)[0][0],\n",
    "               rd.sample(horas_dedicadas, k = 1)[0],\n",
    "               rd.choices(dedicacao_exclusiva[0], dedicacao_exclusiva[1], k=1)[0]\n",
    "              ]\n",
    "    lst_tmp_prof.append(lst_tmp)\n",
    "\n",
    "\n",
    "cols = ['PK_prof_VS', 'nome_prof_VS', 'escolaridade_VS', 'formacao_VS', 'funcao_cargo_VS', 'horas_dedicadas_VS', 'exclusivo_VS']\n",
    "df_tb_equipe_VS = pd.DataFrame(lst_tmp_prof).reset_index()\n",
    "df_tb_equipe_VS.columns = cols\n",
    "# df_tb_equipe_VS"
   ]
  },
  {
   "cell_type": "markdown",
   "metadata": {},
   "source": [
    "## 4.2 tabelas de movimento"
   ]
  },
  {
   "cell_type": "markdown",
   "metadata": {},
   "source": [
    "### 4.2.1 M_00 (Identificação do município) (tb_municipio_form)"
   ]
  },
  {
   "cell_type": "markdown",
   "metadata": {},
   "source": [
    "#### 4.2.1.1 tb_municipio_form"
   ]
  },
  {
   "cell_type": "code",
   "execution_count": 15,
   "metadata": {
    "ExecuteTime": {
     "end_time": "2021-10-02T19:06:04.635537Z",
     "start_time": "2021-10-02T19:06:04.630182Z"
    }
   },
   "outputs": [],
   "source": [
    "# determina a % de municípios que responderam ao formulário\n",
    "qtd_mun_resp = int(rd.uniform(municipios['resp_form'][0], municipios['resp_form'][1]) * df_tb_municipio.shape[0])\n",
    "\n",
    "# determina quais os municipios responderam ao formulário\n",
    "df_tb_municipio_form = df_tb_municipio[['PK_municipio', 'OGs']].sample(n=qtd_mun_resp)\n",
    "# df_tb_municipio_form"
   ]
  },
  {
   "cell_type": "code",
   "execution_count": 16,
   "metadata": {
    "ExecuteTime": {
     "end_time": "2021-10-02T19:06:05.252085Z",
     "start_time": "2021-10-02T19:06:05.242532Z"
    }
   },
   "outputs": [],
   "source": [
    "df_datas['key'] = 1; df_tb_municipio_form['key'] = 1\n",
    "\n",
    "df_tb_municipio_form = df_tb_municipio_form.merge(df_datas, on='key').drop('key', axis=1)\n",
    "# tb_municipio_form = pd.merge(tb_municipio_form, df_datas, on ='key').drop(\"key\", 1) "
   ]
  },
  {
   "cell_type": "code",
   "execution_count": 17,
   "metadata": {
    "ExecuteTime": {
     "end_time": "2021-10-02T19:06:06.796365Z",
     "start_time": "2021-10-02T19:06:06.734302Z"
    }
   },
   "outputs": [],
   "source": [
    "# escolhe o orgão gestor da lista de possíveis da coluna 'OGs'\n",
    "df_tb_municipio_form['orgao_gestor'] = df_tb_municipio_form['OGs'].apply(lambda x: x[rd.randint(0, len(x) - 1)])\n",
    "df_tb_municipio_form.drop('OGs', axis=1, inplace=True)\n",
    "df_tb_municipio_form['resp_registro'] = 'Secretarias Municipais de A.S. / SEDES' \n",
    "df_tb_municipio_form['freq_registro'] = 'Semestral'\n",
    "df_tb_municipio_form['fg_lei_reg_suas'] = df_tb_municipio_form['PK_municipio'].apply(lambda x: rd.choices(fg_lei_reg_suas[0], fg_lei_reg_suas[1], k=1)[0])\n",
    "df_tb_municipio_form['fg_tem_PPAS'] = df_tb_municipio_form['PK_municipio'].apply(lambda x: rd.choices(fg_tem_PPAS[0], fg_tem_PPAS[1], k=1)[0])\n",
    "df_tb_municipio_form['fg_org_QQD'] = df_tb_municipio_form['PK_municipio'].apply(lambda x: rd.choices(DEF_fg_org_QQD[0], \n",
    "                                                                                                     DEF_fg_org_QQD[1], \n",
    "                                                                                                     k=1)[0])\n",
    "\n",
    "df_tb_municipio_form.rename(columns={'PK_municipio': 'FK_municipio'}, inplace=True)\n",
    "# df_tb_municipio_form\n"
   ]
  },
  {
   "cell_type": "markdown",
   "metadata": {},
   "source": [
    "#### 4.2.1.2 as_municipio_VS"
   ]
  },
  {
   "cell_type": "code",
   "execution_count": 18,
   "metadata": {
    "ExecuteTime": {
     "end_time": "2021-10-02T19:06:09.067814Z",
     "start_time": "2021-10-02T19:06:08.921807Z"
    }
   },
   "outputs": [],
   "source": [
    "df_tb_VS['key'] = 1; df_tb_municipio_form['key'] = 1\n",
    "df_tb_as_municipio_VS = df_tb_municipio_form.merge(df_tb_VS, on='key').drop(['key', 'nome_VS'], axis=1)\n",
    "df_tb_as_municipio_VS['fica'] = df_tb_as_municipio_VS['FK_municipio'].apply(lambda x: rd.choices(DEF_as_municipio_VS[0], \n",
    "                                                                                                 DEF_as_municipio_VS[1], \n",
    "                                                                                                 k=1)[0])\n",
    "\n",
    "cols = ['FK_municipio', 'dt_ref', 'PK_VS']\n",
    "df_tb_as_municipio_VS = df_tb_as_municipio_VS[(df_tb_as_municipio_VS['fica'] == 1)][cols]\n",
    "df_tb_as_municipio_VS.rename(columns={'PK_VS': 'FK_VS'}, inplace=True)\n",
    "# df_tb_as_municipio_VS\n"
   ]
  },
  {
   "cell_type": "markdown",
   "metadata": {},
   "source": [
    "#### 4.2.1.3 as_municipio_equipe_VS"
   ]
  },
  {
   "cell_type": "code",
   "execution_count": 19,
   "metadata": {
    "ExecuteTime": {
     "end_time": "2021-10-02T19:06:12.924086Z",
     "start_time": "2021-10-02T19:06:10.149626Z"
    }
   },
   "outputs": [],
   "source": [
    "df_tb_equipe_VS['key'] = 1; df_tb_municipio_form['key'] = 1\n",
    "df_tb_as_municipio_equipe_VS = df_tb_municipio_form.merge(df_tb_equipe_VS, on='key')\n",
    "df_tb_as_municipio_equipe_VS['fica'] = df_tb_as_municipio_VS['FK_municipio'].apply(lambda x: rd.choices(DEF_as_municipio_equipe_VS[0], \n",
    "                                                                                                        DEF_as_municipio_equipe_VS[1], \n",
    "                                                                                                        k=1)[0])\n",
    "cols = ['FK_municipio', 'dt_ref', 'PK_prof_VS']\n",
    "df_tb_as_municipio_equipe_VS = df_tb_as_municipio_equipe_VS[(df_tb_as_municipio_equipe_VS['fica'] == 1)][cols]\n",
    "df_tb_as_municipio_equipe_VS.rename(columns={'PK_prof_VS': 'FK_prof_VS'}, inplace=True)\n",
    "# df_tb_as_municipio_equipe_VS\n"
   ]
  },
  {
   "cell_type": "markdown",
   "metadata": {},
   "source": [
    "#### 4.2.1.3 as_municipio_instr_gestao"
   ]
  },
  {
   "cell_type": "code",
   "execution_count": 20,
   "metadata": {
    "ExecuteTime": {
     "end_time": "2021-10-02T19:06:13.063513Z",
     "start_time": "2021-10-02T19:06:12.926675Z"
    }
   },
   "outputs": [],
   "source": [
    "df_tb_instr_gestao['key'] = 1; df_tb_municipio_form['key'] = 1\n",
    "df_tb_as_municipio_instr_gestao = df_tb_municipio_form.merge(df_tb_instr_gestao, on='key')\n",
    "df_tb_as_municipio_instr_gestao['fica'] = df_tb_as_municipio_instr_gestao['FK_municipio'].apply(lambda x: rd.choices(DEF_as_municipio_instr_gestao[0], \n",
    "                                                                                                                     DEF_as_municipio_instr_gestao[1], \n",
    "                                                                                                                     k=1)[0])\n",
    "cols = ['FK_municipio', 'dt_ref', 'PK_instr_gestao']\n",
    "df_tb_as_municipio_instr_gestao = df_tb_as_municipio_instr_gestao[(df_tb_as_municipio_instr_gestao['fica'] == 1)][cols]\n",
    "df_tb_as_municipio_instr_gestao.rename(columns={'PK_instr_gestao': 'FK_instr_gestao'}, inplace=True)\n",
    "# df_tb_as_municipio_instr_gestao\n"
   ]
  },
  {
   "cell_type": "markdown",
   "metadata": {},
   "source": [
    "## 4.2 acertos finais"
   ]
  },
  {
   "cell_type": "code",
   "execution_count": 21,
   "metadata": {
    "ExecuteTime": {
     "end_time": "2021-10-02T19:06:13.076201Z",
     "start_time": "2021-10-02T19:06:13.066481Z"
    }
   },
   "outputs": [],
   "source": [
    "# drop de colunas usadas e não mais úteis\n",
    "df_tb_municipio.drop('OGs', axis=1, inplace=True)\n",
    "df_tb_VS.drop('key', axis=1, inplace=True)\n",
    "df_tb_equipe_VS.drop('key', axis=1, inplace=True)\n",
    "df_tb_instr_gestao.drop('key', axis=1, inplace=True)\n",
    "df_tb_municipio_form.drop('key', axis=1, inplace=True)"
   ]
  },
  {
   "cell_type": "markdown",
   "metadata": {},
   "source": [
    "# <font color='blue'>5.0 carga</font>"
   ]
  },
  {
   "cell_type": "code",
   "execution_count": 23,
   "metadata": {
    "ExecuteTime": {
     "end_time": "2021-10-02T19:07:43.363952Z",
     "start_time": "2021-10-02T19:07:43.174875Z"
    }
   },
   "outputs": [],
   "source": [
    "# grava tabelas\n",
    "df_tb_municipio.to_csv(caminho_out + \"tb_municipios.csv\", index=False)\n",
    "df_tb_VS.to_csv(caminho_out + \"tb_VS.csv\", index=False)\n",
    "df_tb_equipe_VS.to_csv(caminho_out + \"tb_equipe_VS.csv\", index=False)\n",
    "df_tb_instr_gestao.to_csv(caminho_out + \"tb_instr_gestao.csv\", index=False)\n",
    "\n",
    "# grava associativas\n",
    "df_tb_municipio_form.to_csv(caminho_out + \"tb_municipio_form.csv\", index=False)\n",
    "df_tb_as_municipio_VS.to_csv(caminho_out + \"as_municipio_VS.csv\", index=False)\n",
    "df_tb_as_municipio_equipe_VS.to_csv(caminho_out + \"as_municipio_equipe_VS.csv\", index=False)\n",
    "df_tb_as_municipio_instr_gestao.to_csv(caminho_out + \"as_municipio_instr_gestao.csv\", index=False)\n"
   ]
  },
  {
   "cell_type": "markdown",
   "metadata": {},
   "source": [
    "# TESTES"
   ]
  },
  {
   "cell_type": "code",
   "execution_count": null,
   "metadata": {},
   "outputs": [],
   "source": []
  }
 ],
 "metadata": {
  "kernelspec": {
   "display_name": "Python 3",
   "language": "python",
   "name": "python3"
  },
  "language_info": {
   "codemirror_mode": {
    "name": "ipython",
    "version": 3
   },
   "file_extension": ".py",
   "mimetype": "text/x-python",
   "name": "python",
   "nbconvert_exporter": "python",
   "pygments_lexer": "ipython3",
   "version": "3.8.10"
  }
 },
 "nbformat": 4,
 "nbformat_minor": 4
}
