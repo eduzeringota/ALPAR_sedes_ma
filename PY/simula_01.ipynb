{
 "cells": [
  {
   "cell_type": "markdown",
   "metadata": {},
   "source": [
    "# <font color='red'>SEDES - Gerador de Dados</font>"
   ]
  },
  {
   "cell_type": "markdown",
   "metadata": {},
   "source": [
    "# <font color='blue'>1.0 import</font>"
   ]
  },
  {
   "cell_type": "code",
   "execution_count": null,
   "metadata": {
    "ExecuteTime": {
     "end_time": "2021-10-02T19:18:01.501761Z",
     "start_time": "2021-10-02T19:18:01.498219Z"
    }
   },
   "outputs": [],
   "source": [
    "import csv\n",
    "import os\n",
    "import pandas       as pd\n",
    "import random       as rd\n",
    "import datetime     as dt\n",
    "import urllib.parse as ps\n",
    "\n",
    "import names\n",
    "import time\n",
    "\n",
    "import sqlalchemy as sa\n",
    "\n",
    "from   dateutil.relativedelta import relativedelta"
   ]
  },
  {
   "cell_type": "markdown",
   "metadata": {},
   "source": [
    "# <font color='blue'>2.0 parâmetros de ambiente</font>"
   ]
  },
  {
   "cell_type": "code",
   "execution_count": null,
   "metadata": {
    "ExecuteTime": {
     "end_time": "2021-10-02T18:47:54.031351Z",
     "start_time": "2021-10-02T18:47:54.022631Z"
    }
   },
   "outputs": [],
   "source": [
    "# campo de negócio no BI\n",
    "ORGAO_GESTOR = 'orgaoGestorDaPoliticaDeAssistenciaSocial'\n",
    "ORGANIZACAO_PPA = 'comoEstaOrganizadoOPPADaPASNoMunicipio'\n",
    "TUP_INSTR_GESTAO = (\n",
    "    'planoDecenalDeAssistenciaSocial-possui',\n",
    "    'planoMunicipalDeAssistenciaSocial-possui',\n",
    "    'PlanoMunicipaldeEducacaoPermanentedoSUAS-possui',\n",
    "    'diagnosticoSocioterritorial-possui',\n",
    "    'RelatoriodeGestaoDoExercicioAnterior-possui',\n",
    "    'LeideRegulamentacaodoSUAS-possui'\n",
    ")\n",
    "AREAS_ESSENCIAIS = (\n",
    "    'quaisAreasEssenciaisDoSUASEstaoImplantadosOficialmente-gestao_do_trabalho',\n",
    "    'quaisAreasEssenciaisDoSUASEstaoImplantadosOficialmente-protecao_social_basica',\n",
    "    'quaisAreasEssenciaisDoSUASEstaoImplantadosOficialmente-protecao_social_especial',\n",
    "    'quaisAreasEssenciaisDoSUASEstaoImplantadosOficialmente-gestao_do_suas'\n",
    ")\n",
    "VS = (\n",
    "    'oMunicipioDesenvolveQuaisAcoesDeVigilanciaSocioassistencial-levanta_dados_no_territorio_equipamento_da_pas',\n",
    "    'oMunicipioDesenvolveQuaisAcoesDeVigilanciaSocioassistencial-analisa_dados_levantados',\n",
    "    'oMunicipioDesenvolveQuaisAcoesDeVigilanciaSocioassistencial-sistematiza_dados_e_produz_relatorios',\n",
    "    'oMunicipioDesenvolveQuaisAcoesDeVigilanciaSocioassistencial-dissemina_dados_e_ou_relatorios',\n",
    "    'oMunicipioDesenvolveQuaisAcoesDeVigilanciaSocioassistencial-realiza_diagnostico_socioterritorial',\n",
    "    'oMunicipioDesenvolveQuaisAcoesDeVigilanciaSocioassistencial-realiza_monitoramento_sistematico_dos_servicos_socioassistenciais',\n",
    "    'oMunicipioDesenvolveQuaisAcoesDeVigilanciaSocioassistencial-realiza_reunioes_com_as_equipes_responsaveis_pela_execucao_dos_servicos_socioassistenciais'\n",
    ")\n",
    "PREFIXO_MONITORA_SISTEMAS = 'realizaMonitoramentoDaAlimentacaoDosDadosNosSistemasDaRedeSUASEDaPlataformaEstadualPelasDemaisAreas-'\n",
    "MONITORA_SISTEMAS = (\n",
    "    'CAD_SUAS',\n",
    "    'RMA',\n",
    "    'SISC',\n",
    "    'E-CPF',\n",
    "    'simpeti',\n",
    "    'planoDeAcaoSAA',\n",
    "    'demonstrativoSinteticoDeExecucaoFisicoFinanceiro',\n",
    "    'alimentacaoDaPlataformaEstadualDeMonitoramentoDaPAS'\n",
    ")\n",
    "# MONITORA_SISTEMAS = (\n",
    "#     'quemAlimentaOsDadosNosSistemasDaRedeSUAS-CAD_SUAS',\n",
    "#     'quemAlimentaOsDadosNosSistemasDaRedeSUAS-RMA',\n",
    "#     'quemAlimentaOsDadosNosSistemasDaRedeSUAS-SISC',\n",
    "#     'quemAlimentaOsDadosNosSistemasDaRedeSUAS-E-PCF',\n",
    "#     'quemAlimentaOsDadosNosSistemasDaRedeSUAS-SIMPETI',\n",
    "#     'quemAlimentaOsDadosNosSistemasDaRedeSUAS-Plano_de_Acao_SAA',\n",
    "#     'quemAlimentaOsDadosNosSistemasDaRedeSUAS-Demonstrativo_Sintetico_de_Execucao_Fisico_Financeiro',\n",
    "#     'quemAlimentaOsDadosNosSistemasDaRedeSUAS-Alimentacao_da_Plataforma_Estadual_de_Monitoramento_da_PAS'\n",
    "# )\n",
    "ALIMENTA_SUAS = (\n",
    "    'quemAlimentaOsDadosNosSistemasDaRedeSUAS-gestao',\n",
    "    'quemAlimentaOsDadosNosSistemasDaRedeSUAS-protecao_social_basica',\n",
    "    'quemAlimentaOsDadosNosSistemasDaRedeSUAS-protecao_social_especial',\n",
    "    'quemAlimentaOsDadosNosSistemasDaRedeSUAS-protecao_social_outros'\n",
    ")\n",
    "ACOMP_ASSESS_PAS = (\n",
    "    'quantidadeDeMunicipiosAcompanhadosRemotamente',\n",
    "    'quantidadeDeMunicipiosVisitadosInLoco',\n",
    "    'quantidadeDeMunicipiosComPlanoDeProvidenciasAcompanhados',\n",
    "    'quantidadeDeNotasTecnicasElaboradasEPublicizadas',\n",
    "    'quantidadeDeBoletinsElaboradosEPublicizados'\n",
    ")\n",
    "ACS_ESTADO = (\n",
    "    'quantidadeMensalDeReunioesExtraordinariasDoCEAS',\n",
    "    'quantidadeMensalDeReunioesOrdinariasDoCEAS',\n",
    "    'quantidadeMensalDeResolucoesEmitidasDoCEAS',\n",
    "    'quantidadeMensalDeReunioesTecnicasRealizadasPeloCEAS'\n",
    ")\n",
    "EQUIPE_VS = (\n",
    "    {'prefixo': 'qualEquipeCompoeOSetorDaVigilanciaSocioassistencial', \n",
    "     'sufixo': 'nome', 'tipo': 'STRING'},\n",
    "    {'prefixo': 'qualEquipeCompoeOSetorDaVigilanciaSocioassistencial', \n",
    "     'sufixo': 'escolaridade', 'tipo': 'STRING'},\n",
    "    {'prefixo': 'qualEquipeCompoeOSetorDaVigilanciaSocioassistencial', \n",
    "     'sufixo': 'formacao', 'tipo': 'STRING'},\n",
    "    {'prefixo': 'qualEquipeCompoeOSetorDaVigilanciaSocioassistencial', \n",
    "     'sufixo': 'funcaoCargo', 'tipo': 'STRING'},\n",
    "    {'prefixo': 'qualEquipeCompoeOSetorDaVigilanciaSocioassistencial', \n",
    "     'sufixo': 'horasMediasDedicadasAVigilancia', 'tipo': 'INTEGER'}\n",
    ")\n",
    "\n",
    "# data inicial de simulação\n",
    "DATA_INICIAL = (2018, 3, 1)\n",
    "\n",
    "# tabelas gerais\n",
    "N_ORGAO_GESTOR = (6, 11) # quantidade de orgãos gestores possíveis para a tabela de orgãos gestores\n",
    "N_ESCOLARIDADE = (5, 10) # quantidade de escolaridades possíveis para a tabela escolaridade\n",
    "N_FORMACAO     = (5, 10) # quantidade de formações possíveis para a tabela formacao\n",
    "N_CARGO        = (5, 10) # quantidade de cargos possíveis para a tabela cargo\n",
    "N_EQUIPE_VS    = (2, 6)  # quantidade de pessoas possíveis para compor a equipe de VS\n",
    "N_CAPACITACOES_OFERTADAS = (0, 100) # quantidade possível de capacitações\n",
    "N_ACOMP_ASSESS_PAS = (0, 217) # quantidade possível de municípios com acompanhamentos e assessoramento\n",
    "N_ACS_ESTADO = (0, 10) # quantidade possível de municípios com acompanhamentos e assessoramento\n",
    "# formulários respondidos\n",
    "form_resp = (80, 100) # % de formulários respondidos\n",
    "orgao_gestor = (1, 3) # possibilidades de orgão gestor por município a cada data de referência\n",
    "campos_por_form = (50, 150) # quantidade de campos por formulário sem contar os identificados para o BI\n",
    "\n",
    "rd.seed(55) # mantem sempre os mesmos parâmetros de randomização"
   ]
  },
  {
   "cell_type": "code",
   "execution_count": null,
   "metadata": {
    "ExecuteTime": {
     "end_time": "2021-10-02T18:47:55.132286Z",
     "start_time": "2021-10-02T18:47:55.118215Z"
    }
   },
   "outputs": [],
   "source": [
    "CAPACITACOES_OFERTADAS = (\n",
    "    'capacitacoesOfertadasGestaoSUAS-conselheiros-quantidadeEstado',\n",
    "    'capacitacoesOfertadasGestaoSUAS-conselheiros-quantidadeGovernoFederal',\n",
    "    'capacitacoesOfertadasGestaoSUAS-conselheiros-quantidadeMunicipio',\n",
    "    'capacitacoesOfertadasGestaoSUAS-gestor-quantidadeEstado',\n",
    "    'capacitacoesOfertadasGestaoSUAS-gestor-quantidadeGovernoFederal',\n",
    "    'capacitacoesOfertadasGestaoSUAS-gestor-quantidadeMunicipio',\n",
    "#     'capacitacoesOfertadasGestaoSUAS-nome',\n",
    "#     'capacitacoesOfertadasGestaoSUAS-quantidadeEstado',\n",
    "#     'capacitacoesOfertadasGestaoSUAS-quantidadeGovernoFederal',\n",
    "#     'capacitacoesOfertadasGestaoSUAS-quantidadeMunicipio',\n",
    "    'capacitacoesOfertadasGestaoSUAS-trabalhadoresDeNivelMedio-quantidadeEstado',\n",
    "    'capacitacoesOfertadasGestaoSUAS-trabalhadoresDeNivelMedio-quantidadeGovernoFederal',\n",
    "    'capacitacoesOfertadasGestaoSUAS-trabalhadoresDeNivelMedio-quantidadeMunicipio',\n",
    "    'capacitacoesOfertadasGestaoSUAS-trabalhadoresDeNivelSuperior-quantidadeEstado',\n",
    "    'capacitacoesOfertadasGestaoSUAS-trabalhadoresDeNivelSuperior-quantidadeGovernoFederal',\n",
    "    'capacitacoesOfertadasGestaoSUAS-trabalhadoresDeNivelSuperior-quantidadeMunicipio',\n",
    "    'capacitacoesOfertadasProtecaoSocialBasica-conselheiros-quantidadeEstado',\n",
    "    'capacitacoesOfertadasProtecaoSocialBasica-conselheiros-quantidadeGovernoFederal',\n",
    "    'capacitacoesOfertadasProtecaoSocialBasica-conselheiros-quantidadeMunicipio',\n",
    "    'capacitacoesOfertadasProtecaoSocialBasica-gestor-quantidadeEstado',\n",
    "    'capacitacoesOfertadasProtecaoSocialBasica-gestor-quantidadeGovernoFederal',\n",
    "    'capacitacoesOfertadasProtecaoSocialBasica-gestor-quantidadeMunicipio',\n",
    "#     'capacitacoesOfertadasProtecaoSocialBasica-nome',\n",
    "#     'capacitacoesOfertadasProtecaoSocialBasica-quantidadeEstado',\n",
    "#     'capacitacoesOfertadasProtecaoSocialBasica-quantidadeGovernoFederal',\n",
    "#     'capacitacoesOfertadasProtecaoSocialBasica-quantidadeMunicipio',\n",
    "    'capacitacoesOfertadasProtecaoSocialBasica-trabalhadoresDeNivelMedio-quantidadeEstado',\n",
    "    'capacitacoesOfertadasProtecaoSocialBasica-trabalhadoresDeNivelMedio-quantidadeGovernoFederal',\n",
    "    'capacitacoesOfertadasProtecaoSocialBasica-trabalhadoresDeNivelMedio-quantidadeMunicipio',\n",
    "    'capacitacoesOfertadasProtecaoSocialBasica-trabalhadoresDeNivelSuperior-quantidadeEstado',\n",
    "    'capacitacoesOfertadasProtecaoSocialBasica-trabalhadoresDeNivelSuperior-quantidadeGovernoFederal',\n",
    "    'capacitacoesOfertadasProtecaoSocialBasica-trabalhadoresDeNivelSuperior-quantidadeMunicipio',\n",
    "    'capacitacoesOfertadasProtecaoSocialControleSocial-conselheiros-quantidadeEstado',\n",
    "    'capacitacoesOfertadasProtecaoSocialControleSocial-conselheiros-quantidadeGovernoFederal',\n",
    "    'capacitacoesOfertadasProtecaoSocialControleSocial-conselheiros-quantidadeMunicipio',\n",
    "    'capacitacoesOfertadasProtecaoSocialControleSocial-gestor-quantidadeEstado',\n",
    "    'capacitacoesOfertadasProtecaoSocialControleSocial-gestor-quantidadeGovernoFederal',\n",
    "    'capacitacoesOfertadasProtecaoSocialControleSocial-gestor-quantidadeMunicipio',\n",
    "#     'capacitacoesOfertadasProtecaoSocialControleSocial-nome',\n",
    "#     'capacitacoesOfertadasProtecaoSocialControleSocial-quantidadeEstado',\n",
    "#     'capacitacoesOfertadasProtecaoSocialControleSocial-quantidadeGovernoFederal',\n",
    "#     'capacitacoesOfertadasProtecaoSocialControleSocial-quantidadeMunicipio',\n",
    "    'capacitacoesOfertadasProtecaoSocialControleSocial-trabalhadoresDeNivelMedio-quantidadeEstado',\n",
    "    'capacitacoesOfertadasProtecaoSocialControleSocial-trabalhadoresDeNivelMedio-quantidadeGovernoFederal',\n",
    "    'capacitacoesOfertadasProtecaoSocialControleSocial-trabalhadoresDeNivelMedio-quantidadeMunicipio',\n",
    "    'capacitacoesOfertadasProtecaoSocialControleSocial-trabalhadoresDeNivelSuperior-quantidadeEstado',\n",
    "    'capacitacoesOfertadasProtecaoSocialControleSocial-trabalhadoresDeNivelSuperior-quantidadeGovernoFederal',\n",
    "    'capacitacoesOfertadasProtecaoSocialControleSocial-trabalhadoresDeNivelSuperior-quantidadeMunicipio',\n",
    "    'capacitacoesOfertadasProtecaoSocialEspecial-conselheiros-quantidadeEstado',\n",
    "    'capacitacoesOfertadasProtecaoSocialEspecial-conselheiros-quantidadeGovernoFederal',\n",
    "    'capacitacoesOfertadasProtecaoSocialEspecial-conselheiros-quantidadeMunicipio',\n",
    "    'capacitacoesOfertadasProtecaoSocialEspecial-gestor-quantidadeEstado',\n",
    "    'capacitacoesOfertadasProtecaoSocialEspecial-gestor-quantidadeGovernoFederal',\n",
    "    'capacitacoesOfertadasProtecaoSocialEspecial-gestor-quantidadeMunicipio',\n",
    "#     'capacitacoesOfertadasProtecaoSocialEspecial-nome',\n",
    "#     'capacitacoesOfertadasProtecaoSocialEspecial-quantidadeEstado',\n",
    "#     'capacitacoesOfertadasProtecaoSocialEspecial-quantidadeGovernoFederal',\n",
    "#     'capacitacoesOfertadasProtecaoSocialEspecial-quantidadeMunicipio',\n",
    "    'capacitacoesOfertadasProtecaoSocialEspecial-trabalhadoresDeNivelMedio-quantidadeEstado',\n",
    "    'capacitacoesOfertadasProtecaoSocialEspecial-trabalhadoresDeNivelMedio-quantidadeGovernoFederal',\n",
    "    'capacitacoesOfertadasProtecaoSocialEspecial-trabalhadoresDeNivelMedio-quantidadeMunicipio',\n",
    "    'capacitacoesOfertadasProtecaoSocialEspecial-trabalhadoresDeNivelSuperior-quantidadeEstado',\n",
    "    'capacitacoesOfertadasProtecaoSocialEspecial-trabalhadoresDeNivelSuperior-quantidadeGovernoFederal',\n",
    "    'capacitacoesOfertadasProtecaoSocialEspecial-trabalhadoresDeNivelSuperior-quantidadeMunicipio'\n",
    ")\n",
    "len(CAPACITACOES_OFERTADAS)"
   ]
  },
  {
   "cell_type": "markdown",
   "metadata": {},
   "source": [
    "# <font color='blue'>3.0 extração</font>"
   ]
  },
  {
   "cell_type": "markdown",
   "metadata": {},
   "source": [
    "## 3.1 extração de dados externo"
   ]
  },
  {
   "cell_type": "code",
   "execution_count": null,
   "metadata": {
    "ExecuteTime": {
     "end_time": "2021-10-02T18:47:57.185489Z",
     "start_time": "2021-10-02T18:47:57.169821Z"
    },
    "scrolled": false
   },
   "outputs": [],
   "source": [
    "# abrindo os arquivos...\n",
    "caminho_in = '../dados/apoio/'\n",
    "caminho_out = '../dados/simulacao/'\n",
    "\n",
    "arq_municipios    = caminho_in + \"tab_municipios_new.csv\"\n",
    "arq_instr_gestao  = caminho_in + \"tab_instr_gestao.csv\"\n",
    "arq_escolaridades = caminho_in + \"tab_escolaridade.csv\"\n",
    "arq_formacoes     = caminho_in + \"tab_formacoes.csv\"\n",
    "arq_cargos        = caminho_in + \"tab_cargos.csv\"\n",
    "\n",
    "with open(arq_escolaridades, encoding=\"utf8\") as f:\n",
    "    lst_tot_escolaridades = list(csv.reader(f))\n",
    "\n",
    "with open(arq_formacoes, encoding=\"utf8\") as f:\n",
    "    lst_tot_formacoes = list(csv.reader(f))\n",
    "    \n",
    "with open(arq_cargos, encoding=\"utf8\") as f:\n",
    "    lst_tot_cargos = list(csv.reader(f))\n",
    "\n",
    "df_municipios =   pd.read_csv(arq_municipios, sep = ',', dtype = str)\n",
    "df_instr_gestao = pd.read_csv(arq_instr_gestao, sep = ',', dtype = str)\n",
    "\n",
    "print(\"municipios:              linhas = %s , colunas = %s \" % df_municipios.shape)\n",
    "print(\"instrumentos de gestão:  linhas = %s , colunas = %s \" % df_instr_gestao.shape)\n",
    "print(\"escolaridades:           linhas = %s \" % len(lst_tot_escolaridades))\n",
    "print(\"formacoes:               linhas = %s \" % len(lst_tot_formacoes))\n",
    "print(\"cargos:                  linhas = %s \" % len(lst_tot_cargos))"
   ]
  },
  {
   "cell_type": "code",
   "execution_count": null,
   "metadata": {
    "ExecuteTime": {
     "end_time": "2021-10-02T18:47:58.202064Z",
     "start_time": "2021-10-02T18:47:58.186976Z"
    }
   },
   "outputs": [],
   "source": [
    "df_municipios"
   ]
  },
  {
   "cell_type": "markdown",
   "metadata": {},
   "source": [
    "# <font color='blue'>4.0 transformação</font>"
   ]
  },
  {
   "cell_type": "markdown",
   "metadata": {},
   "source": [
    "## 4.1 Tabelas de Negócio"
   ]
  },
  {
   "cell_type": "markdown",
   "metadata": {},
   "source": [
    "### 4.1.1 tabela de \"Orgãos Gestores\""
   ]
  },
  {
   "cell_type": "code",
   "execution_count": null,
   "metadata": {
    "ExecuteTime": {
     "end_time": "2021-10-02T18:48:00.378697Z",
     "start_time": "2021-10-02T18:48:00.373387Z"
    }
   },
   "outputs": [],
   "source": [
    "# cria uma tabela de orgãos gestores possíveis\n",
    "# quantidade de orgão gestores na tabela\n",
    "\n",
    "lst_OG = ['Orgão Gestor ' + str(x + 1).zfill(2) for x in range(rd.randint(N_ORGAO_GESTOR[0], N_ORGAO_GESTOR[1]))]\n",
    "lst_OG"
   ]
  },
  {
   "cell_type": "markdown",
   "metadata": {},
   "source": [
    "### 4.1.2 tabela de \"Organização de PPAs\""
   ]
  },
  {
   "cell_type": "code",
   "execution_count": null,
   "metadata": {
    "ExecuteTime": {
     "end_time": "2021-10-02T18:48:01.498431Z",
     "start_time": "2021-10-02T18:48:01.494139Z"
    }
   },
   "outputs": [],
   "source": [
    "lst_org_PPA = (\n",
    "    'Por nível de proteção social',\n",
    "    'Por programas, serviços, projetos e benefícios'\n",
    ")\n",
    "lst_org_PPA"
   ]
  },
  {
   "cell_type": "markdown",
   "metadata": {},
   "source": [
    "### 4.1.3 tabela de \"Escolaridade\""
   ]
  },
  {
   "cell_type": "code",
   "execution_count": null,
   "metadata": {
    "ExecuteTime": {
     "end_time": "2021-10-02T18:48:02.699135Z",
     "start_time": "2021-10-02T18:48:02.693942Z"
    }
   },
   "outputs": [],
   "source": [
    "# sorteia a quantidade de nomes de escolaridades irão para a lista\n",
    "n = rd.randint(N_ESCOLARIDADE[0], N_ESCOLARIDADE[1])\n",
    "\n",
    "# sorteia quais os nomes de escolaridade farão parte dos dados\n",
    "lst_escolaridade = rd.sample(lst_tot_escolaridades, k=n)\n",
    "lst_escolaridade"
   ]
  },
  {
   "cell_type": "markdown",
   "metadata": {},
   "source": [
    "### 4.1.4 tabela de \"Formação\""
   ]
  },
  {
   "cell_type": "code",
   "execution_count": null,
   "metadata": {
    "ExecuteTime": {
     "end_time": "2021-10-02T18:48:03.762360Z",
     "start_time": "2021-10-02T18:48:03.757698Z"
    }
   },
   "outputs": [],
   "source": [
    "# sorteia a quantidade de nomes de formações irão para a lista\n",
    "n = rd.randint(N_FORMACAO[0], N_FORMACAO[1])\n",
    "\n",
    "# sorteia quais os nomes de escolaridade farão parte dos dados\n",
    "lst_formacao = rd.sample(lst_tot_formacoes, k=n)\n",
    "lst_formacao"
   ]
  },
  {
   "cell_type": "markdown",
   "metadata": {},
   "source": [
    "### 4.1.5 tabela de \"Cargo\""
   ]
  },
  {
   "cell_type": "code",
   "execution_count": null,
   "metadata": {
    "ExecuteTime": {
     "end_time": "2021-10-02T18:48:04.950292Z",
     "start_time": "2021-10-02T18:48:04.945880Z"
    }
   },
   "outputs": [],
   "source": [
    "# sorteia a quantidade de nomes de cargos irão para a lista\n",
    "n = rd.randint(N_CARGO[0], N_CARGO[1])\n",
    "\n",
    "# sorteia quais os nomes de escolaridade farão parte dos dados\n",
    "lst_cargo = rd.sample(lst_tot_cargos, k=n)\n",
    "lst_cargo"
   ]
  },
  {
   "cell_type": "markdown",
   "metadata": {},
   "source": [
    "### 4.1.6 tabela \"Município\""
   ]
  },
  {
   "cell_type": "code",
   "execution_count": null,
   "metadata": {
    "ExecuteTime": {
     "end_time": "2021-10-02T18:48:06.025928Z",
     "start_time": "2021-10-02T18:48:06.017687Z"
    }
   },
   "outputs": [],
   "source": [
    "df_municipios = df_municipios[['municipio']]\n",
    "df_municipios"
   ]
  },
  {
   "cell_type": "markdown",
   "metadata": {},
   "source": [
    "### 4.1.7 tabela \"Serviço/Formulário\""
   ]
  },
  {
   "cell_type": "code",
   "execution_count": null,
   "metadata": {
    "ExecuteTime": {
     "end_time": "2021-10-02T18:48:07.298727Z",
     "start_time": "2021-10-02T18:48:07.289668Z"
    }
   },
   "outputs": [],
   "source": [
    "# lista de serviços (cada serviço é equivalente e um formulário)\n",
    "tup_servicos = (\n",
    "    ('Questionário Semestral - Município',  'semestral', 'municipios'),\n",
    "    ('Questionário Semestral - SEDES', 'semestral', 'sedes')\n",
    ")\n",
    "df_tb_servicos = pd.DataFrame(tup_servicos, columns=['servico', 'periodicidade', 'alvo'])\n",
    "df_tb_servicos"
   ]
  },
  {
   "cell_type": "markdown",
   "metadata": {},
   "source": [
    "### 4.1.8 serviços/formulário x campos fictícios"
   ]
  },
  {
   "cell_type": "code",
   "execution_count": null,
   "metadata": {
    "ExecuteTime": {
     "end_time": "2021-10-02T18:48:08.425168Z",
     "start_time": "2021-10-02T18:48:08.421834Z"
    }
   },
   "outputs": [],
   "source": [
    "# função que gera valores para campos fictícios\n",
    "def GeraValor(tp):\n",
    "    vl = '0'\n",
    "    if tp == 'STRING':\n",
    "        vl = 'valor_' + str(rd.randint(1, 1000))\n",
    "    return vl"
   ]
  },
  {
   "cell_type": "code",
   "execution_count": null,
   "metadata": {
    "ExecuteTime": {
     "end_time": "2021-10-02T18:48:09.099446Z",
     "start_time": "2021-10-02T18:48:09.086040Z"
    }
   },
   "outputs": [],
   "source": [
    "# lista de campos por serviço/formulário\n",
    "cont = 0; lst_campos = []\n",
    "for i in tup_servicos:\n",
    "    n_campos = rd.randint(10, 15)\n",
    "    for j in range(n_campos):\n",
    "        cont += 1\n",
    "        lst = [i[0], 'col_' + str(cont), 'STRING']\n",
    "        lst_campos.append(lst)\n",
    "lst_campos\n",
    "\n",
    "df_campos_fic = pd.DataFrame(lst_campos, columns=['servico', 'atributo', 'tipo'])\n",
    "df_campos_fic"
   ]
  },
  {
   "cell_type": "markdown",
   "metadata": {},
   "source": [
    "## (A) Módulo Semestral"
   ]
  },
  {
   "cell_type": "markdown",
   "metadata": {},
   "source": [
    "### A.1 gera datas base - semestral"
   ]
  },
  {
   "cell_type": "code",
   "execution_count": null,
   "metadata": {
    "ExecuteTime": {
     "end_time": "2021-10-02T18:48:10.742483Z",
     "start_time": "2021-10-02T18:48:10.732492Z"
    }
   },
   "outputs": [],
   "source": [
    "# cria uma coleção de datas de referências de todos os semestres desde o início até hoje\n",
    "# confirma que a data inicial é o primeiro dia do semestre\n",
    "dt_inicial = dt.date(DATA_INICIAL[0], 1 if DATA_INICIAL[1] <= 6 else 7, 1)\n",
    "\n",
    "# monta uma lista de todos os semestres desde a data inicial até hoje\n",
    "lst_dt_semestral = []; dt_atual = dt_inicial\n",
    "while dt_atual < dt.date.today():\n",
    "    dtf = dt_atual + relativedelta(months = 6) - relativedelta(days = 1)\n",
    "    n_dias = (dtf - dt_atual).days\n",
    "    lst_dt_semestral.append([dt_atual, dtf, n_dias])\n",
    "    dt_atual = dt_atual + relativedelta(months = 6)\n",
    "\n",
    "# substitui a última data pela data de hoje\n",
    "lst_dt_semestral[len(lst_dt_semestral) - 1][1] = dt.date.today()\n",
    "lst_dt_semestral[len(lst_dt_semestral) - 1][2] = (lst_dt_semestral[len(lst_dt_semestral) - 1][1] - lst_dt_semestral[len(lst_dt_semestral) - 1][0]).days\n",
    "lst_dt_semestral"
   ]
  },
  {
   "cell_type": "markdown",
   "metadata": {},
   "source": [
    "### A.2 BASE formulários MUNICÍPIOS"
   ]
  },
  {
   "cell_type": "markdown",
   "metadata": {},
   "source": [
    "#### A.2.1 Protocolos/Dt_Protocolos/Municípios"
   ]
  },
  {
   "cell_type": "code",
   "execution_count": null,
   "metadata": {
    "ExecuteTime": {
     "end_time": "2021-10-02T18:48:12.657394Z",
     "start_time": "2021-10-02T18:48:12.541761Z"
    },
    "scrolled": true
   },
   "outputs": [],
   "source": [
    "# cria a combinação de municípios e serviços para alvo \"municípios\"\n",
    "dfa = df_tb_servicos[df_tb_servicos['alvo'] == 'municipios'][['servico', 'periodicidade']]\n",
    "df = pd.merge(dfa, df_municipios, how='cross')\n",
    "\n",
    "# cria datas de protocolos\n",
    "lst = []; pct = 1\n",
    "for idx in range(df.shape[0]):\n",
    "    for i in lst_dt_semestral:\n",
    "        n_protocolos = rd.randint(0, 3)\n",
    "        if n_protocolos > 0:\n",
    "            lst.append([idx, 'pct_m_' + str(pct), i[0],\n",
    "                        df.loc[idx, 'servico'], df.loc[idx, 'municipio']])\n",
    "            pct += 1\n",
    "            for j in range(1, n_protocolos):\n",
    "                dias = rd.randint(1, i[2])\n",
    "                dt = i[0] + relativedelta(days = dias)\n",
    "                lst.append([idx, 'pct_m_' + str(pct), dt, \n",
    "                            df.loc[idx, 'servico'], df.loc[idx, 'municipio']])\n",
    "                pct += 1\n",
    "df_pct_mu = pd.DataFrame(lst, columns=['idx', 'protocolo', 'dt_protocolo', 'servico', 'municipio'])\n",
    "lst_pct_mu = list(df_pct_mu['protocolo'])\n",
    "display(df_pct_mu)"
   ]
  },
  {
   "cell_type": "markdown",
   "metadata": {},
   "source": [
    "#### A.2.2 Campos Fictícios para servirços de respondedor município - (A.2.1) x (4.1.8)"
   ]
  },
  {
   "cell_type": "code",
   "execution_count": null,
   "metadata": {
    "ExecuteTime": {
     "end_time": "2021-10-02T18:48:14.094395Z",
     "start_time": "2021-10-02T18:48:14.013247Z"
    }
   },
   "outputs": [],
   "source": [
    "# gera dataset principal a partir de campos fictícios e do dataset de protocolos\n",
    "df_final = pd.merge(df_pct_mu, df_campos_fic).drop(['idx', 'municipio'], axis=1)\n",
    "\n",
    "# atribui valor aos campos fictícios\n",
    "df_final['valor'] = df_final['tipo'].apply(GeraValor)\n",
    "df_final"
   ]
  },
  {
   "cell_type": "markdown",
   "metadata": {},
   "source": [
    "#### A.2.4 Gera linha/campo com atributo \"município\" e concatena com campos fictícios - (A.2.3)"
   ]
  },
  {
   "cell_type": "code",
   "execution_count": null,
   "metadata": {
    "ExecuteTime": {
     "end_time": "2021-10-02T18:48:15.407656Z",
     "start_time": "2021-10-02T18:48:15.381905Z"
    }
   },
   "outputs": [],
   "source": [
    "# gera um dataset temporário de atributos municípios\n",
    "df_tmp = df_pct_mu.copy()\n",
    "df_tmp['atributo'] = 'municipio'\n",
    "df_tmp['tipo'] = 'STRING'\n",
    "df_tmp = df_tmp.rename(columns={'municipio': 'valor'})\n",
    "df_tmp = df_tmp.drop(['idx'], axis=1)\n",
    "\n",
    "# gera dataset final para aplicar os registros de negócio\n",
    "df_final = pd.concat([df_final, df_tmp])\n",
    "df_final"
   ]
  },
  {
   "cell_type": "markdown",
   "metadata": {},
   "source": [
    "### A.3 BASE formulários SEDES-MA"
   ]
  },
  {
   "cell_type": "markdown",
   "metadata": {},
   "source": [
    "#### A.3.1 Protocolos/Dt_Protocolos/Sedes"
   ]
  },
  {
   "cell_type": "code",
   "execution_count": null,
   "metadata": {
    "ExecuteTime": {
     "end_time": "2021-10-02T18:48:17.007769Z",
     "start_time": "2021-10-02T18:48:16.988694Z"
    }
   },
   "outputs": [],
   "source": [
    "# cria a combinação de municípios e serviços para alvo \"SEDES\"\n",
    "df = df_tb_servicos[df_tb_servicos['alvo'] == 'sedes'][['servico', 'periodicidade']].reset_index()\n",
    "df['respondedor'] = 'sedes'\n",
    "\n",
    "# cria datas de protocolos\n",
    "lst = []; pct = 1\n",
    "for idx in range(df.shape[0]):\n",
    "    for i in lst_dt_semestral:\n",
    "        n_protocolos = rd.randint(0, 3)\n",
    "        if n_protocolos > 0:\n",
    "            lst.append([idx, 'pct_s_' + str(pct), i[0], \n",
    "                        df.loc[idx, 'servico'], df.loc[idx, 'respondedor']])\n",
    "            pct += 1\n",
    "            for j in range(1, n_protocolos):\n",
    "                dias = rd.randint(1, i[2])\n",
    "                dt = i[0] + relativedelta(days = dias)\n",
    "                lst.append([idx, 'pct_s_' + str(pct), dt, \n",
    "                            df.loc[idx, 'servico'], df.loc[idx, 'respondedor']])\n",
    "                pct += 1\n",
    "df_pct_se = pd.DataFrame(lst, columns=['idx', 'protocolo', 'dt_protocolo', 'servico', 'respondedor'])\n",
    "lst_pct_se = list(df_pct_se['protocolo'])\n",
    "display(df_pct_se)"
   ]
  },
  {
   "cell_type": "markdown",
   "metadata": {},
   "source": [
    "#### A.3.2 Campos Fictícios para servirços de respondedor SEDES - (A.3.1) x (4.1.8)"
   ]
  },
  {
   "cell_type": "code",
   "execution_count": null,
   "metadata": {
    "ExecuteTime": {
     "end_time": "2021-10-02T18:48:18.972691Z",
     "start_time": "2021-10-02T18:48:18.949049Z"
    }
   },
   "outputs": [],
   "source": [
    "# gera campos fictícios a partir do dataset de protocolos e colunas fictícias\n",
    "df_tmp = pd.merge(df_pct_se, df_campos_fic).drop(['idx', 'respondedor'], axis=1)\n",
    "\n",
    "# atribui valor aos campos fictícios\n",
    "df_tmp['valor'] = df_tmp['tipo'].apply(GeraValor)\n",
    "\n",
    "# concatena os campos fictícios ao dataset principal\n",
    "df_final = pd.concat([df_final, df_tmp])\n",
    "df_final"
   ]
  },
  {
   "cell_type": "markdown",
   "metadata": {},
   "source": [
    "### A.3 NEGOCIO formulários Municípios"
   ]
  },
  {
   "cell_type": "markdown",
   "metadata": {},
   "source": [
    "### E.1 Orgão Gestor"
   ]
  },
  {
   "cell_type": "code",
   "execution_count": null,
   "metadata": {
    "ExecuteTime": {
     "end_time": "2021-10-02T18:48:20.572300Z",
     "start_time": "2021-10-02T18:48:20.525294Z"
    }
   },
   "outputs": [],
   "source": [
    "# TIPO 1 - 1 registro por protocolo\n",
    "# métrica Órgão Gestor\n",
    "colunas = ['protocolo', 'dt_protocolo', 'servico']\n",
    "df_tmp = df_pct_mu[(df_pct_mu['servico'] == tup_servicos[0][0])][colunas]\n",
    "df_tmp['atributo'] = ORGAO_GESTOR\n",
    "df_tmp['tipo'] = 'STRING'\n",
    "df_tmp['valor'] = df_tmp.apply(lambda row: rd.sample(lst_OG, k=1)[0], axis=1)\n",
    "\n",
    "df_final = pd.concat([df_final, df_tmp])\n",
    "df_final"
   ]
  },
  {
   "cell_type": "markdown",
   "metadata": {},
   "source": [
    "### E.2 Instrumentos de Gestão"
   ]
  },
  {
   "cell_type": "code",
   "execution_count": null,
   "metadata": {
    "ExecuteTime": {
     "end_time": "2021-10-02T18:48:21.695370Z",
     "start_time": "2021-10-02T18:48:21.617015Z"
    }
   },
   "outputs": [],
   "source": [
    "# TIPO 2 - n registros por protocolo\n",
    "# métrica Órgão Gestor\n",
    "tup_vls = ('false', 'true')\n",
    "lst_tmp = []\n",
    "for i in lst_pct_mu:\n",
    "    for k in TUP_INSTR_GESTAO:\n",
    "        atributo = k\n",
    "        tipo = 'STRING'\n",
    "        valor = rd.sample(tup_vls, k=1)[0]\n",
    "        lst_tmp.append([i, atributo, tipo, valor])\n",
    "\n",
    "df_tmp = pd.DataFrame(lst_tmp, columns=['protocolo', 'atributo', 'tipo', 'valor'])\n",
    "df_tmp = pd.merge(df_pct_mu, df_tmp).drop(['idx', 'municipio'], axis=1)\n",
    "\n",
    "df_final = pd.concat([df_final, df_tmp])\n",
    "df_final"
   ]
  },
  {
   "cell_type": "markdown",
   "metadata": {},
   "source": [
    "### E.3 Áreas Essenciais"
   ]
  },
  {
   "cell_type": "code",
   "execution_count": null,
   "metadata": {
    "ExecuteTime": {
     "end_time": "2021-10-02T18:48:22.839298Z",
     "start_time": "2021-10-02T18:48:22.777827Z"
    }
   },
   "outputs": [],
   "source": [
    "# TIPO 2 - n registros por protocolo\n",
    "# métrica Áreas Essenciais\n",
    "tup_vls = ('false', 'true')\n",
    "lst_tmp = []\n",
    "for i in lst_pct_mu:\n",
    "    for k in AREAS_ESSENCIAIS:\n",
    "        atributo = k\n",
    "        tipo = 'STRING'\n",
    "        valor = rd.sample(tup_vls, k=1)[0]\n",
    "        lst_tmp.append([i, atributo, tipo, valor])\n",
    "\n",
    "df_tmp = pd.DataFrame(lst_tmp, columns=['protocolo', 'atributo', 'tipo', 'valor'])\n",
    "df_tmp = pd.merge(df_pct_mu, df_tmp).drop(['idx', 'municipio'], axis=1)\n",
    "\n",
    "df_final = pd.concat([df_final, df_tmp])\n",
    "df_final"
   ]
  },
  {
   "cell_type": "markdown",
   "metadata": {},
   "source": [
    "### E.4 Organização PPA"
   ]
  },
  {
   "cell_type": "code",
   "execution_count": null,
   "metadata": {
    "ExecuteTime": {
     "end_time": "2021-10-02T18:48:23.940208Z",
     "start_time": "2021-10-02T18:48:23.897127Z"
    }
   },
   "outputs": [],
   "source": [
    "# TIPO 1 - 1 registro por protocolo\n",
    "# métrica Organização de PPA no município\n",
    "colunas = ['protocolo', 'dt_protocolo', 'servico']\n",
    "df_tmp = df_pct_mu[(df_pct_mu['servico'] == tup_servicos[0][0])][colunas]\n",
    "df_tmp['atributo'] = ORGANIZACAO_PPA\n",
    "df_tmp['tipo'] = 'STRING'\n",
    "df_tmp['valor'] = df_tmp.apply(lambda row: rd.sample(lst_org_PPA, k=1)[0], axis=1)\n",
    "\n",
    "df_final = pd.concat([df_final, df_tmp])\n",
    "df_final"
   ]
  },
  {
   "cell_type": "markdown",
   "metadata": {},
   "source": [
    "### E.5 Vigilância Socioassistencial - VS"
   ]
  },
  {
   "cell_type": "code",
   "execution_count": null,
   "metadata": {
    "ExecuteTime": {
     "end_time": "2021-10-02T18:48:25.110556Z",
     "start_time": "2021-10-02T18:48:25.028834Z"
    }
   },
   "outputs": [],
   "source": [
    "# TIPO 2 - n registros por protocolo\n",
    "# métrica Vigilância SocioAssistencial\n",
    "tup_vls = ('false', 'true')\n",
    "lst_tmp = []\n",
    "for i in lst_pct_mu:\n",
    "    for k in VS:\n",
    "        atributo = k\n",
    "        tipo = 'STRING'\n",
    "        valor = rd.sample(tup_vls, k=1)[0]\n",
    "        lst_tmp.append([i, atributo, tipo, valor])\n",
    "\n",
    "df_tmp = pd.DataFrame(lst_tmp, columns=['protocolo', 'atributo', 'tipo', 'valor'])\n",
    "df_tmp = pd.merge(df_pct_mu, df_tmp).drop(['idx', 'municipio'], axis=1)\n",
    "\n",
    "df_final = pd.concat([df_final, df_tmp])\n",
    "df_final"
   ]
  },
  {
   "cell_type": "markdown",
   "metadata": {},
   "source": [
    "### E.6 Monitoramento da Alimentação de Dados da Rede SUAS"
   ]
  },
  {
   "cell_type": "code",
   "execution_count": null,
   "metadata": {
    "ExecuteTime": {
     "end_time": "2021-10-02T18:48:26.269215Z",
     "start_time": "2021-10-02T18:48:26.169235Z"
    }
   },
   "outputs": [],
   "source": [
    "# TIPO 2 - n registros por protocolo\n",
    "# Monitoramento de Sistemas\n",
    "tup_vls = ('false', 'true')\n",
    "lst_tmp = []\n",
    "for i in lst_pct_mu:\n",
    "    for k in MONITORA_SISTEMAS:\n",
    "        atributo = PREFIXO_MONITORA_SISTEMAS + k\n",
    "        tipo = 'STRING'\n",
    "        valor = rd.sample(tup_vls, k=1)[0]\n",
    "        lst_tmp.append([i, atributo, tipo, valor])\n",
    "\n",
    "df_tmp = pd.DataFrame(lst_tmp, columns=['protocolo', 'atributo', 'tipo', 'valor'])\n",
    "df_tmp = pd.merge(df_pct_mu, df_tmp).drop(['idx', 'municipio'], axis=1)\n",
    "\n",
    "df_final = pd.concat([df_final, df_tmp])\n",
    "df_final"
   ]
  },
  {
   "cell_type": "markdown",
   "metadata": {},
   "source": [
    "### E.7 Alimentação de Dados da Rede SUAS"
   ]
  },
  {
   "cell_type": "code",
   "execution_count": null,
   "metadata": {
    "ExecuteTime": {
     "end_time": "2021-10-02T18:48:27.352294Z",
     "start_time": "2021-10-02T18:48:27.252924Z"
    }
   },
   "outputs": [],
   "source": [
    "# TIPO 2 - n registros por protocolo\n",
    "# Alimentação de Dados no sistema da Rede SUAS\n",
    "tup_vls = ('false', 'true')\n",
    "lst_tmp = []\n",
    "for i in lst_pct_mu:\n",
    "    for k in ALIMENTA_SUAS:\n",
    "        atributo = k\n",
    "        tipo = 'STRING'\n",
    "        valor = rd.sample(tup_vls, k=1)[0]\n",
    "        lst_tmp.append([i, atributo, tipo, valor])\n",
    "\n",
    "df_tmp = pd.DataFrame(lst_tmp, columns=['protocolo', 'atributo', 'tipo', 'valor'])\n",
    "df_tmp = pd.merge(df_pct_mu, df_tmp).drop(['idx', 'municipio'], axis=1)\n",
    "\n",
    "df_final = pd.concat([df_final, df_tmp])\n",
    "df_final"
   ]
  },
  {
   "cell_type": "markdown",
   "metadata": {},
   "source": [
    "### E.8 Equipe que compõem setor de VS"
   ]
  },
  {
   "cell_type": "code",
   "execution_count": null,
   "metadata": {
    "ExecuteTime": {
     "end_time": "2021-10-02T18:48:28.361210Z",
     "start_time": "2021-10-02T18:48:28.356666Z"
    }
   },
   "outputs": [],
   "source": [
    "def SorteiaEquipe():\n",
    "    n = rd.randint(N_EQUIPE_VS[0], N_EQUIPE_VS[1])\n",
    "    lst_tudo = []\n",
    "    # monta a estrutura de profissionais e seus atributos\n",
    "    for i in range(n):\n",
    "        lst_linha = []\n",
    "        lst_linha.append(names.get_full_name())\n",
    "        lst_linha.append(rd.sample(lst_escolaridade, k=1)[0][0])\n",
    "        lst_linha.append(rd.sample(lst_formacao, k=1)[0][0])\n",
    "        lst_linha.append(rd.sample(lst_cargo, k=1)[0][0])\n",
    "        lst_linha.append(rd.randint(1, 8))\n",
    "\n",
    "        lst_tudo.append(lst_linha)\n",
    "    \n",
    "    return (lst_tudo)"
   ]
  },
  {
   "cell_type": "code",
   "execution_count": null,
   "metadata": {
    "ExecuteTime": {
     "end_time": "2021-10-02T18:49:09.180397Z",
     "start_time": "2021-10-02T18:48:28.968980Z"
    },
    "scrolled": false
   },
   "outputs": [],
   "source": [
    "# TIPO 3 - n registros e n colunas por protocolo\n",
    "# estipula a quantidade de profissionais que vão compor a equipe do setor de VS\n",
    "# para cada protocolo e para cada atributo estipula as colunas\n",
    "lst_tmp = []\n",
    "for i in lst_pct_mu:\n",
    "    lst_sort = SorteiaEquipe()\n",
    "    for idx, j in enumerate(lst_sort):\n",
    "        \n",
    "        for idx_k, k in enumerate(EQUIPE_VS):\n",
    "            atributo = k['prefixo'] + '-' + str(idx) + '-' + k['sufixo']\n",
    "            tipo = k['tipo']\n",
    "            valor = j[idx_k]\n",
    "            lst_tmp.append([i, atributo, tipo, valor])\n",
    "\n",
    "\n",
    "df_tmp = pd.DataFrame(lst_tmp, columns=['protocolo', 'atributo', 'tipo', 'valor'])\n",
    "df_tmp = pd.merge(df_pct_mu, df_tmp).drop(['idx', 'municipio'], axis=1)\n",
    "\n",
    "df_final = pd.concat([df_final, df_tmp])\n",
    "df_final"
   ]
  },
  {
   "cell_type": "markdown",
   "metadata": {},
   "source": [
    "### E.9 Capacitações Ofertadas"
   ]
  },
  {
   "cell_type": "code",
   "execution_count": null,
   "metadata": {
    "ExecuteTime": {
     "end_time": "2021-10-02T18:49:09.520447Z",
     "start_time": "2021-10-02T18:49:09.182897Z"
    }
   },
   "outputs": [],
   "source": [
    "# para cada protocolo e para cada atributo estipula as colunas\n",
    "lst_co = []\n",
    "for i in lst_pct_mu:\n",
    "    for k in CAPACITACOES_OFERTADAS:\n",
    "        atributo = k\n",
    "        tipo = 'INTEGER'\n",
    "        valor = rd.randint(N_CAPACITACOES_OFERTADAS[0], N_CAPACITACOES_OFERTADAS[1])\n",
    "        lst_co.append([i, atributo, tipo, valor])\n",
    "\n",
    "df_tmp = pd.DataFrame(lst_co, columns=['protocolo', 'atributo', 'tipo', 'valor'])\n",
    "df_tmp = pd.merge(df_pct_mu, df_tmp).drop(['idx', 'municipio'], axis=1)\n",
    "\n",
    "df_final = pd.concat([df_final, df_tmp])\n",
    "df_final"
   ]
  },
  {
   "cell_type": "markdown",
   "metadata": {},
   "source": [
    "### E.10 Acompanhamento e assessoramento técnico estadual sobre o PAS"
   ]
  },
  {
   "cell_type": "code",
   "execution_count": null,
   "metadata": {
    "ExecuteTime": {
     "end_time": "2021-10-02T18:49:14.647774Z",
     "start_time": "2021-10-02T18:49:14.575305Z"
    }
   },
   "outputs": [],
   "source": [
    "# para cada protocolo e para cada atributo estipula as colunas\n",
    "lst_aco = []\n",
    "for i in lst_pct_se:\n",
    "    for k in ACOMP_ASSESS_PAS:\n",
    "        atributo = k\n",
    "        tipo = 'INTEGER'\n",
    "        valor = rd.randint(N_ACOMP_ASSESS_PAS[0], N_ACOMP_ASSESS_PAS[1])\n",
    "        lst_aco.append([i, atributo, tipo, valor])\n",
    "\n",
    "df_tmp = pd.DataFrame(lst_aco, columns=['protocolo', 'atributo', 'tipo', 'valor'])\n",
    "df_tmp = pd.merge(df_pct_se, df_tmp).drop(['idx', 'respondedor'], axis=1)\n",
    "\n",
    "df_final = pd.concat([df_final, df_tmp])\n",
    "df_final"
   ]
  },
  {
   "cell_type": "markdown",
   "metadata": {},
   "source": [
    "### E.11 Atividades de Contrôle Social realizadas pelo Estado"
   ]
  },
  {
   "cell_type": "code",
   "execution_count": null,
   "metadata": {
    "ExecuteTime": {
     "end_time": "2021-10-02T18:49:16.065880Z",
     "start_time": "2021-10-02T18:49:15.994823Z"
    }
   },
   "outputs": [],
   "source": [
    "# para cada protocolo e para cada atributo estipula as colunas\n",
    "lst_aco = []\n",
    "for i in lst_pct_se:\n",
    "    for k in ACS_ESTADO:\n",
    "        atributo = k\n",
    "        tipo = 'INTEGER'\n",
    "        valor = rd.randint(N_ACS_ESTADO[0], N_ACS_ESTADO[1])\n",
    "        lst_aco.append([i, atributo, tipo, valor])\n",
    "\n",
    "df_tmp = pd.DataFrame(lst_aco, columns=['protocolo', 'atributo', 'tipo', 'valor'])\n",
    "df_tmp = pd.merge(df_pct_se, df_tmp).drop(['idx', 'respondedor'], axis=1)\n",
    "\n",
    "df_final = pd.concat([df_final, df_tmp])\n",
    "df_final"
   ]
  },
  {
   "cell_type": "markdown",
   "metadata": {},
   "source": [
    "# <font color='blue'>5.0 carga</font>"
   ]
  },
  {
   "cell_type": "code",
   "execution_count": null,
   "metadata": {
    "ExecuteTime": {
     "end_time": "2021-10-02T18:49:18.595655Z",
     "start_time": "2021-10-02T18:49:17.183604Z"
    }
   },
   "outputs": [],
   "source": [
    "# grava tabelas\n",
    "df_final.to_csv(caminho_out + 'dataset_sedes.csv', index=False)"
   ]
  },
  {
   "cell_type": "code",
   "execution_count": null,
   "metadata": {
    "ExecuteTime": {
     "end_time": "2021-10-02T18:57:37.167041Z",
     "start_time": "2021-10-02T18:57:37.162138Z"
    }
   },
   "outputs": [],
   "source": [
    "# tipo 0-normal, 1-sqlalchemy\n",
    "def ConectaBD(bd, tipo):\n",
    "    \n",
    "    s_host = 'localhost'\n",
    "    s_bd   = bd\n",
    "    s_user = 'gd' \n",
    "    s_pw   = 'Cavaquinho@Dourado@6390'\n",
    "    \n",
    "    if tipo == 0:\n",
    "        cn = mysql.connector.connect(\n",
    "            host        = s_host, \n",
    "            database    = s_bd, \n",
    "            user        = s_user, \n",
    "            password    = s_pw,\n",
    "            auth_plugin = 'mysql_native_password'\n",
    "        )\n",
    "    elif tipo == 1:\n",
    "        st = sa.engine.url.URL.create(\n",
    "            drivername ='mysql+pymysql',\n",
    "            username    =s_user,\n",
    "            password    =s_pw,\n",
    "            host        =s_host,\n",
    "#             port='3307',\n",
    "            database    =s_bd,\n",
    "        )\n",
    "        eng = sa.create_engine(st)\n",
    "        cn = eng.connect()\n",
    "    else:\n",
    "        cn = None\n",
    "        \n",
    "    return cn"
   ]
  },
  {
   "cell_type": "code",
   "execution_count": null,
   "metadata": {
    "ExecuteTime": {
     "end_time": "2021-10-02T19:22:15.001973Z",
     "start_time": "2021-10-02T19:22:06.513510Z"
    }
   },
   "outputs": [],
   "source": [
    "# grava dados de simulação no MySQL\n",
    "# create sqlalchemy engine\n",
    "    \n",
    "print('LoadBD - carregando tabelas no BD ...')\n",
    "\n",
    "try:\n",
    "    dbConn = ConectaBD('bd_sedes_simula_fontes', 1)\n",
    "\n",
    "    start_time = time.time()\n",
    "    print('carregando tabela dataset_sedes... ', end='')\n",
    "    df_final.to_sql('dataset_sedes', con=dbConn, if_exists='replace', index=False, chunksize = 10000)\n",
    "    print('OK {0: .2f}'.format((time.time() - start_time)))\n",
    "\n",
    "except ValueError as vx:\n",
    "    print('ERROR -', vx)\n",
    "\n",
    "except Exception as ex: \n",
    "    print('EXCEPTION -', ex)\n",
    "\n",
    "else:\n",
    "    print('Tabelas criadas com sucesso');  \n",
    "\n",
    "finally:\n",
    "    dbConn.close()"
   ]
  },
  {
   "cell_type": "markdown",
   "metadata": {},
   "source": [
    "# TESTES"
   ]
  }
 ],
 "metadata": {
  "kernelspec": {
   "display_name": "Python 3 (ipykernel)",
   "language": "python",
   "name": "python3"
  },
  "language_info": {
   "codemirror_mode": {
    "name": "ipython",
    "version": 3
   },
   "file_extension": ".py",
   "mimetype": "text/x-python",
   "name": "python",
   "nbconvert_exporter": "python",
   "pygments_lexer": "ipython3",
   "version": "3.8.11"
  }
 },
 "nbformat": 4,
 "nbformat_minor": 4
}
